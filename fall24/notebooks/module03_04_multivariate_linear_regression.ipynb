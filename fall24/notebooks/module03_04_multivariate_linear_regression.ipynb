{
 "cells": [
  {
   "cell_type": "markdown",
   "metadata": {},
   "source": [
    "*This notebook is part of  course materials for CS 345: Machine Learning Foundations and Practice at Colorado State University.\n",
    "Original versions were created by Asa Ben-Hur.\n",
    "The content is availabe [on GitHub](https://github.com/asabenhur/CS345).*\n",
    "\n",
    "*The text is released under the [CC BY-SA license](https://creativecommons.org/licenses/by-sa/4.0/), and code is released under the [MIT license](https://opensource.org/licenses/MIT).*"
   ]
  },
  {
   "cell_type": "markdown",
   "metadata": {},
   "source": [
    "<a href=\"https://colab.research.google.com/github/asabenhur/CS345/blob/master/fall24/notebooks/module03_04_multivariate_linear_regression.ipynb\">\n",
    "  <img align=\"left\" src=\"https://colab.research.google.com/assets/colab-badge.svg\" alt=\"Open In Colab\"/>\n",
    "</a>"
   ]
  },
  {
   "cell_type": "markdown",
   "metadata": {},
   "source": [
    "# Multivariate Linear Regression\n",
    "\n",
    "*Adapted from Chapter 3 of [An Introduction to Statistical Learning](https://www.statlearning.com/)*"
   ]
  },
  {
   "cell_type": "code",
   "execution_count": 14,
   "metadata": {},
   "outputs": [],
   "source": [
    "import pandas as pd\n",
    "import numpy as np\n",
    "np.set_printoptions(precision=4)\n",
    "import matplotlib.pyplot as plt"
   ]
  },
  {
   "cell_type": "markdown",
   "metadata": {},
   "source": [
    "### Linear regression with multiple features\n",
    "\n",
    "Univariate linear regression can easily be extended to include multiple features, leading to **multivariate linear regression**.  Instead of using a single variable to make a prediction, we use a vector of variables:\n",
    "\n",
    "$$\n",
    "\\hat{y} = w_1x_1 + \\ldots + w_dx_d + b = \\mathbf{w}^\\top \\mathbf{x} + b\n",
    "$$\n",
    "\n",
    "As usual the variables $x_i$ represents the features, and each feature is associated a parameter $w_i$.  In our advertising data for example, $\\mathbf{x} = (x_1,x_2, x_3)^\\top$, and $\\mathbf{w} = (w_1,w_2, w_3)^\\top$ for TV, radio and newspaper advertising, respectively.\n",
    "\n",
    "As in the univariate case, the parameters are chosen to minimize the sum-squared error:\n",
    "$$\n",
    "J( \\mathbf{w},b ) = \\sum_{i=1}^N (y_i - \\hat{y}_i)^2,\n",
    "$$\n",
    "where \n",
    "$$\n",
    "\\hat{y}_i = \\mathbf{w}^\\top \\mathbf{x}_i + b.\n",
    "$$\n",
    "\n",
    "Let's demonstrate on the advertising data:"
   ]
  },
  {
   "cell_type": "code",
   "execution_count": 15,
   "metadata": {},
   "outputs": [
    {
     "data": {
      "text/html": [
       "<div>\n",
       "<style scoped>\n",
       "    .dataframe tbody tr th:only-of-type {\n",
       "        vertical-align: middle;\n",
       "    }\n",
       "\n",
       "    .dataframe tbody tr th {\n",
       "        vertical-align: top;\n",
       "    }\n",
       "\n",
       "    .dataframe thead th {\n",
       "        text-align: right;\n",
       "    }\n",
       "</style>\n",
       "<table border=\"1\" class=\"dataframe\">\n",
       "  <thead>\n",
       "    <tr style=\"text-align: right;\">\n",
       "      <th></th>\n",
       "      <th>TV</th>\n",
       "      <th>radio</th>\n",
       "      <th>newspaper</th>\n",
       "      <th>sales</th>\n",
       "    </tr>\n",
       "  </thead>\n",
       "  <tbody>\n",
       "    <tr>\n",
       "      <th>1</th>\n",
       "      <td>230.1</td>\n",
       "      <td>37.8</td>\n",
       "      <td>69.2</td>\n",
       "      <td>22.1</td>\n",
       "    </tr>\n",
       "    <tr>\n",
       "      <th>2</th>\n",
       "      <td>44.5</td>\n",
       "      <td>39.3</td>\n",
       "      <td>45.1</td>\n",
       "      <td>10.4</td>\n",
       "    </tr>\n",
       "    <tr>\n",
       "      <th>3</th>\n",
       "      <td>17.2</td>\n",
       "      <td>45.9</td>\n",
       "      <td>69.3</td>\n",
       "      <td>9.3</td>\n",
       "    </tr>\n",
       "    <tr>\n",
       "      <th>4</th>\n",
       "      <td>151.5</td>\n",
       "      <td>41.3</td>\n",
       "      <td>58.5</td>\n",
       "      <td>18.5</td>\n",
       "    </tr>\n",
       "    <tr>\n",
       "      <th>5</th>\n",
       "      <td>180.8</td>\n",
       "      <td>10.8</td>\n",
       "      <td>58.4</td>\n",
       "      <td>12.9</td>\n",
       "    </tr>\n",
       "  </tbody>\n",
       "</table>\n",
       "</div>"
      ],
      "text/plain": [
       "      TV  radio  newspaper  sales\n",
       "1  230.1   37.8       69.2   22.1\n",
       "2   44.5   39.3       45.1   10.4\n",
       "3   17.2   45.9       69.3    9.3\n",
       "4  151.5   41.3       58.5   18.5\n",
       "5  180.8   10.8       58.4   12.9"
      ]
     },
     "execution_count": 15,
     "metadata": {},
     "output_type": "execute_result"
    }
   ],
   "source": [
    "# read data into a pandas DataFrame\n",
    "data = pd.read_csv('https://www.statlearning.com/s/Advertising.csv', index_col=0)\n",
    "data.head()"
   ]
  },
  {
   "cell_type": "code",
   "execution_count": 16,
   "metadata": {},
   "outputs": [
    {
     "name": "stdout",
     "output_type": "stream",
     "text": [
      "bias:  2.9388893694593996\n",
      "weight vector:  [ 0.0458  0.1885 -0.001 ]\n"
     ]
    }
   ],
   "source": [
    "from sklearn.linear_model import LinearRegression\n",
    "\n",
    "# create X and y\n",
    "X = data[['TV', 'radio', 'newspaper']].values\n",
    "y = data['sales'].values\n",
    "\n",
    "# instantiate and fit\n",
    "linreg = LinearRegression()\n",
    "linreg.fit(X, y)\n",
    "\n",
    "# print the coefficients\n",
    "print ('bias: ', linreg.intercept_)\n",
    "print ('weight vector: ', linreg.coef_)"
   ]
  },
  {
   "cell_type": "markdown",
   "metadata": {},
   "source": [
    "For a given amount of Radio and Newspaper spending, an increase of $1000 in **TV** spending is associated with an **increase in sales of 45.8 widgets**.\n",
    "\n",
    "For a given amount of TV and Newspaper spending, an increase of $1000 in **Radio** spending is associated with an **increase in sales of 188.5 widgets**.\n",
    "\n",
    "For a given amount of TV and Radio spending, an increase of $1000 in **Newspaper** spending is associated with an **decrease in sales of 1.0 widgets**. How could that be?"
   ]
  },
  {
   "cell_type": "markdown",
   "metadata": {},
   "source": [
    "## Evaluation metrics for regression problems\n",
    "\n",
    "We just introduced the concept of fitting a multivariate linear model, let us now take a moment to ask what it might mean to judge the qaulity of a model after fitting.\n",
    "\n",
    "Evaluation metrics for classification problems, such as **accuracy**, are not applicable for regression problems. We need evaluation metrics designed for comparing **continuous values**.\n",
    "\n",
    "Let's create some example numeric predictions, and calculate three common evaluation metrics for regression problems:"
   ]
  },
  {
   "cell_type": "code",
   "execution_count": 17,
   "metadata": {},
   "outputs": [],
   "source": [
    "# define true and predicted response values\n",
    "y = [100, 50, 30, 20]\n",
    "y_pred = [90, 50, 50, 30]"
   ]
  },
  {
   "cell_type": "markdown",
   "metadata": {},
   "source": [
    "**Mean Absolute Error** (MAE) is the mean of the absolute value of the errors:\n",
    "\n",
    "$$\\frac 1N\\sum_{i=1}^N |y_i-\\hat{y}_i|$$\n",
    "\n",
    "It is implemented in scikit-learn:"
   ]
  },
  {
   "cell_type": "code",
   "execution_count": 18,
   "metadata": {},
   "outputs": [
    {
     "data": {
      "text/plain": [
       "10.0"
      ]
     },
     "execution_count": 18,
     "metadata": {},
     "output_type": "execute_result"
    }
   ],
   "source": [
    "from sklearn import metrics\n",
    "\n",
    "metrics.mean_absolute_error(y, y_pred)"
   ]
  },
  {
   "cell_type": "markdown",
   "metadata": {},
   "source": [
    "But it's just as easy to implement it yourself:"
   ]
  },
  {
   "cell_type": "code",
   "execution_count": 20,
   "metadata": {},
   "outputs": [
    {
     "data": {
      "text/plain": [
       "10.0"
      ]
     },
     "execution_count": 20,
     "metadata": {},
     "output_type": "execute_result"
    }
   ],
   "source": [
    "def mean_absolute_error(y, y_pred) :\n",
    "    return np.mean(np.absolute(np.asarray(y) - np.asarray(y_pred)))\n",
    "\n",
    "mean_absolute_error(y, y_pred)"
   ]
  },
  {
   "cell_type": "markdown",
   "metadata": {},
   "source": [
    "**Mean Squared Error** (MSE) is the mean of the squared errors:\n",
    "\n",
    "$$\\frac 1N\\sum_{i=1}^N(y_i-\\hat{y}_i)^2$$"
   ]
  },
  {
   "cell_type": "code",
   "execution_count": 21,
   "metadata": {},
   "outputs": [
    {
     "data": {
      "text/plain": [
       "150.0"
      ]
     },
     "execution_count": 21,
     "metadata": {},
     "output_type": "execute_result"
    }
   ],
   "source": [
    "metrics.mean_squared_error(y, y_pred)"
   ]
  },
  {
   "cell_type": "markdown",
   "metadata": {},
   "source": [
    "**Root Mean Squared Error** (RMSE) is the square root of the MSE:\n",
    "\n",
    "$$\\sqrt{\\frac 1N\\sum_{i=1}^N(y_i-\\hat{y}_i)^2}$$"
   ]
  },
  {
   "cell_type": "code",
   "execution_count": 22,
   "metadata": {},
   "outputs": [
    {
     "data": {
      "text/plain": [
       "12.24744871391589"
      ]
     },
     "execution_count": 22,
     "metadata": {},
     "output_type": "execute_result"
    }
   ],
   "source": [
    "np.sqrt(metrics.mean_squared_error(y, y_pred))"
   ]
  },
  {
   "cell_type": "markdown",
   "metadata": {},
   "source": [
    "Very easy to implement as well:"
   ]
  },
  {
   "cell_type": "code",
   "execution_count": 9,
   "metadata": {},
   "outputs": [
    {
     "data": {
      "text/plain": [
       "12.24744871391589"
      ]
     },
     "execution_count": 9,
     "metadata": {},
     "output_type": "execute_result"
    }
   ],
   "source": [
    "def root_mean_square_error(y, y_pred) :\n",
    "    return np.sqrt(np.mean( (np.asarray(y) - np.asarray(y_pred))**2 ))\n",
    "\n",
    "root_mean_square_error(y, y_pred)"
   ]
  },
  {
   "cell_type": "markdown",
   "metadata": {},
   "source": [
    "Comparing these metrics:\n",
    "\n",
    "- **MAE** is the easiest to understand, because it's the average error.\n",
    "- **MSE** \"punishes\" larger errors\n",
    "- **RMSE** easier to understand than MSE because RMSE is in the \"y\" units.\n",
    "\n",
    "All of these are measures of **error** or loss, where lower is better.\n",
    "\n",
    "Here's an example, to demonstrate how MSE/RMSE punish larger errors:"
   ]
  },
  {
   "cell_type": "code",
   "execution_count": 24,
   "metadata": {},
   "outputs": [
    {
     "name": "stdout",
     "output_type": "stream",
     "text": [
      "MAE is  : 10.000\n",
      "RMSE is : 20.000\n"
     ]
    }
   ],
   "source": [
    "# same true values as above\n",
    "y_true = [100, 50, 30, 20]\n",
    "\n",
    "# new set of predicted values\n",
    "y_pred = [60, 50, 30, 20]\n",
    "\n",
    "# the previous values were:  y_pred = [90, 50, 50, 30]\n",
    "\n",
    "# MAE is the same as before\n",
    "print(f\"MAE is  : {mean_absolute_error(y, y_pred):6.3f}\")\n",
    "\n",
    "# RMSE is larger than before\n",
    "print(f\"RMSE is : {root_mean_square_error(y, y_pred):6.3f}\")"
   ]
  },
  {
   "cell_type": "markdown",
   "metadata": {},
   "source": [
    "### Evaluating multivariate linear regression on the advertising data\n"
   ]
  },
  {
   "cell_type": "code",
   "execution_count": 26,
   "metadata": {},
   "outputs": [
    {
     "name": "stdout",
     "output_type": "stream",
     "text": [
      "MAE on the test set :  1.216\n",
      "RMSE on the test set :  1.583\n",
      "MAE on the training set :  1.259\n",
      "RMSE on the training set :  1.710\n"
     ]
    }
   ],
   "source": [
    "from sklearn.model_selection import train_test_split\n",
    "\n",
    "X = data[['TV', 'radio', 'newspaper']].values\n",
    "y = data['sales'].values\n",
    "\n",
    "X_train, X_test, y_train, y_test = train_test_split(\n",
    "    X, y, test_size=0.3, random_state=5)\n",
    "\n",
    "linreg = LinearRegression()\n",
    "linreg.fit(X_train, y_train)\n",
    "\n",
    "y_pred = linreg.predict(X_test)\n",
    "\n",
    "# evaluation on the test set\n",
    "mae_test = mean_absolute_error(y_test, y_pred)\n",
    "print(f\"MAE on the test set : {mae_test:6.3f}\")\n",
    "\n",
    "rmse_test = root_mean_square_error(y_test, y_pred)\n",
    "print(f\"RMSE on the test set : {rmse_test:6.3f}\")\n",
    "\n",
    "# evaluation on the training set\n",
    "y_train_pred = linreg.predict(X_train)\n",
    "\n",
    "mae_train = mean_absolute_error(y_train, y_train_pred)\n",
    "print(f\"MAE on the training set : {mae_train:6.3f}\")\n",
    "\n",
    "rmse_train = root_mean_square_error(y_train, y_train_pred)\n",
    "print(f\"RMSE on the training set : {rmse_train:6.3f}\")"
   ]
  },
  {
   "cell_type": "markdown",
   "metadata": {},
   "source": [
    "### Exercise:  is my regression method better than simply guessing a value?\n",
    "\n",
    "Recall that in classification problems, a good classifier should do better than a classifier that simply predicts the class of the majority.\n",
    "Is there a corresponding simple regression method?  Yes - in this case, simply predict the mean value of $y$.  Compare the value of the RMSE we obtained above with the value of the RMSE for this very simple regression method.  Are we doing better?"
   ]
  },
  {
   "cell_type": "code",
   "execution_count": 27,
   "metadata": {},
   "outputs": [
    {
     "data": {
      "text/plain": [
       "13.948571428571428"
      ]
     },
     "execution_count": 27,
     "metadata": {},
     "output_type": "execute_result"
    }
   ],
   "source": [
    "# compute the mean value of y and compute the RMSE of a regression \n",
    "# method that predicts that as the label\n",
    "y_mean = np.mean(y_train)\n",
    "y_mean"
   ]
  },
  {
   "cell_type": "code",
   "execution_count": 28,
   "metadata": {},
   "outputs": [
    {
     "data": {
      "text/plain": [
       "3.8449999999999998"
      ]
     },
     "execution_count": 28,
     "metadata": {},
     "output_type": "execute_result"
    }
   ],
   "source": [
    "mean_absolute_error(y_mean, y_test)"
   ]
  },
  {
   "cell_type": "markdown",
   "metadata": {},
   "source": [
    "### Exercise:  Selecting good features\n",
    "\n",
    "Split the data into train/test sets and use RMSE to decide whether the newspaper feature should be used for our model.  You will need to train/test two versions of the model - with and without that feature."
   ]
  },
  {
   "cell_type": "code",
   "execution_count": 13,
   "metadata": {},
   "outputs": [],
   "source": [
    "# for convenience, we'll recreate the data:\n",
    "\n",
    "X = data[['TV', 'radio', 'newspaper']].values\n",
    "y = data['sales'].values\n"
   ]
  },
  {
   "cell_type": "code",
   "execution_count": 29,
   "metadata": {},
   "outputs": [
    {
     "name": "stdout",
     "output_type": "stream",
     "text": [
      "MAE on the test set :  1.215\n",
      "RMSE on the test set :  1.582\n",
      "MAE on the training set :  1.261\n",
      "RMSE on the training set :  1.711\n"
     ]
    }
   ],
   "source": [
    "from sklearn.model_selection import train_test_split\n",
    "\n",
    "X = data[['TV', 'radio']].values\n",
    "y = data['sales'].values\n",
    "\n",
    "X_train, X_test, y_train, y_test = train_test_split(\n",
    "    X, y, test_size=0.3, random_state=5)\n",
    "\n",
    "linreg = LinearRegression()\n",
    "linreg.fit(X_train, y_train)\n",
    "\n",
    "y_pred = linreg.predict(X_test)\n",
    "\n",
    "# evaluation on the test set\n",
    "mae_test = mean_absolute_error(y_test, y_pred)\n",
    "print(f\"MAE on the test set : {mae_test:6.3f}\")\n",
    "\n",
    "rmse_test = root_mean_square_error(y_test, y_pred)\n",
    "print(f\"RMSE on the test set : {rmse_test:6.3f}\")\n",
    "\n",
    "# evaluation on the training set\n",
    "y_train_pred = linreg.predict(X_train)\n",
    "\n",
    "mae_train = mean_absolute_error(y_train, y_train_pred)\n",
    "print(f\"MAE on the training set : {mae_train:6.3f}\")\n",
    "\n",
    "rmse_train = root_mean_square_error(y_train, y_train_pred)\n",
    "print(f\"RMSE on the training set : {rmse_train:6.3f}\")"
   ]
  },
  {
   "cell_type": "markdown",
   "metadata": {},
   "source": [
    "### Advantages/disadvantages of linear regression\n",
    "\n",
    "Advantages of linear regression:\n",
    "\n",
    "- Simple to explain\n",
    "- Highly interpretable\n",
    "- Model training and prediction are fast\n",
    "- No tuning is required \n",
    "- Can perform well with a small number of observations\n",
    "\n",
    "Disadvantages of linear regression:\n",
    "\n",
    "- Presumes a linear relationship between the features and the labels\n",
    "- Performance is (generally) not competitive with the best regression methods\n",
    "- Can be sensitive to irrelevant features and outliers\n",
    "\n",
    "Linear regression is a **parametric method**, meaning that success depends on the data satisfying our assumption that the data fall on a line/hyperplane."
   ]
  }
 ],
 "metadata": {
  "anaconda-cloud": {},
  "kernelspec": {
   "display_name": "Python 3 (ipykernel)",
   "language": "python",
   "name": "python3"
  },
  "language_info": {
   "codemirror_mode": {
    "name": "ipython",
    "version": 3
   },
   "file_extension": ".py",
   "mimetype": "text/x-python",
   "name": "python",
   "nbconvert_exporter": "python",
   "pygments_lexer": "ipython3",
   "version": "3.11.7"
  }
 },
 "nbformat": 4,
 "nbformat_minor": 4
}
