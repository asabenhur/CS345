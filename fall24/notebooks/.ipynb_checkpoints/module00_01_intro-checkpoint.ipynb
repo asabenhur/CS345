{
 "cells": [
  {
   "cell_type": "markdown",
   "metadata": {},
   "source": [
    "*This notebook is part of  course materials for CS 345: Machine Learning Foundations and Practice at Colorado State University.\n",
    "Original versions were created by Asa Ben-Hur with updates by Ross Beveridge.\n",
    "The content is availabe [on GitHub](https://github.com/asabenhur/CS345).*\n",
    "\n",
    "*The text is released under the [CC BY-SA license](https://creativecommons.org/licenses/by-sa/4.0/), and code is released under the [MIT license](https://opensource.org/licenses/MIT).*"
   ]
  },
  {
   "cell_type": "markdown",
   "metadata": {},
   "source": [
    "<a href=\"https://colab.research.google.com/github//asabenhur/CS345/blob/master/fall24/notebooks/module00_01_intro.ipynb\">\n",
    "  <img align=\"left\" src=\"https://colab.research.google.com/assets/colab-badge.svg\" alt=\"Open In Colab\"/>\n",
    "</a>"
   ]
  },
  {
   "cell_type": "markdown",
   "metadata": {
    "id": "-MWTUClTQFCe"
   },
   "source": [
    "# CS 345 Course Introduction\n"
   ]
  },
  {
   "cell_type": "markdown",
   "metadata": {
    "id": "Rkrho6zGRk9B"
   },
   "source": [
    "### Course Basics\n",
    "\n",
    "**Instructor:** Asa Ben-Hur\n",
    "\n",
    "The syllabus is on the [course website](https://www.cs.colostate.edu/~cs345/)."
   ]
  },
  {
   "cell_type": "markdown",
   "metadata": {
    "id": "GCnX8Wz3QFCh"
   },
   "source": [
    "### What is machine learning\n",
    "\n",
    "**Machine learning:**  the construction and study of systems that learn from data.\n",
    "\n",
    "It is a different way of solving problems.\n",
    "\n",
    "* **Traditional programming**:  you have to tell the computer explicitly how to transform an input to the desired output.\n",
    "* The **machine learning** approach:  you give the computer the ability to learn without being explicitly programmed.\n",
    "\n",
    "How do we do that?\n",
    "\n",
    "By showing the machine examples of how to map an input to an output.  The computer is not explicitly programmed to solve the problem.  It learns to do that directly from the data.\n",
    "\n",
    "The term \"machine learning\" was coined in the early 1950s by [Arthur Samuel](https://en.wikipedia.org/wiki/Arthur_Samuel), an early pioneer in this area.\n"
   ]
  },
  {
   "cell_type": "markdown",
   "metadata": {
    "id": "nf3d1P0ZQFCh"
   },
   "source": [
    "### Example: handwritten digit recognition\n",
    "\n",
    "The recognition of handwritten digits is a classic example of what is called **supervised learning**.  In this setup, the computer is provided **training examples** from which it can learn how to map from input to label.\n",
    "\n",
    "\n",
    "Some examples from the [MNIST dataset](https://en.wikipedia.org/wiki/MNIST_database):\n",
    "\n",
    "<img style=\"padding: 10px; float:center;\" alt=\"MNIST dataset by Josef Steppan CC BY-SA 4.0\" src=\"https://upload.wikimedia.org/wikipedia/commons/2/27/MnistExamples.png\" width=\"350\">"
   ]
  },
  {
   "cell_type": "markdown",
   "metadata": {},
   "source": [
    "### Applications of machine learning\n",
    "\n",
    "* **Computer vision**: character recognition / face recognition\n",
    "* **Natural language processing**:  translation between languages, language models\n",
    "* **Speech recognition**:  translate human utterances into text.\n",
    "* **Recommender systems**: Netflix, Amazon\n",
    "* **Basic science**: biology, chemistry, physics, math\n",
    "* **Applied science**:  health care, self driving cars\n",
    "* **Games**:  While traditional AI techniques did well on games such as chess and checkers, it took state-of-the machine learning for AI to become good at the game of GO. Here's a [documentary](https://www.youtube.com/watch?v=WXuK6gekU1Y) that describes the matches between AlphaGO and the GO champion Lee Seidol.\n"
   ]
  },
  {
   "cell_type": "markdown",
   "metadata": {
    "id": "r4K01SsdQFCh"
   },
   "source": [
    "### Some necessary background\n",
    "\n",
    "Machine learning is an interdisciplinary field that requires background in multiple areas:\n",
    "\n",
    "* Linear algebra for working with vectors and matrices\n",
    "* Statistics and probability for reasoning about uncertainty\n",
    "* Calculus for optimization\n",
    "* Programming for efficient implementation of the algorithms\n"
   ]
  },
  {
   "cell_type": "markdown",
   "metadata": {
    "id": "u_AEb4LrQFCi"
   },
   "source": [
    "### Course objectives\n",
    "\n",
    "The machine learning toolbox:\n",
    "\n",
    "* Formulating a problem as an ML problem\n",
    "* Understanding a variety of ML algorithms\n",
    "* Running and interpreting ML experiments\n",
    "* Understanding what makes ML work – theory and practice\n"
   ]
  },
  {
   "cell_type": "markdown",
   "metadata": {
    "id": "SqLp7bVEQFCl"
   },
   "source": [
    "### Python\n",
    "\n",
    "Why Python?\n",
    "\n",
    "<img style=\"float: right;\" src=\"https://www.python.org/static/community_logos/python-logo.png\" width=\"200\">\n",
    "\n",
    "* A concise and intuitive language\n",
    "* Simple, easy to learn syntax\n",
    "* Highly readable, compact code\n",
    "* Supports object oriented and functional programming\n",
    "* Strong support for integration with other languages (C,C++,Java)\n",
    "* Cross-platform compatibility\n",
    "* Free\n",
    "* Makes programming fun!\n",
    "\n",
    "**We assume you already know the basics of Python**. That said, most of us can benefit from a little review, so we will do a quick guided walkthrough of some Python basics in the following [notebook](https://github.com/asabenhur/CS345/blob/master/fall24/notebooks/module00_02_python_intro.ipynb).\n",
    "You may also want to take advantage of: [A Whirlwind Tour of the Python Language](https://github.com/jakevdp/WhirlwindTourOfPython)."
   ]
  },
  {
   "cell_type": "markdown",
   "metadata": {
    "id": "SqLp7bVEQFCl"
   },
   "source": [
    "### Why Python for machine learning?\n",
    "\n",
    "Since the early days of computer science, AI programmers have differed significantly from other areas of CS, making use of the [Lisp](https://en.wikipedia.org/wiki/Lisp_(programming_language)).\n",
    "In recent years Python has emerged as the language of choice for machine learning and data science.\n",
    "Indeed, for those not fond of many nested parentheses, the hall-mark of Lisp, Python will be an improvement. Here are a few of the aspects of Python that make it a great choice for our needs in machine learning and data science:\n",
    "\n",
    "* An interpreted language – allows for interactive data analysis\n",
    "* Libraries for plotting and vector/matrix computation\n",
    "* Many machine learning packages available:  scikit-learn, TensorFlow, PyTorch\n",
    "* Language of choice for many ML practitioners (other options: R, matlab)\n",
    "\n",
    "As an example, below is a sample visualization showing different ways to classify/label data using scikit-learn, plotted with Matplotlib.\n",
    "\n",
    "![image](https://scikit-learn.org/stable/_images/sphx_glr_plot_classifier_comparison_001.png)\n",
    "\n",
    "\n",
    "### The tools we will cover in this course:\n",
    "\n",
    "* **NumPy**:  highly efficient manipulation of vectors and matrices\n",
    "* **Matplotlib**: data visualization\n",
    "* **scikit-learn**:  the \"standard\" machine learning package in Python"
   ]
  },
  {
   "cell_type": "markdown",
   "metadata": {
    "id": "B5pu5lKWQFCl"
   },
   "source": [
    "### The Anaconda Python distribution\n",
    "\n",
    "<img style=\"float: right;\" src=\"https://upload.wikimedia.org/wikipedia/en/c/cd/Anaconda_Logo.png\" alt=\"drawing\" width=\"150\"/>\n",
    "\n",
    "If setting up Python on your personal machine, we recommend the [Anaconda](https://www.anaconda.com/download) Python environment which is a data-science oriented distribution that includes all the tools we will use in this course. Note that the smaller [Miniconda](https://docs.conda.io/en/latest/miniconda.html) is the variant  we recommend, since the full Anaconda is bloated and contains a lot of packages you will never need.\n",
    "\n",
    "Also, make sure you use version 3.X of Python.\n"
   ]
  },
  {
   "cell_type": "markdown",
   "metadata": {
    "id": "kJRp08u2QFCm"
   },
   "source": [
    "### The Jupyter Notebook\n",
    "\n",
    "The Jupyter notebook is a browser-based interface for the ``IPython`` Python shell.\n",
    "In addition to executing Python/IPython statements, the notebook allows the user to include formatted text, static and dynamic visualizations, mathematical equations, and much more. \n",
    "**It is the standard way of sharing data science analyses.**\n",
    "\n",
    "<img style=\"float: right;\" src=\"https://upload.wikimedia.org/wikipedia/commons/3/38/Jupyter_logo.svg\" width=\"100\">\n",
    "\n",
    "\n",
    "To invoke Jupyter from the command line use the command:\n",
    "\n",
    "```bash\n",
    "jupyter notebook\n",
    "```\n",
    "\n",
    "which brings up the Jupyter notebook dashboard which allows you to browse Jupyter notebooks.  To open a specific notebook:\n",
    "\n",
    "```bash \n",
    "jupyter notebook notebook_name.ipynb\n",
    "```\n",
    "\n",
    "In Linux/Mac, do this at a terminal; in Windows, use the \"Command Prompt\"."
   ]
  },
  {
   "cell_type": "markdown",
   "metadata": {},
   "source": [
    "### Poll - have you used Jupyter before?"
   ]
  },
  {
   "cell_type": "markdown",
   "metadata": {
    "id": "OvDeZukB4FQ3"
   },
   "source": [
    "### The alternative:  Google Colab\n",
    "\n",
    "<img style=\"float: right;\" src=\"https://colab.research.google.com/img/colab_favicon_256px.png\" alt=\"drawing\" width=\"100\"/>\n",
    "\n",
    "\n",
    "As an alternative to Anaconda, you can use [Google Colab](https://research.google.com/colaboratory/).  The notebooks for the class can be opened directly from the github repository of the course by clicking the \"open in colab\" badge.  *If using Colab, make sure to copy the notebook to your google drive so that any changes you make will be saved.*\n",
    "Jupyter notebook and Google Colab are entirely compatible with each other, and have a very similar interface.  The Colab option becomes very compelling for neural networks, as it provides GPU support (for free!)"
   ]
  },
  {
   "cell_type": "markdown",
   "metadata": {
    "id": "j789Chyr4FQ3"
   },
   "source": [
    "### A Taste of Jupyter"
   ]
  },
  {
   "cell_type": "markdown",
   "metadata": {
    "id": "Rguaz6P6QFCm"
   },
   "source": [
    "There are two primary types of cells in Jupyter:"
   ]
  },
  {
   "cell_type": "code",
   "execution_count": 1,
   "metadata": {
    "executionInfo": {
     "elapsed": 403,
     "status": "ok",
     "timestamp": 1611252289381,
     "user": {
      "displayName": "Ross Beveridge",
      "photoUrl": "https://lh3.googleusercontent.com/a-/AOh14GhZ9yfcROZXIKThWciv5reom6aDm1Spt-r8JOsVNA=s64",
      "userId": "11748907218223072510"
     },
     "user_tz": 420
    },
    "id": "YRdVAcKUQFCm"
   },
   "outputs": [
    {
     "name": "stdout",
     "output_type": "stream",
     "text": [
      "Hello world!\n"
     ]
    }
   ],
   "source": [
    "# this is a code cell\n",
    "print(\"Hello world!\")"
   ]
  },
  {
   "cell_type": "markdown",
   "metadata": {
    "id": "f0m2YfLOQFCn"
   },
   "source": [
    "### Displaying text in Jupyter notebooks\n",
    "\n",
    "This text is produced by a **markdown** cell.  [Markdown](https://en.wikipedia.org/wiki/Markdown) is a simple markup language that is now very commonly used.  Here is a nice [cheatsheet](https://github.com/adam-p/markdown-here/wiki/Markdown-Cheatsheet) that lists markdown syntax.  The rest of this cell contains some examples of useful markdown features.\n",
    "\n",
    "You can type *text* and good looking equations.  Double click on a markdown cell in order to see the markup.\n",
    "\n",
    "You can have headings of various levels:\n",
    "\n",
    "#### This is a heading\n",
    "\n",
    "As well lists (bulleted or numbered):\n",
    "\n",
    "1. Numbered item\n",
    "* Bulleted item\n",
    "\n",
    "Equations can be created using [LaTex](https://www.latex-project.org/) without the need for an equation editor:\n",
    "\n",
    "$$f(x) = \\frac{1}{2\\pi} e^{-2 x^2 / \\sigma^2}$$\n",
    "\n",
    "\n",
    "Next, let's explore the use of code cells:"
   ]
  },
  {
   "cell_type": "code",
   "execution_count": 2,
   "metadata": {},
   "outputs": [
    {
     "name": "stdout",
     "output_type": "stream",
     "text": [
      "welcome to CS 345!\n"
     ]
    }
   ],
   "source": [
    "def welcome_message() : \n",
    "    print(\"welcome to CS 345!\")\n",
    "\n",
    "welcome_message()"
   ]
  },
  {
   "cell_type": "markdown",
   "metadata": {},
   "source": [
    "You are not limited to Python code in code cells:"
   ]
  },
  {
   "cell_type": "code",
   "execution_count": 3,
   "metadata": {
    "colab": {
     "base_uri": "https://localhost:8080/"
    },
    "executionInfo": {
     "elapsed": 284,
     "status": "ok",
     "timestamp": 1611252748139,
     "user": {
      "displayName": "Ross Beveridge",
      "photoUrl": "https://lh3.googleusercontent.com/a-/AOh14GhZ9yfcROZXIKThWciv5reom6aDm1Spt-r8JOsVNA=s64",
      "userId": "11748907218223072510"
     },
     "user_tz": 420
    },
    "id": "lbUh2PMUQFCn",
    "outputId": "47f2b492-dcdb-4346-f3fd-ec44bb4045b7"
   },
   "outputs": [
    {
     "data": {
      "text/plain": [
       "5"
      ]
     },
     "execution_count": 3,
     "metadata": {},
     "output_type": "execute_result"
    }
   ],
   "source": [
    "# used as a caculator\n",
    "2 + 3"
   ]
  },
  {
   "cell_type": "markdown",
   "metadata": {
    "id": "gwwigFFNQFCn"
   },
   "source": [
    "You can run shell commands:"
   ]
  },
  {
   "cell_type": "code",
   "execution_count": 4,
   "metadata": {
    "id": "xLEMnQt2QFCo"
   },
   "outputs": [
    {
     "name": "stdout",
     "output_type": "stream",
     "text": [
      "README.md\n",
      "module00_01_intro.ipynb\n",
      "module00_02_python_intro.ipynb\n",
      "module00_03_numpy.ipynb\n",
      "module00_04_matplotlib.ipynb\n",
      "module00_05_colab.ipynb\n",
      "module01_01_labeled_data.ipynb\n",
      "module01_02_vectors.ipynb\n",
      "module01_03_dot_products.ipynb\n",
      "module01_04_hyperplanes.ipynb\n",
      "module01_05_matrices.ipynb\n",
      "module01_06_perceptron.ipynb\n",
      "module02_01_nearest_neighbors.ipynb\n",
      "module02_02_more_nearest_neighbors.ipynb\n",
      "module02_03_pca.ipynb\n",
      "module02_04_svm.ipynb\n",
      "module03_01_nn_to_regression.ipynb\n",
      "module03_02_linear_regression.ipynb\n",
      "module03_03_derivatives_partial_derivatives.ipynb\n",
      "module03_04_multivariate_linear_regression.ipynb\n",
      "module03_05_linear_regression_gradient_descent.ipynb\n",
      "module04_01_overfitting_basis_function_regression.ipynb\n",
      "module04_02_regularization.ipynb\n",
      "module04_03_kernels.ipynb\n",
      "module05_01_hyperparameters_validation_set.ipynb\n",
      "module05_02_cross_validation.ipynb\n",
      "module05_03_model_selection.ipynb\n",
      "module05_04_classifier_accuracy.ipynb\n",
      "module06_01_decision_trees.ipynb\n",
      "module06_02_ensemble_methods.ipynb\n",
      "module07_01_neural_networks_mlp.ipynb\n",
      "module07_02_neural_networks_keras.ipynb\n",
      "module07_03_neural_networks_mnist.ipynb\n",
      "module08_01_conclusions.ipynb\n"
     ]
    }
   ],
   "source": [
    "# directory listing (in windows you will need to use the \"dir\" command)\n",
    "!ls"
   ]
  },
  {
   "cell_type": "markdown",
   "metadata": {
    "id": "7CnqID1eQFCo"
   },
   "source": [
    "The `%` sign is used for *magic commands*, which are iPython shell commands.  For example, to find what other magic commands there are"
   ]
  },
  {
   "cell_type": "code",
   "execution_count": 5,
   "metadata": {
    "colab": {
     "base_uri": "https://localhost:8080/",
     "height": 159
    },
    "executionInfo": {
     "elapsed": 279,
     "status": "ok",
     "timestamp": 1611252804940,
     "user": {
      "displayName": "Ross Beveridge",
      "photoUrl": "https://lh3.googleusercontent.com/a-/AOh14GhZ9yfcROZXIKThWciv5reom6aDm1Spt-r8JOsVNA=s64",
      "userId": "11748907218223072510"
     },
     "user_tz": 420
    },
    "id": "R6gpjEIcQFCo",
    "outputId": "1603ad21-6598-489e-c8e6-0404c425d64a"
   },
   "outputs": [
    {
     "data": {
      "application/json": {
       "cell": {
        "!": "OSMagics",
        "HTML": "Other",
        "SVG": "Other",
        "bash": "Other",
        "capture": "ExecutionMagics",
        "code_wrap": "ExecutionMagics",
        "debug": "ExecutionMagics",
        "file": "Other",
        "html": "DisplayMagics",
        "javascript": "DisplayMagics",
        "js": "DisplayMagics",
        "latex": "DisplayMagics",
        "markdown": "DisplayMagics",
        "perl": "Other",
        "prun": "ExecutionMagics",
        "pypy": "Other",
        "python": "Other",
        "python2": "Other",
        "python3": "Other",
        "ruby": "Other",
        "script": "ScriptMagics",
        "sh": "Other",
        "svg": "DisplayMagics",
        "sx": "OSMagics",
        "system": "OSMagics",
        "time": "ExecutionMagics",
        "timeit": "ExecutionMagics",
        "writefile": "OSMagics"
       },
       "line": {
        "alias": "OSMagics",
        "alias_magic": "BasicMagics",
        "autoawait": "AsyncMagics",
        "autocall": "AutoMagics",
        "automagic": "AutoMagics",
        "autosave": "KernelMagics",
        "bookmark": "OSMagics",
        "cat": "Other",
        "cd": "OSMagics",
        "clear": "KernelMagics",
        "code_wrap": "ExecutionMagics",
        "colors": "BasicMagics",
        "conda": "PackagingMagics",
        "config": "ConfigMagics",
        "connect_info": "KernelMagics",
        "cp": "Other",
        "debug": "ExecutionMagics",
        "dhist": "OSMagics",
        "dirs": "OSMagics",
        "doctest_mode": "BasicMagics",
        "ed": "Other",
        "edit": "KernelMagics",
        "env": "OSMagics",
        "gui": "BasicMagics",
        "hist": "Other",
        "history": "HistoryMagics",
        "killbgscripts": "ScriptMagics",
        "ldir": "Other",
        "less": "KernelMagics",
        "lf": "Other",
        "lk": "Other",
        "ll": "Other",
        "load": "CodeMagics",
        "load_ext": "ExtensionMagics",
        "loadpy": "CodeMagics",
        "logoff": "LoggingMagics",
        "logon": "LoggingMagics",
        "logstart": "LoggingMagics",
        "logstate": "LoggingMagics",
        "logstop": "LoggingMagics",
        "ls": "Other",
        "lsmagic": "BasicMagics",
        "lx": "Other",
        "macro": "ExecutionMagics",
        "magic": "BasicMagics",
        "mamba": "PackagingMagics",
        "man": "KernelMagics",
        "matplotlib": "PylabMagics",
        "micromamba": "PackagingMagics",
        "mkdir": "Other",
        "more": "KernelMagics",
        "mv": "Other",
        "notebook": "BasicMagics",
        "page": "BasicMagics",
        "pastebin": "CodeMagics",
        "pdb": "ExecutionMagics",
        "pdef": "NamespaceMagics",
        "pdoc": "NamespaceMagics",
        "pfile": "NamespaceMagics",
        "pinfo": "NamespaceMagics",
        "pinfo2": "NamespaceMagics",
        "pip": "PackagingMagics",
        "popd": "OSMagics",
        "pprint": "BasicMagics",
        "precision": "BasicMagics",
        "prun": "ExecutionMagics",
        "psearch": "NamespaceMagics",
        "psource": "NamespaceMagics",
        "pushd": "OSMagics",
        "pwd": "OSMagics",
        "pycat": "OSMagics",
        "pylab": "PylabMagics",
        "qtconsole": "KernelMagics",
        "quickref": "BasicMagics",
        "recall": "HistoryMagics",
        "rehashx": "OSMagics",
        "reload_ext": "ExtensionMagics",
        "rep": "Other",
        "rerun": "HistoryMagics",
        "reset": "NamespaceMagics",
        "reset_selective": "NamespaceMagics",
        "rm": "Other",
        "rmdir": "Other",
        "run": "ExecutionMagics",
        "save": "CodeMagics",
        "sc": "OSMagics",
        "set_env": "OSMagics",
        "store": "StoreMagics",
        "sx": "OSMagics",
        "system": "OSMagics",
        "tb": "ExecutionMagics",
        "time": "ExecutionMagics",
        "timeit": "ExecutionMagics",
        "unalias": "OSMagics",
        "unload_ext": "ExtensionMagics",
        "who": "NamespaceMagics",
        "who_ls": "NamespaceMagics",
        "whos": "NamespaceMagics",
        "xdel": "NamespaceMagics",
        "xmode": "BasicMagics"
       }
      },
      "text/plain": [
       "Available line magics:\n",
       "%alias  %alias_magic  %autoawait  %autocall  %automagic  %autosave  %bookmark  %cat  %cd  %clear  %code_wrap  %colors  %conda  %config  %connect_info  %cp  %debug  %dhist  %dirs  %doctest_mode  %ed  %edit  %env  %gui  %hist  %history  %killbgscripts  %ldir  %less  %lf  %lk  %ll  %load  %load_ext  %loadpy  %logoff  %logon  %logstart  %logstate  %logstop  %ls  %lsmagic  %lx  %macro  %magic  %mamba  %man  %matplotlib  %micromamba  %mkdir  %more  %mv  %notebook  %page  %pastebin  %pdb  %pdef  %pdoc  %pfile  %pinfo  %pinfo2  %pip  %popd  %pprint  %precision  %prun  %psearch  %psource  %pushd  %pwd  %pycat  %pylab  %qtconsole  %quickref  %recall  %rehashx  %reload_ext  %rep  %rerun  %reset  %reset_selective  %rm  %rmdir  %run  %save  %sc  %set_env  %store  %sx  %system  %tb  %time  %timeit  %unalias  %unload_ext  %who  %who_ls  %whos  %xdel  %xmode\n",
       "\n",
       "Available cell magics:\n",
       "%%!  %%HTML  %%SVG  %%bash  %%capture  %%code_wrap  %%debug  %%file  %%html  %%javascript  %%js  %%latex  %%markdown  %%perl  %%prun  %%pypy  %%python  %%python2  %%python3  %%ruby  %%script  %%sh  %%svg  %%sx  %%system  %%time  %%timeit  %%writefile\n",
       "\n",
       "Automagic is ON, % prefix IS NOT needed for line magics."
      ]
     },
     "execution_count": 5,
     "metadata": {},
     "output_type": "execute_result"
    }
   ],
   "source": [
    "%lsmagic"
   ]
  },
  {
   "cell_type": "markdown",
   "metadata": {
    "id": "UJwlvMCIQFCo"
   },
   "source": [
    "The `%timeit` magic is one that we will use quite regularly.  Let's learn what it's for:"
   ]
  },
  {
   "cell_type": "code",
   "execution_count": 6,
   "metadata": {
    "executionInfo": {
     "elapsed": 302,
     "status": "ok",
     "timestamp": 1611252814941,
     "user": {
      "displayName": "Ross Beveridge",
      "photoUrl": "https://lh3.googleusercontent.com/a-/AOh14GhZ9yfcROZXIKThWciv5reom6aDm1Spt-r8JOsVNA=s64",
      "userId": "11748907218223072510"
     },
     "user_tz": 420
    },
    "id": "TGNz2ogZQFCp",
    "podoc": {
     "output_text": "Screenshot of the pager"
    }
   },
   "outputs": [
    {
     "data": {
      "text/plain": [
       "\u001b[0;31mDocstring:\u001b[0m\n",
       "Time execution of a Python statement or expression\n",
       "\n",
       "Usage, in line mode:\n",
       "  %timeit [-n<N> -r<R> [-t|-c] -q -p<P> -o] statement\n",
       "or in cell mode:\n",
       "  %%timeit [-n<N> -r<R> [-t|-c] -q -p<P> -o] setup_code\n",
       "  code\n",
       "  code...\n",
       "\n",
       "Time execution of a Python statement or expression using the timeit\n",
       "module.  This function can be used both as a line and cell magic:\n",
       "\n",
       "- In line mode you can time a single-line statement (though multiple\n",
       "  ones can be chained with using semicolons).\n",
       "\n",
       "- In cell mode, the statement in the first line is used as setup code\n",
       "  (executed but not timed) and the body of the cell is timed.  The cell\n",
       "  body has access to any variables created in the setup code.\n",
       "\n",
       "Options:\n",
       "-n<N>: execute the given statement <N> times in a loop. If <N> is not\n",
       "provided, <N> is determined so as to get sufficient accuracy.\n",
       "\n",
       "-r<R>: number of repeats <R>, each consisting of <N> loops, and take the\n",
       "average result.\n",
       "Default: 7\n",
       "\n",
       "-t: use time.time to measure the time, which is the default on Unix.\n",
       "This function measures wall time.\n",
       "\n",
       "-c: use time.clock to measure the time, which is the default on\n",
       "Windows and measures wall time. On Unix, resource.getrusage is used\n",
       "instead and returns the CPU user time.\n",
       "\n",
       "-p<P>: use a precision of <P> digits to display the timing result.\n",
       "Default: 3\n",
       "\n",
       "-q: Quiet, do not print result.\n",
       "\n",
       "-o: return a TimeitResult that can be stored in a variable to inspect\n",
       "    the result in more details.\n",
       "\n",
       ".. versionchanged:: 7.3\n",
       "    User variables are no longer expanded,\n",
       "    the magic line is always left unmodified.\n",
       "\n",
       "Examples\n",
       "--------\n",
       "::\n",
       "\n",
       "  In [1]: %timeit pass\n",
       "  8.26 ns ± 0.12 ns per loop (mean ± std. dev. of 7 runs, 100000000 loops each)\n",
       "\n",
       "  In [2]: u = None\n",
       "\n",
       "  In [3]: %timeit u is None\n",
       "  29.9 ns ± 0.643 ns per loop (mean ± std. dev. of 7 runs, 10000000 loops each)\n",
       "\n",
       "  In [4]: %timeit -r 4 u == None\n",
       "\n",
       "  In [5]: import time\n",
       "\n",
       "  In [6]: %timeit -n1 time.sleep(2)\n",
       "\n",
       "The times reported by %timeit will be slightly higher than those\n",
       "reported by the timeit.py script when variables are accessed. This is\n",
       "due to the fact that %timeit executes the statement in the namespace\n",
       "of the shell, compared with timeit.py, which uses a single setup\n",
       "statement to import function or create variables. Generally, the bias\n",
       "does not matter as long as results from timeit.py are not mixed with\n",
       "those from %timeit.\n",
       "\u001b[0;31mFile:\u001b[0m      ~/miniconda3/envs/courses/lib/python3.11/site-packages/IPython/core/magics/execution.py"
      ]
     },
     "metadata": {},
     "output_type": "display_data"
    }
   ],
   "source": [
    "%timeit?"
   ]
  },
  {
   "cell_type": "markdown",
   "metadata": {
    "id": "25vUFoExQFCp"
   },
   "source": [
    "Now try this:"
   ]
  },
  {
   "cell_type": "code",
   "execution_count": 7,
   "metadata": {
    "executionInfo": {
     "elapsed": 263,
     "status": "ok",
     "timestamp": 1611252881857,
     "user": {
      "displayName": "Ross Beveridge",
      "photoUrl": "https://lh3.googleusercontent.com/a-/AOh14GhZ9yfcROZXIKThWciv5reom6aDm1Spt-r8JOsVNA=s64",
      "userId": "11748907218223072510"
     },
     "user_tz": 420
    },
    "id": "zzSDnPFqQFCp"
   },
   "outputs": [],
   "source": [
    "import antigravity"
   ]
  },
  {
   "cell_type": "markdown",
   "metadata": {
    "id": "2j5EwUOyQFCp"
   },
   "source": [
    "### Mastering the Jupyter notebook\n",
    "\n",
    "To be more productive in using notebooks, I highly recommend exploring the notebook keyboard shortcuts.\n",
    "Here is a useful [blog post](https://www.dataquest.io/blog/jupyter-notebook-tips-tricks-shortcuts/) that provides a detailed overview.\n",
    "You will also need to know the basics of Markdown syntax.  Note that not all of these will work in google colab.\n",
    "\n",
    "One of the nice features of the Jupyter notebook is that it supports writing mathematical equation using LaTex.  Here is another example of what you can do with LaTex:\n",
    "\n",
    "$$\n",
    "\\sum_{i=1}^N x_i^2 + \\alpha \n",
    "$$\n",
    "\n",
    "\n",
    "And here is the markup that generated this formula\n",
    "```latex\n",
    "$$\n",
    "\\sum_{i=1}^N x_i^2 + \\alpha\n",
    "$$\n",
    "```\n",
    "The formula is surrounded by `$$` signs.  All LaTex commands are preceded by a `\\`, and as you can see, it is quite intuitive!"
   ]
  }
 ],
 "metadata": {
  "colab": {
   "collapsed_sections": [],
   "name": "module01_01_intro.ipynb",
   "provenance": []
  },
  "kernelspec": {
   "display_name": "Python 3 (ipykernel)",
   "language": "python",
   "name": "python3"
  },
  "language_info": {
   "codemirror_mode": {
    "name": "ipython",
    "version": 3
   },
   "file_extension": ".py",
   "mimetype": "text/x-python",
   "name": "python",
   "nbconvert_exporter": "python",
   "pygments_lexer": "ipython3",
   "version": "3.11.7"
  }
 },
 "nbformat": 4,
 "nbformat_minor": 4
}
