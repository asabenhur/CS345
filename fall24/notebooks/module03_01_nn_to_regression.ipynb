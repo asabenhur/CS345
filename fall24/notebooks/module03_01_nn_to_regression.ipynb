{
 "cells": [
  {
   "cell_type": "markdown",
   "metadata": {},
   "source": [
    "*This notebook is part of  course materials for CS 345: Machine Learning Foundations and Practice at Colorado State University.\n",
    "Original versions were created by Asa Ben-Hur and updated by Ross Beveridge.\n",
    "The content is availabe [on GitHub](https://github.com/asabenhur/CS345).*\n",
    "\n",
    "*The text is released under the [CC BY-SA license](https://creativecommons.org/licenses/by-sa/4.0/), and code is released under the [MIT license](https://opensource.org/licenses/MIT).*"
   ]
  },
  {
   "cell_type": "markdown",
   "metadata": {},
   "source": [
    "<a href=\"https://colab.research.google.com/github//asabenhur/CS345/blob/master/fall24/notebooks/module03_01_nn_to_regression.ipynb\">\n",
    "  <img align=\"left\" src=\"https://colab.research.google.com/assets/colab-badge.svg\" alt=\"Open In Colab\"/>\n",
    "</a>"
   ]
  },
  {
   "cell_type": "markdown",
   "metadata": {},
   "source": [
    "# Nearest Neighbor Regression\n",
    "\n",
    "In this notebook we introduce the idea of using the nearest neighbor algorithm for regression problems."
   ]
  },
  {
   "cell_type": "code",
   "execution_count": 1,
   "metadata": {},
   "outputs": [],
   "source": [
    "import numpy as np\n",
    "from matplotlib import pylab as plt"
   ]
  },
  {
   "cell_type": "markdown",
   "metadata": {},
   "source": [
    "## Regression problems\n",
    "\n",
    "So far our attention has been solely focused on classification problems, namely a choice between a discrete set of labels. While many problems are of this kind, we also need to be aware of **regression**.\n",
    "\n",
    "Shortly we will use our knowledge of nearest neighbors algorithms to present a slightly non-conventional introduction to regresion. But first, here is the essential distinction between a classification and a regression problem. \n",
    "\n",
    "The most succinct mathematical definition of a classification problem is as follows.\n",
    "\n",
    "**Classification**: Learn a mapping of from *feature vectors* to a set of *discrete labels* i.e. a function\n",
    "\n",
    "$$ f  : \\mathbb{R}^d \\longrightarrow \\mathbb{C}   $$\n",
    "\n",
    "The domain of the function is $\\mathbb{R}^d$, i.e. a real-valued point in $d$ dimensions. The range of the function consists of a set of discrete labels $\\mathbb{C}$. For example, for a binary classification problem with two classes labeled *cat* and *dog*:  \n",
    "\n",
    "$$  \\mathbb{C} = \\left\\{ \\hbox{cat}, \\hbox{dog} \\right\\} $$\n",
    "\n",
    "However, as we've already seen, machine learning folks are happy to replace labels with integers, essentially creating an arbitray mapping from labels to integers.\n",
    "\n",
    "$$ \\begin{eqnarray}\n",
    "   \\hbox{cat} & \\rightarrow & 0 \\\\\n",
    "   \\hbox{dog} & \\rightarrow & 1\n",
    "   \\end{eqnarray}\n",
    "$$\n",
    "\n",
    "With this mapping agreed upon the problem now is expressed as:\n",
    "\n",
    "$$ f  : \\mathbb{R}^d \\longrightarrow \\{0, 1\\}  $$\n",
    "\n",
    "So far so good, but let's think a bit about the step of mapping to integers.\n",
    "\n",
    "While convenient, this step is potentially misleading. To understand why, just ask yourself what happens if you add a third class *bird*, and associate it with the integer $2$.\n",
    "\n",
    "$$ \\begin{eqnarray}\n",
    "   \\hbox{cat} & \\rightarrow & 0 \\\\\n",
    "   \\hbox{dog} & \\rightarrow & 1 \\\\\n",
    "   \\hbox{bird} & \\rightarrow & 2\n",
    "   \\end{eqnarray}\n",
    "$$\n",
    "\n",
    "Does it matter what integer you assign to bird? Are birds somehow better suited to the integer $2$ than $1$ or $0$?  We also did not mean to suggest that a *cat* is twice as far away from a *bird* than is a *dog* (although keeping the cat away from the bird may increase the lifespan of the bird.)\n",
    "In other words, the choice of integers is arbitrary!\n",
    "\n",
    "Now, what if in our problem of interest we are trying to predict numbers and those numbers have meaning?  In this case we have a regression problem:\n",
    "\n",
    "**Regression**: Learn a mapping from *feature vectors* to a set of *continuous labels*, i.e. a function\n",
    "\n",
    "$$ f  : \\mathbb{R}^d \\longrightarrow \\mathbb{R}   $$\n",
    "\n",
    "In the case of regression, the use of numbers in the range of the function $f$ is a direct reflection of the problem being solved, where that value has meaning such the wind speed of a hurricane or tomorrow's temperature."
   ]
  },
  {
   "cell_type": "markdown",
   "metadata": {},
   "source": [
    "## Nearest neighbors for regression\n",
    "\n",
    "Recall the nearest neighbor classifier:\n",
    "\n",
    "```\n",
    "Nearest neighbor classifier\n",
    "\n",
    "- Find the example in the training data that is closest to\n",
    "  the example that needs to be classified.\n",
    "- Return its label\n",
    "```\n",
    "\n",
    "We can easily turn this classifier into a regression method.  In-fact, there is nothing that need change in our implementation - by returning the label of the nearest neighbor, it's already a regression method! So, note the code below matches exactly the code in our previous notebook on nearest neighbor classifiers. "
   ]
  },
  {
   "cell_type": "code",
   "execution_count": 2,
   "metadata": {},
   "outputs": [],
   "source": [
    "def distance(x1, x2):\n",
    "    return np.sqrt(np.dot(x1-x2, x1-x2))\n",
    "\n",
    "class nearest_neighbor:\n",
    "    def __init__(self):\n",
    "        pass\n",
    "    def fit(self, X, y):\n",
    "        self.X = X\n",
    "        self.y = y\n",
    "    def get_nearest(self, x):\n",
    "        distances = [distance(x, self.X[i]) for i in range(len(self.X))]\n",
    "        return np.argmin(distances)\n",
    "    def predict(self, x) :\n",
    "        return self.y[self.get_nearest(x)]"
   ]
  },
  {
   "cell_type": "markdown",
   "metadata": {},
   "source": [
    "To illustrate that, let's run the algorithm on a simple one-dimensional regression problem:"
   ]
  },
  {
   "cell_type": "code",
   "execution_count": 3,
   "metadata": {},
   "outputs": [
    {
     "name": "stdout",
     "output_type": "stream",
     "text": [
      "shape of training data:  (40, 1) (40,)\n"
     ]
    },
    {
     "data": {
      "image/png": "[encoded data removed]",
      "text/plain": [
       "<Figure size 500x300 with 1 Axes>"
      ]
     },
     "metadata": {},
     "output_type": "display_data"
    }
   ],
   "source": [
    "from numpy.random import default_rng\n",
    "num_examples = 40\n",
    "rng = default_rng(1)\n",
    "X = np.sort(5 * rng.random(num_examples))\n",
    "y = np.sin(X) + rng.normal(0, 0.05, size=(len(X)))\n",
    "X = X[:, np.newaxis]\n",
    "print(\"shape of training data: \", X.shape, y.shape)\n",
    "\n",
    "nn = nearest_neighbor()\n",
    "nn.fit(X, y)\n",
    "\n",
    "X_test = np.linspace(0, 5, 500)[:, np.newaxis]\n",
    "y_pred = np.array([nn.predict(X_test[i]) for i in range(len(X_test))])\n",
    "plt.figure(figsize=(5,3))\n",
    "plt.scatter(X, y, color='orange', label='data')\n",
    "plt.plot(X_test, y_pred, label='prediction')\n",
    "\n",
    "plt.legend();"
   ]
  }
 ],
 "metadata": {
  "kernelspec": {
   "display_name": "Python 3 (ipykernel)",
   "language": "python",
   "name": "python3"
  },
  "language_info": {
   "codemirror_mode": {
    "name": "ipython",
    "version": 3
   },
   "file_extension": ".py",
   "mimetype": "text/x-python",
   "name": "python",
   "nbconvert_exporter": "python",
   "pygments_lexer": "ipython3",
   "version": "3.11.7"
  }
 },
 "nbformat": 4,
 "nbformat_minor": 4
}
