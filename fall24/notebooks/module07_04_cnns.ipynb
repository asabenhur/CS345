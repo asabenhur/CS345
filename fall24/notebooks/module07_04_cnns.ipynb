{
 "cells": [
  {
   "cell_type": "markdown",
   "metadata": {},
   "source": [
    "*This notebook is part of  course materials for CS 345: Machine Learning Foundations and Practice at Colorado State University.\n",
    "Original versions were created by Ben Sattelberg and Asa Ben-Hur.\n",
    "The content is availabe [on GitHub](https://github.com/asabenhur/CS345).*\n",
    "\n",
    "*The text is released under the [CC BY-SA license](https://creativecommons.org/licenses/by-sa/4.0/), and code is released under the [MIT license](https://opensource.org/licenses/MIT).*"
   ]
  },
  {
   "cell_type": "markdown",
   "metadata": {},
   "source": [
    "<a href=\"https://colab.research.google.com/github//asabenhur/CS345/blob/master/fall24/notebooks/module07_04_cnns.ipynb\">\n",
    "  <img align=\"left\" src=\"https://colab.research.google.com/assets/colab-badge.svg\" alt=\"Open In Colab\"/>\n",
    "</a>"
   ]
  },
  {
   "cell_type": "markdown",
   "metadata": {},
   "source": [
    "# Convolutional networks\n",
    "\n",
    "### Preface:  enabling GPUs on google colab\n",
    "\n",
    "Until now we ran our neural networks on a CPU.  If you are running this notebook on google colab, you are in luck - google colab will allow you to run your code on a GPU.  Enabling a GPU is very simple:  All you need to do is navigate to Edit→Notebook Settings and select GPU from the Hardware Accelerator drop-down.\n",
    "This [colab notebook](https://colab.research.google.com/notebooks/gpu.ipynb) has instructions for verifying that you are using a GPU and see the resulting speedup.\n"
   ]
  },
  {
   "cell_type": "code",
   "execution_count": 1,
   "metadata": {},
   "outputs": [],
   "source": [
    "import numpy as np\n",
    "import scipy.signal\n",
    "import matplotlib.pyplot as plt"
   ]
  },
  {
   "cell_type": "code",
   "execution_count": 2,
   "metadata": {},
   "outputs": [
    {
     "name": "stderr",
     "output_type": "stream",
     "text": [
      "/Users/asa/miniconda3/envs/courses/lib/python3.11/site-packages/torchvision/io/image.py:13: UserWarning: Failed to load image Python extension: 'dlopen(/Users/asa/miniconda3/envs/courses/lib/python3.11/site-packages/torchvision/image.so, 0x0006): Symbol not found: __ZN3c1017RegisterOperatorsD1Ev\n",
      "  Referenced from: <CFED5F8E-EC3F-36FD-AAA3-2C6C7F8D3DD9> /Users/asa/miniconda3/envs/courses/lib/python3.11/site-packages/torchvision/image.so\n",
      "  Expected in:     <85021449-F141-385B-8151-410662B4D328> /Users/asa/miniconda3/envs/courses/lib/python3.11/site-packages/torch/lib/libtorch_cpu.dylib'If you don't plan on using image functionality from `torchvision.io`, you can ignore this warning. Otherwise, there might be something wrong with your environment. Did you have `libjpeg` or `libpng` installed before building `torchvision` from source?\n",
      "  warn(\n"
     ]
    }
   ],
   "source": [
    "# torch imports \n",
    "import torch,torchvision\n",
    "from torch.autograd import Variable\n",
    "import torch.nn as nn\n",
    "import torch.nn.functional as F\n",
    "import torch.optim as optim\n",
    "from torchvision.transforms import ToTensor\n",
    "torch.manual_seed(42);"
   ]
  },
  {
   "cell_type": "code",
   "execution_count": 3,
   "metadata": {},
   "outputs": [
    {
     "name": "stdout",
     "output_type": "stream",
     "text": [
      "Using mps device\n"
     ]
    }
   ],
   "source": [
    "# if you have a GPU we should enable it\n",
    "# mps is the pytorch device that supports GPU computations on MacOS\n",
    "\n",
    "device = (\n",
    "    \"cuda\"\n",
    "    if torch.cuda.is_available()\n",
    "    else \"mps\"\n",
    "    if torch.backends.mps.is_available()\n",
    "    else \"cpu\"\n",
    ")\n",
    "print(f\"Using {device} device\")\n",
    "#device = \"cpu\""
   ]
  },
  {
   "cell_type": "markdown",
   "metadata": {},
   "source": [
    "## The MNIST dataset"
   ]
  },
  {
   "cell_type": "code",
   "execution_count": 4,
   "metadata": {},
   "outputs": [],
   "source": [
    "data = torchvision.datasets.MNIST('/Users/asa/datasets',\n",
    "                                  train=True,\n",
    "                                  transform = ToTensor(),\n",
    "                                  download=True,\n",
    "                                 )\n",
    "test_data = torchvision.datasets.MNIST('/Users/asa/datasets',\n",
    "                                  train=False,\n",
    "                                  transform = ToTensor(),\n",
    "                                  download=True,\n",
    "                                 )\n"
   ]
  },
  {
   "cell_type": "code",
   "execution_count": 5,
   "metadata": {},
   "outputs": [
    {
     "data": {
      "text/plain": [
       "((60000, 784), (10000, 784))"
      ]
     },
     "execution_count": 5,
     "metadata": {},
     "output_type": "execute_result"
    }
   ],
   "source": [
    "X_train_list = [data[i][0].flatten().numpy() for i in range(len(data))]\n",
    "X_train = np.row_stack(X_train_list)\n",
    "y_train = np.array([data[i][1] for i in range(len(data))])\n",
    "X_test_list = [test_data[i][0].flatten().numpy() for i in range(len(test_data))]\n",
    "X_test = np.row_stack(X_test_list)\n",
    "y_test = np.array([test_data[i][1] for i in range(len(test_data))])\n",
    "\n",
    "X_train.shape,X_test.shape"
   ]
  },
  {
   "cell_type": "markdown",
   "metadata": {},
   "source": [
    "## Convolutional Neural Networks"
   ]
  },
  {
   "cell_type": "markdown",
   "metadata": {},
   "source": [
    "Previously, we had identified two main issues with fully connected networks on image tasks:\n",
    "\n",
    "* **Very large numbers of parameters with increasing image sizes**.  Consider for example images of size 228x228x3, which is standard in this field.  Mapping this data to a hidden layer with 100 neurons will require 228\\*228\\*3\\*100 parameters from the input to the hidden layer - about 15,000,000.  This network would also not be successful - we would need to significantly increase the width and depth, compounding the issue.  It is likely that billions of parameters would be necessary to achieve good accuracy.\n",
    "* **Lack of translational invariance**.  If we take an image that represents the number seven, and shift the seven over a few pixels, we would expect it to still be classified as a seven.  However, fully connected networks are not able to represent this invariance.\n",
    "\n",
    "Convolutional layers allow us to address both issues.\n",
    "\n",
    "<img style=\"width:50%;\" alt=\"A simplified schema of the human visual pathway by Miquel Perello Nieteo CC BY-SA 4.0\" src=\"https://upload.wikimedia.org/wikipedia/commons/b/bf/Human_visual_pathway.svg\">\n",
    "\n",
    "Convolutional layers are (somewhat loosely) inspired by human vision systems, specifically the lateral geniculate nucleus (LGN) and the visual cortex.  In the above image, everything from the visual field to the LGN can be considered as the \"input\" to the network that the LGN and visual cortex form.  Since there are two eyes, this is somewhat analagous to an ensemble of two networks running on slightly different inputs.\n",
    "\n",
    "Both the LGN and visual cortex are split into a number of \"layers\" which perform various processing tasks while passing information from the optic nerve through.  For example, the visual cortex is split into six parts - V1 through V6.  V1, the primary visual cortex, identifies edges and lines in what is being viewed while preserving their relative locations in the image. That information is passed to deeper layers in the visual cortex.  [Biological Inspirations of Convolutional Neural Network](https://medium.com/@gopalkalpande/biological-inspiration-of-convolutional-neural-network-cnn-9419668898ac) and [Visual system](https://en.wikipedia.org/wiki/Visual_system) go more into depth on what those biological systems do."
   ]
  },
  {
   "cell_type": "markdown",
   "metadata": {},
   "source": [
    "Let's walk through how we can identify edges in images mathematically.  We'll start by looking at two images where identifying vertical or horizontal edges could help with classification:"
   ]
  },
  {
   "cell_type": "code",
   "execution_count": 6,
   "metadata": {},
   "outputs": [
    {
     "data": {
      "image/png": "[encoded data removed]",
      "text/plain": [
       "<Figure size 700x400 with 2 Axes>"
      ]
     },
     "metadata": {},
     "output_type": "display_data"
    }
   ],
   "source": [
    "fig = plt.figure(figsize=(7,4))\n",
    "ax = fig.add_subplot(121)\n",
    "ax2 = fig.add_subplot(122)\n",
    "\n",
    "ax.imshow(X_train[1].reshape(28,28), cmap='Greys')\n",
    "ax.axis('off')\n",
    "\n",
    "ax2.imshow(X_train[8].reshape(28,28), cmap='Greys')\n",
    "ax2.axis('off');"
   ]
  },
  {
   "cell_type": "markdown",
   "metadata": {},
   "source": [
    "We can identify the edges with a \"filter\" that we \"convolve\" over the image - we basically take a small matrix of numbers, and then for every pixel in the image we calculate the result of overlaying the matrix at that pixel.  In the below animation, the set of blue blocks are the input image, the darker blue region is where the filter is being applied, and the gray blocks are the output."
   ]
  },
  {
   "cell_type": "markdown",
   "metadata": {},
   "source": [
    "<img style=\"width:50%;\" alt=\"Convolution example by Irhum Shafkat available at https://towardsdatascience.com/intuitively-understanding-convolutions-for-deep-learning-1f6f42faee1\" src=\"https://miro.medium.com/max/700/1*Fw-ehcNBR9byHtho-Rxbtw.gif\">"
   ]
  },
  {
   "cell_type": "markdown",
   "metadata": {},
   "source": [
    "The following [article](https://towardsdatascience.com/intuitively-understanding-convolutions-for-deep-learning-1f6f42faee1) from which this image is used is a useful resource for learning about convolution, and goes into more detail than this notebook does about certain aspects of them.  The paper [A Guide to Convolution Arithmetic for Deep Learning by Vincent Dumoulin and Frencesco Visin](https://github.com/vdumoulin/conv_arithmetic) and its associated GitHub repository may also be a useful resource, although the paper is somewhat involved."
   ]
  },
  {
   "cell_type": "markdown",
   "metadata": {},
   "source": [
    "If we apply the filter\n",
    "$$ \\begin{bmatrix} 1 & 2 & 1 \\\\ 0 & 0 & 0 \\\\ -1 & -2 & -1 \\end{bmatrix} $$\n",
    "to the digits zero and one using this convolution structure, we get:"
   ]
  },
  {
   "cell_type": "code",
   "execution_count": 7,
   "metadata": {},
   "outputs": [
    {
     "data": {
      "image/png": "[encoded data removed]",
      "text/plain": [
       "<Figure size 700x500 with 3 Axes>"
      ]
     },
     "metadata": {},
     "output_type": "display_data"
    }
   ],
   "source": [
    "fig = plt.figure(figsize=(7,5))\n",
    "ax = fig.add_subplot(121)\n",
    "ax2 = fig.add_subplot(122)\n",
    "\n",
    "conv_result = scipy.signal.convolve2d(X_train[1].reshape(28, 28), \n",
    "                                      np.array([[1,2,1],[0,0,0],[-1,-2,-1]]))\n",
    "ax.imshow(conv_result, cmap='Greys')\n",
    "ax.axis('off')\n",
    "\n",
    "conv_result = scipy.signal.convolve2d(X_train[8].reshape(28, 28), \n",
    "                                      np.array([[1,2,1],[0,0,0],[-1,-2,-1]]))\n",
    "im = ax2.imshow(conv_result, cmap='Greys')\n",
    "ax2.axis('off')\n",
    "fig.colorbar(im, ax=[ax, ax2]);"
   ]
  },
  {
   "cell_type": "markdown",
   "metadata": {},
   "source": [
    "Here edges are represented by values with high magnitude, negative or positive, which correspond to the white and black pixels.  If we look for vertical edges (with the transpose of the horizontal edge matrix), we get"
   ]
  },
  {
   "cell_type": "code",
   "execution_count": 8,
   "metadata": {},
   "outputs": [
    {
     "data": {
      "image/png": "[encoded data removed]",
      "text/plain": [
       "<Figure size 700x500 with 3 Axes>"
      ]
     },
     "metadata": {},
     "output_type": "display_data"
    }
   ],
   "source": [
    "fig = plt.figure(figsize=(7,5))\n",
    "ax = fig.add_subplot(121)\n",
    "ax2 = fig.add_subplot(122)\n",
    "\n",
    "conv_result = scipy.signal.convolve2d(X_train[1].reshape(28, 28), \n",
    "                                      np.array([[1,2,1],[0,0,0],[-1,-2,-1]]).T)\n",
    "ax.imshow(conv_result, cmap='Greys')\n",
    "ax.axis('off')\n",
    "\n",
    "conv_result = scipy.signal.convolve2d(X_train[8].reshape(28, 28), \n",
    "                                      np.array([[1,2,1],[0,0,0],[-1,-2,-1]]).T)\n",
    "ax2.imshow(conv_result, cmap='Greys')\n",
    "ax2.axis('off')\n",
    "fig.colorbar(im, ax=[ax, ax2]);"
   ]
  },
  {
   "cell_type": "markdown",
   "metadata": {},
   "source": [
    "This isn't the method one would use for calculating edges in practice, but it still gives an example of what convolution does and how it can find potentially meaningful features.\n",
    "\n",
    "There are two other notes to make:\n",
    "* One of these filters only has nine parameters, but interacts with the entire image.  Using multiple filters can give us a number of meaningful features while using relatively few parameters.\n",
    "* This exploits the local structure of the image to create useful features.  Because the same filter is used everywhere, we don't need to worry about finding a fully constructed structure that will give us edge detection no matter where on the image we look - that happens for free.  Converting this to a \"fully connected\" layer in a neural network would require 784 nodes (really 900 - see next point).\n",
    "* Behavior on boundaries is important to keep in mind to avoid size issues.  As shown in the animation of convolutions, applying the 3x3 filter to every location that it doesn't run off the edge of the image, it will shrink by one pixel on each side, resulting in a 26x26 image for MNIST.  However, if we look at the size of one of the images resulting from the convolution we calculated:"
   ]
  },
  {
   "cell_type": "code",
   "execution_count": 9,
   "metadata": {},
   "outputs": [
    {
     "data": {
      "text/plain": [
       "(30, 30)"
      ]
     },
     "execution_count": 9,
     "metadata": {},
     "output_type": "execute_result"
    }
   ],
   "source": [
    "conv_result.shape"
   ]
  },
  {
   "cell_type": "markdown",
   "metadata": {},
   "source": [
    "it's not 28x28 or 26x26 - it's 30x30.  The signal subpackage from SciPy defaults to adding \"padding\" around the input image.  If a single \"pixel\" of padding is added for a 3x3 filter, we end up with an output that is the same size as the input, as shown in the figure below:"
   ]
  },
  {
   "cell_type": "markdown",
   "metadata": {},
   "source": [
    "<img style=\"width:50%;\" alt=\"Convolution padding example by Irhum Shafkat available at https://towardsdatascience.com/intuitively-understanding-convolutions-for-deep-learning-1f6f42faee1\" src=\"https://miro.medium.com/max/395/1*1okwhewf5KCtIPaFib4XaA.gif\">"
   ]
  },
  {
   "cell_type": "markdown",
   "metadata": {},
   "source": [
    "There are a few methods for determining what value a padding \"pixel\" has - the three most common are looping around the edges, extending the adjacent pixel, and setting the value to zero.  Of those, zero padding is the most common."
   ]
  },
  {
   "cell_type": "markdown",
   "metadata": {},
   "source": [
    "SciPy defaults to *two* pixels of padding on each edge, which results in one pixel being added to each edge of the output.  Keras, however, defaults to having no padding.  The amount of padding necessary to maintain the input image size also changes based on the size of the filter - a 3x3 filter needs one pixel of padding, but a 5x5 filter would need two pixels of padding."
   ]
  },
  {
   "cell_type": "markdown",
   "metadata": {},
   "source": [
    "In addition to padding, convolutional layers also have a stride parameter.  This parameter controls how far the filter moves along the original image when generating the output:"
   ]
  },
  {
   "cell_type": "markdown",
   "metadata": {},
   "source": [
    "<img style=\"width:50%;\" alt=\"Strides by Vincent Dumoulin and Frencesco Visin https://github.com/vdumoulin/conv_arithmetic\" src=\"https://raw.githubusercontent.com/vdumoulin/conv_arithmetic/master/gif/padding_strides.gif\">"
   ]
  },
  {
   "cell_type": "markdown",
   "metadata": {},
   "source": [
    "The above stride is two, rather than the default one from earlier images, and effectively \"halves\" the size of the input image in each dimension.  This result in subsampling of the image, which helps to reduce the amount of data (and therefore the number of parameters) passed through the network.\n",
    "\n",
    "Another form of subsampling is pooling, where the image is downsampled according to some algorithm.  One common method of doing this is max-pooling, where the maximum value in some region is passed as the value for the corresponding pixel in the output:"
   ]
  },
  {
   "cell_type": "markdown",
   "metadata": {},
   "source": [
    "<img style=\"width:50%;\" alt=\"Max Pooling by Aphex34 CC BY-SA 4.0 https://en.wikipedia.org/wiki/File:Max_pooling.png\" src=\"https://upload.wikimedia.org/wikipedia/commons/e/e9/Max_pooling.png\">"
   ]
  },
  {
   "cell_type": "markdown",
   "metadata": {},
   "source": [
    "Max pooling can also give local translational invariance.  If we moved a seven in one of our images to the right slightly, we would still want it to be classified in the same way.  Traditional fully connected networks have no method for explicitly learning to do this (although convolutions can help during the training process), but max pooling gives that invariance for free in the \"receptive fields\" of later layers - the region of pixels in the original image that influence the value of a pixel in a later layer.\n",
    "\n",
    "The \"typical\" convolutional neural network (CNN) structure is to have repeated convolutional and pooling layers, although a number of variations on this structure exist."
   ]
  },
  {
   "cell_type": "markdown",
   "metadata": {},
   "source": [
    "<img style=\"width:100%;\" alt=\"Max Pooling by Aphex34 CC BY-SA 4.0 https://en.wikipedia.org/wiki/File:Typical_cnn.png\" src=\"https://upload.wikimedia.org/wikipedia/commons/6/63/Typical_cnn.png\">"
   ]
  },
  {
   "cell_type": "markdown",
   "metadata": {},
   "source": [
    "The outputs of convolutional layers are often referred to as \"features,\" as they describe abstract features of the original image.\n",
    "\n",
    "With all of that background out of the way, we can now construct a CNN for MNIST:"
   ]
  },
  {
   "cell_type": "code",
   "execution_count": 10,
   "metadata": {},
   "outputs": [],
   "source": [
    "class mnist_cnn(nn.Module):\n",
    "    def __init__(self):\n",
    "        super().__init__()\n",
    "        self.conv1 = nn.Conv2d(1, 32, kernel_size=5)\n",
    "        self.conv2 = nn.Conv2d(32, 32, kernel_size=5)\n",
    "        self.conv3 = nn.Conv2d(32,64, kernel_size=5)\n",
    "        self.fc1 = nn.Linear(3*3*64, 256)\n",
    "        self.fc2 = nn.Linear(256, 10)\n",
    "\n",
    "    def forward(self, x):\n",
    "        x = F.relu(self.conv1(x))\n",
    "        x = F.relu(F.max_pool2d(self.conv2(x), 2))\n",
    "        x = F.relu(F.max_pool2d(self.conv3(x),2))\n",
    "        x = x.view(-1,3*3*64 )\n",
    "        x = F.relu(self.fc1(x))\n",
    "        x = F.dropout(x, training=self.training)\n",
    "        x = self.fc2(x)\n",
    "        return x"
   ]
  },
  {
   "cell_type": "markdown",
   "metadata": {},
   "source": [
    "### Question\n",
    "Given this network structure, with multiple convolutional layers before the same dense layer we saw previously, do you expect it to have (roughly)\n",
    "1. Half the parameters than the fully connected network\n",
    "2. The same number of parameters as the fully connected network\n",
    "3. Double the number of parameters of the fully connected network\n",
    "4. 10x more parameters than the fully connected network\n",
    "5. 100x more parameters than the fully connected network"
   ]
  },
  {
   "cell_type": "markdown",
   "metadata": {},
   "source": [
    "### Back to the network"
   ]
  },
  {
   "cell_type": "markdown",
   "metadata": {},
   "source": [
    "Now that we have the network setup, we can train it.  Each epoch will take longer than the fully connected network due to the complexity of the calculations that must be done."
   ]
  },
  {
   "cell_type": "code",
   "execution_count": 11,
   "metadata": {
    "scrolled": true
   },
   "outputs": [
    {
     "name": "stdout",
     "output_type": "stream",
     "text": [
      "mnist_cnn(\n",
      "  (conv1): Conv2d(1, 32, kernel_size=(5, 5), stride=(1, 1))\n",
      "  (conv2): Conv2d(32, 32, kernel_size=(5, 5), stride=(1, 1))\n",
      "  (conv3): Conv2d(32, 64, kernel_size=(5, 5), stride=(1, 1))\n",
      "  (fc1): Linear(in_features=576, out_features=256, bias=True)\n",
      "  (fc2): Linear(in_features=256, out_features=10, bias=True)\n",
      ")\n"
     ]
    }
   ],
   "source": [
    "model = mnist_cnn().to(device)\n",
    "print(model)"
   ]
  },
  {
   "cell_type": "code",
   "execution_count": 12,
   "metadata": {},
   "outputs": [],
   "source": [
    "def train_epoch(dataloader, model, loss_fn, optimizer):\n",
    "    size = len(dataloader.dataset)\n",
    "    num_batches = len(dataloader)\n",
    "    total_loss = 0\n",
    "    # set the model to training mode - important when you have \n",
    "    # batch normalization and dropout layers\n",
    "    model.train()\n",
    "    for batch_idx, (X, y) in enumerate(dataloader):\n",
    "        X, y = X.to(device), y.to(device)\n",
    "        optimizer.zero_grad()\n",
    "        # Compute prediction and loss\n",
    "        y_pred = model(X)\n",
    "        loss = loss_fn(y_pred, y)\n",
    "        # backpropagation\n",
    "        loss.backward()\n",
    "        optimizer.step()\n",
    "        total_loss += loss.item()\n",
    "        if batch_idx % 100 == 0:\n",
    "            current = (batch_idx + 1) * len(X)\n",
    "            print(f\"loss: {loss.item():>7f}  [{current:>5d}/{size:>5d}]\")\n",
    "    return total_loss / num_batches\n",
    "\n",
    "def validation(dataloader, model, loss_fn):\n",
    "    # set the model to evaluation mode \n",
    "    model.eval()\n",
    "    size = len(dataloader.dataset)\n",
    "    num_batches = len(dataloader)\n",
    "    test_loss, correct = 0, 0\n",
    "    # Evaluating the model with torch.no_grad() ensures that no gradients \n",
    "    # are computed during test mode\n",
    "    # also serves to reduce unnecessary gradient computations and memory usage \n",
    "    # for tensors with requires_grad=True\n",
    "    with torch.no_grad():\n",
    "        for X, y in dataloader:\n",
    "            X, y = X.to(device), y.to(device)\n",
    "            y_pred = model(X)\n",
    "            test_loss += loss_fn(y_pred, y).item()\n",
    "            correct += (y_pred.argmax(1) == y).type(torch.float).sum().item()\n",
    "\n",
    "    test_loss /= num_batches\n",
    "    correct /= size\n",
    "    print(f\"Test Error: \\n Accuracy: {(100*correct):>0.1f}%, Avg loss: {test_loss:>8f} \\n\")\n",
    "    return test_loss, correct\n"
   ]
  },
  {
   "cell_type": "code",
   "execution_count": 13,
   "metadata": {},
   "outputs": [
    {
     "name": "stdout",
     "output_type": "stream",
     "text": [
      "Epoch 1\n",
      "-------------------------------\n",
      "loss: 2.311691  [   64/60000]\n",
      "loss: 0.414207  [ 6464/60000]\n",
      "loss: 0.126149  [12864/60000]\n",
      "loss: 0.137312  [19264/60000]\n",
      "loss: 0.141227  [25664/60000]\n",
      "loss: 0.036712  [32064/60000]\n",
      "loss: 0.079493  [38464/60000]\n",
      "loss: 0.338051  [44864/60000]\n",
      "loss: 0.024217  [51264/60000]\n",
      "loss: 0.028230  [57664/60000]\n",
      "Test Error: \n",
      " Accuracy: 98.8%, Avg loss: 0.036829 \n",
      "\n",
      "Epoch 2\n",
      "-------------------------------\n",
      "loss: 0.156440  [   64/60000]\n",
      "loss: 0.089111  [ 6464/60000]\n",
      "loss: 0.060074  [12864/60000]\n",
      "loss: 0.086465  [19264/60000]\n",
      "loss: 0.010493  [25664/60000]\n",
      "loss: 0.033477  [32064/60000]\n",
      "loss: 0.101317  [38464/60000]\n",
      "loss: 0.013357  [44864/60000]\n",
      "loss: 0.021258  [51264/60000]\n",
      "loss: 0.021761  [57664/60000]\n",
      "Test Error: \n",
      " Accuracy: 99.0%, Avg loss: 0.029364 \n",
      "\n",
      "Epoch 3\n",
      "-------------------------------\n",
      "loss: 0.008368  [   64/60000]\n",
      "loss: 0.010573  [ 6464/60000]\n",
      "loss: 0.028066  [12864/60000]\n",
      "loss: 0.003389  [19264/60000]\n",
      "loss: 0.023370  [25664/60000]\n",
      "loss: 0.012489  [32064/60000]\n",
      "loss: 0.050168  [38464/60000]\n",
      "loss: 0.026242  [44864/60000]\n",
      "loss: 0.005541  [51264/60000]\n",
      "loss: 0.037657  [57664/60000]\n",
      "Test Error: \n",
      " Accuracy: 99.1%, Avg loss: 0.026939 \n",
      "\n",
      "Epoch 4\n",
      "-------------------------------\n",
      "loss: 0.023518  [   64/60000]\n",
      "loss: 0.049238  [ 6464/60000]\n",
      "loss: 0.005684  [12864/60000]\n",
      "loss: 0.061517  [19264/60000]\n",
      "loss: 0.001477  [25664/60000]\n",
      "loss: 0.018374  [32064/60000]\n",
      "loss: 0.043071  [38464/60000]\n",
      "loss: 0.000929  [44864/60000]\n",
      "loss: 0.037495  [51264/60000]\n",
      "loss: 0.004160  [57664/60000]\n",
      "Test Error: \n",
      " Accuracy: 99.1%, Avg loss: 0.027732 \n",
      "\n",
      "Epoch 5\n",
      "-------------------------------\n",
      "loss: 0.002538  [   64/60000]\n",
      "loss: 0.000721  [ 6464/60000]\n",
      "loss: 0.061294  [12864/60000]\n",
      "loss: 0.157953  [19264/60000]\n",
      "loss: 0.030854  [25664/60000]\n",
      "loss: 0.000061  [32064/60000]\n",
      "loss: 0.007737  [38464/60000]\n",
      "loss: 0.058378  [44864/60000]\n",
      "loss: 0.038629  [51264/60000]\n",
      "loss: 0.039572  [57664/60000]\n",
      "Test Error: \n",
      " Accuracy: 99.1%, Avg loss: 0.027957 \n",
      "\n",
      "Done!\n"
     ]
    }
   ],
   "source": [
    "learning_rate = 0.001\n",
    "batch_size = 64\n",
    "epochs = 5\n",
    "\n",
    "train_dataloader = torch.utils.data.DataLoader(data, batch_size=batch_size,\n",
    "                                               shuffle=True)\n",
    "valid_dataloader = torch.utils.data.DataLoader(test_data, batch_size=batch_size,\n",
    "                                               shuffle=True)\n",
    "\n",
    "model = mnist_cnn().to(device)\n",
    "loss_fn = nn.CrossEntropyLoss()\n",
    "optimizer = torch.optim.Adam(model.parameters(), lr=learning_rate)\n",
    "\n",
    "train_loss = []\n",
    "validation_loss = []\n",
    "for t in range(epochs):\n",
    "    print(f\"Epoch {t+1}\\n-------------------------------\")\n",
    "    loss = train_epoch(train_dataloader, model, loss_fn, optimizer)\n",
    "    train_loss.append(loss)\n",
    "    loss, accuracy = validation(valid_dataloader, model, loss_fn)\n",
    "    validation_loss.append(loss)\n",
    "print(\"Done!\")"
   ]
  },
  {
   "cell_type": "code",
   "execution_count": 14,
   "metadata": {},
   "outputs": [
    {
     "data": {
      "image/png": "[encoded data removed]",
      "text/plain": [
       "<Figure size 640x480 with 1 Axes>"
      ]
     },
     "metadata": {},
     "output_type": "display_data"
    }
   ],
   "source": [
    "plt.plot(train_loss, label='Train')\n",
    "plt.plot(validation_loss, label='Validation')\n",
    "plt.xlabel('Epoch')\n",
    "plt.ylabel('Loss')\n",
    "plt.legend();\n",
    "plt.ylim([0, 0.5]);"
   ]
  },
  {
   "cell_type": "markdown",
   "metadata": {},
   "source": [
    "This network converges to a good solution very quickly and ends with slightly better than 99% accuracy on the test set, an increase over the fully connected network's 97.5%.\n",
    "\n",
    "This may not seem like a significant increase over the fully connected network, but there are two points that make it impressive:\n",
    "1. This network requires half as many parameters\n",
    "2. Raw percentages are useful, but don't tell the whole story.  Increasing from 50% to 75% accuracy is a raw increase of 25%, and halves the error rate from 50% to 25%.  Increasing from 98% to 99% is a raw increase of 1%, but it also halves the error rate from 2% to 1%.  In general, as the accuracy increases, increasing it further becomes more difficult and can be suprisingly beneficial."
   ]
  },
  {
   "cell_type": "markdown",
   "metadata": {},
   "source": [
    "**Todo**: look at a few of the images the network misclassifies."
   ]
  },
  {
   "cell_type": "markdown",
   "metadata": {},
   "source": [
    "There are genuine mistakes in this set of images, but there are also images that for various reasons, such as poor cropping or poor handwriting, are difficult to classify.  Something that is not uncommon is datasets having a certain amount of label noise."
   ]
  },
  {
   "cell_type": "markdown",
   "metadata": {},
   "source": [
    "### Comments\n",
    "\n",
    "* MNIST is a relatively easy image classification task, and for more realistic benchmarks the difference between fully connected and convolutional networks is much more dramatic.\n",
    "* In the last notebook we provided some intuition into what the networks are doing.  With the high input dimension and complexity of these networks, that kind of analysis is now significantly more difficult.  However, there are resources that provide visualizations of what certain parts of the network are doing - [The Building Blocks of Interpretability](https://distill.pub/2018/building-blocks/) is one such resource that provides an interactive analysis of some features.  The host website ([distill.pub](https://distill.pub)) is also a good resource for learning about complex topics in neural networks."
   ]
  }
 ],
 "metadata": {
  "kernelspec": {
   "display_name": "Python 3 (ipykernel)",
   "language": "python",
   "name": "python3"
  },
  "language_info": {
   "codemirror_mode": {
    "name": "ipython",
    "version": 3
   },
   "file_extension": ".py",
   "mimetype": "text/x-python",
   "name": "python",
   "nbconvert_exporter": "python",
   "pygments_lexer": "ipython3",
   "version": "3.11.7"
  }
 },
 "nbformat": 4,
 "nbformat_minor": 4
}
