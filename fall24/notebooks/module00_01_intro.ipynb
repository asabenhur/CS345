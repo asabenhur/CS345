{
 "cells": [
  {
   "cell_type": "markdown",
   "metadata": {},
   "source": [
    "*This notebook is part of  course materials for CS 345: Machine Learning Foundations and Practice at Colorado State University.\n",
    "Original versions were created by Asa Ben-Hur with updates by Ross Beveridge.\n",
    "The content is availabe [on GitHub](https://github.com/asabenhur/CS345).*\n",
    "\n",
    "*The text is released under the [CC BY-SA license](https://creativecommons.org/licenses/by-sa/4.0/), and code is released under the [MIT license](https://opensource.org/licenses/MIT).*"
   ]
  },
  {
   "cell_type": "markdown",
   "metadata": {},
   "source": [
    "<a href=\"https://colab.research.google.com/github//asabenhur/CS345/blob/master/fall23/notebooks/module00_01_intro.ipynb\">\n",
    "  <img align=\"left\" src=\"https://colab.research.google.com/assets/colab-badge.svg\" alt=\"Open In Colab\"/>\n",
    "</a>"
   ]
  },
  {
   "cell_type": "markdown",
   "metadata": {
    "id": "-MWTUClTQFCe"
   },
   "source": [
    "# CS 345 Course Introduction\n"
   ]
  },
  {
   "cell_type": "markdown",
   "metadata": {
    "id": "Rkrho6zGRk9B"
   },
   "source": [
    "### Course Basics\n",
    "\n",
    "**Instructor:** Asa Ben-Hur\n",
    "\n",
    "The syllabus is on the [course website](https://www.cs.colostate.edu/~cs345/)."
   ]
  },
  {
   "cell_type": "markdown",
   "metadata": {
    "id": "GCnX8Wz3QFCh"
   },
   "source": [
    "### What is machine learning\n",
    "\n",
    "**Machine learning:**  the construction and study of systems that learn from data.\n",
    "\n",
    "It is a different way of solving problems.\n",
    "\n",
    "* **Traditional programming**:  you have to tell the computer explicitly how to transform an input to the desired output.\n",
    "* The **machine learning** approach:  you give the computer the ability to learn without being explicitly programmed.\n",
    "\n",
    "How do we do that?\n",
    "\n",
    "By showing the machine examples of how to map an input to an output.  The computer is not explicitly programmed to solve the problem.  It learns to do that directly from the data.\n",
    "\n",
    "The term \"machine learning\" was coined in the early 1950s by [Arthur Samuel](https://en.wikipedia.org/wiki/Arthur_Samuel), an early pioneer in this area.\n"
   ]
  },
  {
   "cell_type": "markdown",
   "metadata": {
    "id": "nf3d1P0ZQFCh"
   },
   "source": [
    "### A Classic Example of Supervised Learning\n",
    "\n",
    "Example problem:  handwritten digit recognition.\n",
    "\n",
    "Some examples from the [MNIST dataset](https://en.wikipedia.org/wiki/MNIST_database):\n",
    "\n",
    "<img style=\"padding: 10px; float:center;\" alt=\"MNIST dataset by Josef Steppan CC BY-SA 4.0\" src=\"https://upload.wikimedia.org/wikipedia/commons/2/27/MnistExamples.png\" width=\"350\">"
   ]
  },
  {
   "cell_type": "markdown",
   "metadata": {},
   "source": [
    "### Applications of machine learning\n",
    "\n",
    "* **Computer vision**: character recognition / face recognition\n",
    "* **Natural language processing**\n",
    "* **Speech recognition**\n",
    "* **Recommender systems**: Netflix, Amazon\n",
    "* **Basic science**: biology, chemistry, physics, math\n",
    "* **Applied science**:  health care, self driving cars\n",
    "* **Games**:  Until the arrival AlphaGO the game of GO was \"unsolved\" by AI; here's a very nice [documentary](https://www.youtube.com/watch?v=WXuK6gekU1Y) that describes the matches between AlphaGO and Lee Seidol.\n"
   ]
  },
  {
   "cell_type": "markdown",
   "metadata": {
    "id": "r4K01SsdQFCh"
   },
   "source": [
    "### Some necessary background\n",
    "\n",
    "Machine learning is an interdisciplinary field that requires background in multiple areas:\n",
    "\n",
    "* Linear algebra for working with vectors and matrices\n",
    "* Statistics and probability for reasoning about uncertainty\n",
    "* Calculus for optimization\n",
    "* Programming for efficient implementation of the algorithms\n"
   ]
  },
  {
   "cell_type": "markdown",
   "metadata": {
    "id": "u_AEb4LrQFCi"
   },
   "source": [
    "### Course objectives\n",
    "\n",
    "The machine learning toolbox:\n",
    "\n",
    "* Formulating a problem as an ML problem\n",
    "* Understanding a variety of ML algorithms\n",
    "* Running and interpreting ML experiments\n",
    "* Understanding what makes ML work – theory and practice\n"
   ]
  },
  {
   "cell_type": "markdown",
   "metadata": {
    "id": "SqLp7bVEQFCl"
   },
   "source": [
    "### Python\n",
    "\n",
    "Why Python?\n",
    "\n",
    "<img style=\"float: right;\" src=\"https://www.python.org/static/community_logos/python-logo.png\" width=\"200\">\n",
    "\n",
    "* A concise and intuitive language\n",
    "* Simple, easy to learn syntax\n",
    "* Highly readable, compact code\n",
    "* Supports object oriented and functional programming\n",
    "* Strong support for integration with other languages (C,C++,Java)\n",
    "* Cross-platform compatibility\n",
    "* Free\n",
    "* Makes programming fun!\n",
    "\n",
    "**We assume you already know the basics of Python**. That said, most of us can benefit from a little review, so we will do a quick guided walkthrough of some Python basics in the following [notebook](https://github.com/asabenhur/CS345/blob/master/fall23/notebooks/module00_02_python_intro.ipynb).\n",
    "You may also want to take advantage of: [A Whirlwind Tour of the Python Language](https://github.com/jakevdp/WhirlwindTourOfPython)."
   ]
  },
  {
   "cell_type": "markdown",
   "metadata": {},
   "source": [
    "### Class poll - experience with Python"
   ]
  },
  {
   "cell_type": "markdown",
   "metadata": {
    "id": "SqLp7bVEQFCl"
   },
   "source": [
    "### Why Python for machine learning?\n",
    "\n",
    "Since the early days of computer science, AI programmers have differed significantly from other areas of CS, making use of the [Lisp](https://en.wikipedia.org/wiki/Lisp_(programming_language)).\n",
    "In recent years Python has emerged as the language of choice for machine learning and data science.\n",
    "Indeed, for those not fond of many nested parentheses, the hall-mark of Lisp, Python will be an improvement. Here are a few of the aspects of Python that make it a great choice for our needs in machine learning and data science:\n",
    "\n",
    "* An interpreted language – allows for interactive data analysis\n",
    "* Libraries for plotting and vector/matrix computation\n",
    "* Many machine learning packages available:  scikit-learn, TensorFlow, PyTorch\n",
    "* Language of choice for many ML practitioners (other options: R, matlab)\n",
    "\n",
    "As an example, below is a sample visualization showing different ways to classify/label data using scikit-learn, plotted with Matplotlib.\n",
    "\n",
    "![image](https://scikit-learn.org/stable/_images/sphx_glr_plot_classifier_comparison_001.png)\n",
    "\n",
    "\n",
    "### The tools we will cover in this course:\n",
    "\n",
    "* **NumPy**:  highly efficient manipulation of vectors and matrices\n",
    "* **Matplotlib**: data visualization\n",
    "* **scikit-learn**:  the \"standard\" machine learning package in Python"
   ]
  },
  {
   "cell_type": "markdown",
   "metadata": {
    "id": "B5pu5lKWQFCl"
   },
   "source": [
    "### The Anaconda Python distribution\n",
    "\n",
    "<img style=\"float: right;\" src=\"https://upload.wikimedia.org/wikipedia/en/c/cd/Anaconda_Logo.png\" alt=\"drawing\" width=\"150\"/>\n",
    "\n",
    "If setting up Python on your personal machine, we recommend the [Anaconda](https://www.anaconda.com/download) Python environment which is a data-science oriented distribution that includes all the tools we will use in this course. Note that the smaller [Miniconda](https://docs.conda.io/en/latest/miniconda.html) is the variant  we recommend, since the full Anaconda is bloated and contains a lot of packages you will never need.\n",
    "\n",
    "Also, make sure you use version 3.X of Python.\n"
   ]
  },
  {
   "cell_type": "markdown",
   "metadata": {
    "id": "kJRp08u2QFCm"
   },
   "source": [
    "### The Jupyter Notebook\n",
    "\n",
    "The Jupyter notebook is a browser-based interface for the ``IPython`` Python shell.\n",
    "In addition to executing Python/IPython statements, the notebook allows the user to include formatted text, static and dynamic visualizations, mathematical equations, and much more. \n",
    "**It is the standard way of sharing data science analyses.**\n",
    "\n",
    "<img style=\"float: right;\" src=\"https://upload.wikimedia.org/wikipedia/commons/3/38/Jupyter_logo.svg\" width=\"100\">\n",
    "\n",
    "\n",
    "To invoke Jupyter from the command line use the command:\n",
    "\n",
    "```bash\n",
    "jupyter notebook\n",
    "```\n",
    "\n",
    "which brings up the Jupyter notebook dashboard which allows you to browse Jupyter notebooks.  To open a specific notebook:\n",
    "\n",
    "```bash \n",
    "jupyter notebook notebook_name.ipynb\n",
    "```\n",
    "\n",
    "In Linux/Mac, do this at a terminal; in Windows, use the \"Command Prompt\"."
   ]
  },
  {
   "cell_type": "markdown",
   "metadata": {},
   "source": [
    "### Class Poll - have you been to Jupyter before?"
   ]
  },
  {
   "cell_type": "markdown",
   "metadata": {
    "id": "OvDeZukB4FQ3"
   },
   "source": [
    "### The alternative:  Google Colab\n",
    "\n",
    "<img style=\"float: right;\" src=\"https://colab.research.google.com/img/colab_favicon_256px.png\" alt=\"drawing\" width=\"100\"/>\n",
    "\n",
    "\n",
    "As an alternative to Anaconda, you can use [Google Colab](https://research.google.com/colaboratory/).  The notebooks for the class can be opened directly from the github repository of the course by clicking the \"open in colab\" badge.  *If using Colab, make sure to copy the notebook to your google drive so that any changes you make will be saved.*\n",
    "Jupyter notebook and Google Colab are entirely compatible with each other, and have a very similar interface.  The Colab option becomes very compelling for neural networks, as it provides GPU support (for free!)"
   ]
  },
  {
   "cell_type": "markdown",
   "metadata": {
    "id": "j789Chyr4FQ3"
   },
   "source": [
    "### A Taste of Jupyter"
   ]
  },
  {
   "cell_type": "markdown",
   "metadata": {
    "id": "Rguaz6P6QFCm"
   },
   "source": [
    "There are two primary types of cells in Jupyter:"
   ]
  },
  {
   "cell_type": "code",
   "execution_count": 1,
   "metadata": {
    "executionInfo": {
     "elapsed": 403,
     "status": "ok",
     "timestamp": 1611252289381,
     "user": {
      "displayName": "Ross Beveridge",
      "photoUrl": "https://lh3.googleusercontent.com/a-/AOh14GhZ9yfcROZXIKThWciv5reom6aDm1Spt-r8JOsVNA=s64",
      "userId": "11748907218223072510"
     },
     "user_tz": 420
    },
    "id": "YRdVAcKUQFCm"
   },
   "outputs": [
    {
     "name": "stdout",
     "output_type": "stream",
     "text": [
      "Hello world!\n"
     ]
    }
   ],
   "source": [
    "# this is a code cell\n",
    "print(\"Hello world!\")"
   ]
  },
  {
   "cell_type": "markdown",
   "metadata": {
    "id": "f0m2YfLOQFCn"
   },
   "source": [
    "### Displaying text in Jupyter notebooks\n",
    "\n",
    "This is a **markdown** cell.  [Markdown](https://en.wikipedia.org/wiki/Markdown) is a simple markup language that is now very commonly used.  Here is a nice [cheatsheet](https://github.com/adam-p/markdown-here/wiki/Markdown-Cheatsheet) that lists markdown syntax.  The rest of this cell contains some examples of useful markdown features.\n",
    "\n",
    "You can type *text* and good looking equations.  Double click on a markdown cell in order to see the markup.\n",
    "\n",
    "You can have headings of various levels:\n",
    "\n",
    "#### This is a heading\n",
    "\n",
    "As well lists (bulleted or numbered):\n",
    "\n",
    "1. Numbered item\n",
    "* Bulleted item\n",
    "\n",
    "Equations can be created using [LaTex](https://www.latex-project.org/) without the need for an equation editor:\n",
    "\n",
    "$$f(x) = \\frac{1}{2\\pi} e^{-2 x^2 / \\sigma^2}$$\n",
    "\n",
    "\n",
    "Next let us explore the use of code cells:"
   ]
  },
  {
   "cell_type": "code",
   "execution_count": 2,
   "metadata": {
    "colab": {
     "base_uri": "https://localhost:8080/"
    },
    "executionInfo": {
     "elapsed": 284,
     "status": "ok",
     "timestamp": 1611252748139,
     "user": {
      "displayName": "Ross Beveridge",
      "photoUrl": "https://lh3.googleusercontent.com/a-/AOh14GhZ9yfcROZXIKThWciv5reom6aDm1Spt-r8JOsVNA=s64",
      "userId": "11748907218223072510"
     },
     "user_tz": 420
    },
    "id": "lbUh2PMUQFCn",
    "outputId": "47f2b492-dcdb-4346-f3fd-ec44bb4045b7"
   },
   "outputs": [
    {
     "data": {
      "text/plain": [
       "5"
      ]
     },
     "execution_count": 2,
     "metadata": {},
     "output_type": "execute_result"
    }
   ],
   "source": [
    "2 + 3"
   ]
  },
  {
   "cell_type": "markdown",
   "metadata": {
    "id": "gwwigFFNQFCn"
   },
   "source": [
    "You can run shell commands:"
   ]
  },
  {
   "cell_type": "code",
   "execution_count": 3,
   "metadata": {
    "id": "xLEMnQt2QFCo"
   },
   "outputs": [
    {
     "name": "stdout",
     "output_type": "stream",
     "text": [
      "README.md\r\n",
      "module00_01_intro.ipynb\r\n",
      "module00_02_python_intro.ipynb\r\n",
      "module00_03_numpy.ipynb\r\n",
      "module00_04_matplotlib.ipynb\r\n",
      "module01_01_labeled_data.ipynb\r\n",
      "module01_02_vectors_dot_products.ipynb\r\n",
      "module01_03_hyperplanes.ipynb\r\n",
      "module01_04_matrices.ipynb\r\n",
      "module01_05_perceptron.ipynb\r\n",
      "module02_01_nearest_neighbors.ipynb\r\n",
      "module02_02_more_nearest_neighbors.ipynb\r\n",
      "module02_03_pca.ipynb\r\n",
      "module02_04_svm.ipynb\r\n",
      "module03_01_nn_to_regression.ipynb\r\n",
      "module03_02_linear_regression.ipynb\r\n",
      "module03_03_derivatives_partial_derivatives.ipynb\r\n",
      "module03_04_multivariate_linear_regression.ipynb\r\n",
      "module03_05_linear_regression_gradient_descent.ipynb\r\n",
      "module04_01_overfitting_basis_function_regression.ipynb\r\n",
      "module04_02_regularization.ipynb\r\n",
      "module04_03_kernels.ipynb\r\n",
      "module05_01_hyperparameters_validation_set.ipynb\r\n",
      "module05_02_cross_validation.ipynb\r\n",
      "module05_03_model_selection.ipynb\r\n",
      "module05_04_classifier_accuracy.ipynb\r\n",
      "module06_01_decision_trees.ipynb\r\n",
      "module06_02_ensemble_methods.ipynb\r\n",
      "module07_01_neural_networks_mlp.ipynb\r\n",
      "module07_02_neural_networks_keras.ipynb\r\n",
      "module07_03_neural_networks_mnist.ipynb\r\n",
      "module08_01_conclusions.ipynb\r\n"
     ]
    }
   ],
   "source": [
    "!ls"
   ]
  },
  {
   "cell_type": "markdown",
   "metadata": {
    "id": "7CnqID1eQFCo"
   },
   "source": [
    "The `%` sign is used for *magic commands*, which are iPython shell commands.  For example, to find what other magic commands there are"
   ]
  },
  {
   "cell_type": "code",
   "execution_count": 4,
   "metadata": {
    "colab": {
     "base_uri": "https://localhost:8080/",
     "height": 159
    },
    "executionInfo": {
     "elapsed": 279,
     "status": "ok",
     "timestamp": 1611252804940,
     "user": {
      "displayName": "Ross Beveridge",
      "photoUrl": "https://lh3.googleusercontent.com/a-/AOh14GhZ9yfcROZXIKThWciv5reom6aDm1Spt-r8JOsVNA=s64",
      "userId": "11748907218223072510"
     },
     "user_tz": 420
    },
    "id": "R6gpjEIcQFCo",
    "outputId": "1603ad21-6598-489e-c8e6-0404c425d64a"
   },
   "outputs": [
    {
     "data": {
      "application/json": {
       "cell": {
        "!": "OSMagics",
        "HTML": "Other",
        "SVG": "Other",
        "bash": "Other",
        "capture": "ExecutionMagics",
        "debug": "ExecutionMagics",
        "file": "Other",
        "html": "DisplayMagics",
        "javascript": "DisplayMagics",
        "js": "DisplayMagics",
        "latex": "DisplayMagics",
        "markdown": "DisplayMagics",
        "perl": "Other",
        "prun": "ExecutionMagics",
        "pypy": "Other",
        "python": "Other",
        "python2": "Other",
        "python3": "Other",
        "ruby": "Other",
        "script": "ScriptMagics",
        "sh": "Other",
        "svg": "DisplayMagics",
        "sx": "OSMagics",
        "system": "OSMagics",
        "time": "ExecutionMagics",
        "timeit": "ExecutionMagics",
        "writefile": "OSMagics"
       },
       "line": {
        "alias": "OSMagics",
        "alias_magic": "BasicMagics",
        "autoawait": "AsyncMagics",
        "autocall": "AutoMagics",
        "automagic": "AutoMagics",
        "autosave": "KernelMagics",
        "bookmark": "OSMagics",
        "cat": "Other",
        "cd": "OSMagics",
        "clear": "KernelMagics",
        "colors": "BasicMagics",
        "conda": "PackagingMagics",
        "config": "ConfigMagics",
        "connect_info": "KernelMagics",
        "cp": "Other",
        "debug": "ExecutionMagics",
        "dhist": "OSMagics",
        "dirs": "OSMagics",
        "doctest_mode": "BasicMagics",
        "ed": "Other",
        "edit": "KernelMagics",
        "env": "OSMagics",
        "gui": "BasicMagics",
        "hist": "Other",
        "history": "HistoryMagics",
        "killbgscripts": "ScriptMagics",
        "ldir": "Other",
        "less": "KernelMagics",
        "lf": "Other",
        "lk": "Other",
        "ll": "Other",
        "load": "CodeMagics",
        "load_ext": "ExtensionMagics",
        "loadpy": "CodeMagics",
        "logoff": "LoggingMagics",
        "logon": "LoggingMagics",
        "logstart": "LoggingMagics",
        "logstate": "LoggingMagics",
        "logstop": "LoggingMagics",
        "ls": "Other",
        "lsmagic": "BasicMagics",
        "lx": "Other",
        "macro": "ExecutionMagics",
        "magic": "BasicMagics",
        "man": "KernelMagics",
        "matplotlib": "PylabMagics",
        "mkdir": "Other",
        "more": "KernelMagics",
        "mv": "Other",
        "notebook": "BasicMagics",
        "page": "BasicMagics",
        "pastebin": "CodeMagics",
        "pdb": "ExecutionMagics",
        "pdef": "NamespaceMagics",
        "pdoc": "NamespaceMagics",
        "pfile": "NamespaceMagics",
        "pinfo": "NamespaceMagics",
        "pinfo2": "NamespaceMagics",
        "pip": "PackagingMagics",
        "popd": "OSMagics",
        "pprint": "BasicMagics",
        "precision": "BasicMagics",
        "prun": "ExecutionMagics",
        "psearch": "NamespaceMagics",
        "psource": "NamespaceMagics",
        "pushd": "OSMagics",
        "pwd": "OSMagics",
        "pycat": "OSMagics",
        "pylab": "PylabMagics",
        "qtconsole": "KernelMagics",
        "quickref": "BasicMagics",
        "recall": "HistoryMagics",
        "rehashx": "OSMagics",
        "reload_ext": "ExtensionMagics",
        "rep": "Other",
        "rerun": "HistoryMagics",
        "reset": "NamespaceMagics",
        "reset_selective": "NamespaceMagics",
        "rm": "Other",
        "rmdir": "Other",
        "run": "ExecutionMagics",
        "save": "CodeMagics",
        "sc": "OSMagics",
        "set_env": "OSMagics",
        "store": "StoreMagics",
        "sx": "OSMagics",
        "system": "OSMagics",
        "tb": "ExecutionMagics",
        "time": "ExecutionMagics",
        "timeit": "ExecutionMagics",
        "unalias": "OSMagics",
        "unload_ext": "ExtensionMagics",
        "who": "NamespaceMagics",
        "who_ls": "NamespaceMagics",
        "whos": "NamespaceMagics",
        "xdel": "NamespaceMagics",
        "xmode": "BasicMagics"
       }
      },
      "text/plain": [
       "Available line magics:\n",
       "%alias  %alias_magic  %autoawait  %autocall  %automagic  %autosave  %bookmark  %cat  %cd  %clear  %colors  %conda  %config  %connect_info  %cp  %debug  %dhist  %dirs  %doctest_mode  %ed  %edit  %env  %gui  %hist  %history  %killbgscripts  %ldir  %less  %lf  %lk  %ll  %load  %load_ext  %loadpy  %logoff  %logon  %logstart  %logstate  %logstop  %ls  %lsmagic  %lx  %macro  %magic  %man  %matplotlib  %mkdir  %more  %mv  %notebook  %page  %pastebin  %pdb  %pdef  %pdoc  %pfile  %pinfo  %pinfo2  %pip  %popd  %pprint  %precision  %prun  %psearch  %psource  %pushd  %pwd  %pycat  %pylab  %qtconsole  %quickref  %recall  %rehashx  %reload_ext  %rep  %rerun  %reset  %reset_selective  %rm  %rmdir  %run  %save  %sc  %set_env  %store  %sx  %system  %tb  %time  %timeit  %unalias  %unload_ext  %who  %who_ls  %whos  %xdel  %xmode\n",
       "\n",
       "Available cell magics:\n",
       "%%!  %%HTML  %%SVG  %%bash  %%capture  %%debug  %%file  %%html  %%javascript  %%js  %%latex  %%markdown  %%perl  %%prun  %%pypy  %%python  %%python2  %%python3  %%ruby  %%script  %%sh  %%svg  %%sx  %%system  %%time  %%timeit  %%writefile\n",
       "\n",
       "Automagic is ON, % prefix IS NOT needed for line magics."
      ]
     },
     "execution_count": 4,
     "metadata": {},
     "output_type": "execute_result"
    }
   ],
   "source": [
    "%lsmagic"
   ]
  },
  {
   "cell_type": "markdown",
   "metadata": {
    "id": "UJwlvMCIQFCo"
   },
   "source": [
    "The `%timeit` magic is one that we will use quite regularly.  Let's learn what it's for:"
   ]
  },
  {
   "cell_type": "code",
   "execution_count": 9,
   "metadata": {
    "executionInfo": {
     "elapsed": 302,
     "status": "ok",
     "timestamp": 1611252814941,
     "user": {
      "displayName": "Ross Beveridge",
      "photoUrl": "https://lh3.googleusercontent.com/a-/AOh14GhZ9yfcROZXIKThWciv5reom6aDm1Spt-r8JOsVNA=s64",
      "userId": "11748907218223072510"
     },
     "user_tz": 420
    },
    "id": "TGNz2ogZQFCp",
    "podoc": {
     "output_text": "Screenshot of the pager"
    }
   },
   "outputs": [],
   "source": [
    "%timeit?"
   ]
  },
  {
   "cell_type": "markdown",
   "metadata": {
    "id": "25vUFoExQFCp"
   },
   "source": [
    "Now try this:"
   ]
  },
  {
   "cell_type": "code",
   "execution_count": 6,
   "metadata": {
    "executionInfo": {
     "elapsed": 263,
     "status": "ok",
     "timestamp": 1611252881857,
     "user": {
      "displayName": "Ross Beveridge",
      "photoUrl": "https://lh3.googleusercontent.com/a-/AOh14GhZ9yfcROZXIKThWciv5reom6aDm1Spt-r8JOsVNA=s64",
      "userId": "11748907218223072510"
     },
     "user_tz": 420
    },
    "id": "zzSDnPFqQFCp"
   },
   "outputs": [],
   "source": [
    "import antigravity"
   ]
  },
  {
   "cell_type": "markdown",
   "metadata": {
    "id": "2j5EwUOyQFCp"
   },
   "source": [
    "### Mastering the Jupyter notebook\n",
    "\n",
    "To be more productive in using notebooks, I highly recommend exploring the notebook keyboard shortcuts.\n",
    "Here is a useful [blog post](https://www.dataquest.io/blog/jupyter-notebook-tips-tricks-shortcuts/) that provides a detailed overview.\n",
    "You will also need to know the basics of Markdown syntax.\n",
    "\n",
    "One of the nice features of the Jupyter notebook is that it supports writing mathematical equation using LaTex.  Here is another example of what you can do with LaTex:\n",
    "\n",
    "$$\n",
    "\\sum_{i=1}^N x_i^2 + \\alpha \n",
    "$$\n",
    "\n",
    "\n",
    "And here is the markup that generated this formula\n",
    "```latex\n",
    "$$\n",
    "\\sum_{i=1}^N x_i^2 + \\alpha\n",
    "$$\n",
    "```\n",
    "All LaTex commands are preceded by a `\\`, and as you can see, it is quite intuitive!"
   ]
  }
 ],
 "metadata": {
  "colab": {
   "collapsed_sections": [],
   "name": "module01_01_intro.ipynb",
   "provenance": []
  },
  "kernelspec": {
   "display_name": "Python 3 (ipykernel)",
   "language": "python",
   "name": "python3"
  },
  "language_info": {
   "codemirror_mode": {
    "name": "ipython",
    "version": 3
   },
   "file_extension": ".py",
   "mimetype": "text/x-python",
   "name": "python",
   "nbconvert_exporter": "python",
   "pygments_lexer": "ipython3",
   "version": "3.10.9"
  }
 },
 "nbformat": 4,
 "nbformat_minor": 4
}
