{
 "cells": [
  {
   "cell_type": "markdown",
   "metadata": {},
   "source": [
    "*This notebook is part of  course materials for CS 345: Machine Learning Foundations and Practice at Colorado State University.\n",
    "Original versions were created by Asa Ben-Hur with updates by Ross Beveridge.\n",
    "The content is availabe [on GitHub](https://github.com/asabenhur/CS345).*\n",
    "\n",
    "*The text is released under the [CC BY-SA license](https://creativecommons.org/licenses/by-sa/4.0/), and code is released under the [MIT license](https://opensource.org/licenses/MIT).*"
   ]
  },
  {
   "cell_type": "markdown",
   "metadata": {},
   "source": [
    "<a href=\"https://colab.research.google.com/github//asabenhur/CS345/blob/master/fall23/notebooks/module01_03_dot_products.ipynb\">\n",
    "  <img align=\"left\" src=\"https://colab.research.google.com/assets/colab-badge.svg\" alt=\"Open In Colab\"/>\n",
    "</a>"
   ]
  },
  {
   "cell_type": "markdown",
   "metadata": {
    "id": "ojPDYkGLys8t"
   },
   "source": [
    "# Linear Algebra Meets Geometry Part 2\n",
    "\n",
    "In this notebook we continue the discussion of vectors and geometrical operations on them that are relevant to machine learning."
   ]
  },
  {
   "cell_type": "markdown",
   "metadata": {
    "id": "m7LjxNrGys84"
   },
   "source": [
    "### *Support code*\n",
    "\n",
    "Imports and useful functions"
   ]
  },
  {
   "cell_type": "code",
   "execution_count": 1,
   "metadata": {
    "executionInfo": {
     "elapsed": 527,
     "status": "ok",
     "timestamp": 1612286986851,
     "user": {
      "displayName": "Ross Beveridge",
      "photoUrl": "https://lh3.googleusercontent.com/a-/AOh14GhZ9yfcROZXIKThWciv5reom6aDm1Spt-r8JOsVNA=s64",
      "userId": "11748907218223072510"
     },
     "user_tz": 420
    },
    "id": "hUcEXFuEys84"
   },
   "outputs": [],
   "source": [
    "import numpy as np\n",
    "import math\n",
    "from matplotlib import pyplot as plt"
   ]
  },
  {
   "cell_type": "code",
   "execution_count": 2,
   "metadata": {
    "executionInfo": {
     "elapsed": 684,
     "status": "ok",
     "timestamp": 1612286987011,
     "user": {
      "displayName": "Ross Beveridge",
      "photoUrl": "https://lh3.googleusercontent.com/a-/AOh14GhZ9yfcROZXIKThWciv5reom6aDm1Spt-r8JOsVNA=s64",
      "userId": "11748907218223072510"
     },
     "user_tz": 420
    },
    "hideCode": false,
    "hidePrompt": true,
    "id": "oNl9IbUlys85"
   },
   "outputs": [],
   "source": [
    "import matplotlib as mpl\n",
    "mpl.rcParams['figure.dpi']=150"
   ]
  },
  {
   "cell_type": "code",
   "execution_count": 3,
   "metadata": {
    "executionInfo": {
     "elapsed": 866,
     "status": "ok",
     "timestamp": 1612286987194,
     "user": {
      "displayName": "Ross Beveridge",
      "photoUrl": "https://lh3.googleusercontent.com/a-/AOh14GhZ9yfcROZXIKThWciv5reom6aDm1Spt-r8JOsVNA=s64",
      "userId": "11748907218223072510"
     },
     "user_tz": 420
    },
    "hideCode": true,
    "hidePrompt": true,
    "id": "DPZbkyZdys85"
   },
   "outputs": [],
   "source": [
    "from matplotlib.ticker import MaxNLocator\n",
    "def axes_at_zero(ax):\n",
    "    \"\"\"helper to make the axes go through (0,0)\"\"\"\n",
    "    ax.spines['left'].set_position(('data', 0.0))\n",
    "    ax.spines['bottom'].set_position(('data', 0.0))\n",
    "    ax.spines['right'].set_visible(False)\n",
    "    ax.spines['top'].set_visible(False)\n",
    "    ax.xaxis.set_major_locator(MaxNLocator(integer=True))\n",
    "    ax.yaxis.set_major_locator(MaxNLocator(integer=True))\n",
    "    ax.set_aspect('equal')\n",
    "    \n"
   ]
  },
  {
   "cell_type": "code",
   "execution_count": 4,
   "metadata": {
    "executionInfo": {
     "elapsed": 866,
     "status": "ok",
     "timestamp": 1612286987196,
     "user": {
      "displayName": "Ross Beveridge",
      "photoUrl": "https://lh3.googleusercontent.com/a-/AOh14GhZ9yfcROZXIKThWciv5reom6aDm1Spt-r8JOsVNA=s64",
      "userId": "11748907218223072510"
     },
     "user_tz": 420
    },
    "id": "nCkw_0A0ys85"
   },
   "outputs": [],
   "source": [
    "def plot_vector(vector, origin=[0, 0], **options):\n",
    "    return plt.arrow(origin[0], origin[1], vector[0], vector[1],\n",
    "              head_width=0.1, head_length=0.2, length_includes_head=True,\n",
    "              **options)"
   ]
  },
  {
   "cell_type": "markdown",
   "metadata": {
    "id": "h_jk4-PTys9E"
   },
   "source": [
    "## The norm of a vector\n",
    "\n",
    "The *length* of a vector in two dimensions $\\mathbf{v} = (v_1, v_2)^\\top$ is equal to $\\sqrt{v_1^2 + v_2^2}$.  This is a simple application of the Pythagorean theorem.\n",
    "For example:"
   ]
  },
  {
   "cell_type": "code",
   "execution_count": 19,
   "metadata": {
    "colab": {
     "base_uri": "https://localhost:8080/",
     "height": 450
    },
    "executionInfo": {
     "elapsed": 2737,
     "status": "ok",
     "timestamp": 1612286989197,
     "user": {
      "displayName": "Ross Beveridge",
      "photoUrl": "https://lh3.googleusercontent.com/a-/AOh14GhZ9yfcROZXIKThWciv5reom6aDm1Spt-r8JOsVNA=s64",
      "userId": "11748907218223072510"
     },
     "user_tz": 420
    },
    "hideCode": true,
    "hidePrompt": true,
    "id": "2eAe7Kq7ys9F",
    "outputId": "6328cc6c-8ef5-435d-b207-f85e28f74b7c"
   },
   "outputs": [
    {
     "data": {
      "image/png": "[encoded data removed]",
      "text/plain": [
       "<Figure size 450x450 with 1 Axes>"
      ]
     },
     "metadata": {},
     "output_type": "display_data"
    }
   ],
   "source": [
    "fig=plt.figure(figsize=(3,3))\n",
    "#plt.grid()\n",
    "plot_vector((3,2))\n",
    "plt.ylim(-0.05,3.5);\n",
    "plt.xlim(0,3.5);\n",
    "plt.arrow(3,0,0,2, width=0.001,length_includes_head=True, alpha=1,linestyle=':',color='b');\n",
    "plt.arrow(0,0,3,0, width=0.001,length_includes_head=True, alpha=1,linestyle=':',color='b');\n",
    "plt.text(0.5,2.2 , r'$\\mathrm{length} = \\sqrt{3^2+2^2}=\\sqrt{13}$');\n"
   ]
  },
  {
   "cell_type": "markdown",
   "metadata": {
    "id": "7RBClBD0ys9G"
   },
   "source": [
    "We can generalize this concept to vectors in $d$ dimensions.  \n",
    "\n",
    "Let $\\mathbf{v} = (v_1, v_2,\\ldots,v_d)^\\top$. Its length or **norm** is given by:\n",
    "\n",
    "$$\n",
    "||\\mathbf{v}|| = \\sqrt{\\sum_{i=1}^d v_i^2}.\n",
    "$$\n",
    "\n",
    "This is such a common operation that NumPy has a function for computing it:"
   ]
  },
  {
   "cell_type": "code",
   "execution_count": 20,
   "metadata": {
    "colab": {
     "base_uri": "https://localhost:8080/"
    },
    "executionInfo": {
     "elapsed": 2726,
     "status": "ok",
     "timestamp": 1612286989197,
     "user": {
      "displayName": "Ross Beveridge",
      "photoUrl": "https://lh3.googleusercontent.com/a-/AOh14GhZ9yfcROZXIKThWciv5reom6aDm1Spt-r8JOsVNA=s64",
      "userId": "11748907218223072510"
     },
     "user_tz": 420
    },
    "id": "qGsTA3xGys9G",
    "outputId": "e124876d-831e-4641-80f0-07b5e0898082"
   },
   "outputs": [
    {
     "data": {
      "text/plain": [
       "5.916079783099616"
      ]
     },
     "execution_count": 20,
     "metadata": {},
     "output_type": "execute_result"
    }
   ],
   "source": [
    "np.linalg.norm(np.array([1,3,5]))"
   ]
  },
  {
   "cell_type": "markdown",
   "metadata": {
    "id": "GIuDClJ6ys9G"
   },
   "source": [
    "### Exercise:\n",
    "\n",
    "* Write pure Python code that verifies that `np.linalg.norm` is giving the expected result."
   ]
  },
  {
   "cell_type": "code",
   "execution_count": 21,
   "metadata": {
    "colab": {
     "base_uri": "https://localhost:8080/"
    },
    "executionInfo": {
     "elapsed": 2714,
     "status": "ok",
     "timestamp": 1612286989197,
     "user": {
      "displayName": "Ross Beveridge",
      "photoUrl": "https://lh3.googleusercontent.com/a-/AOh14GhZ9yfcROZXIKThWciv5reom6aDm1Spt-r8JOsVNA=s64",
      "userId": "11748907218223072510"
     },
     "user_tz": 420
    },
    "id": "EG4ctEiSys9H",
    "outputId": "273735a8-c7bc-4989-dc18-fb31b27c0086"
   },
   "outputs": [
    {
     "data": {
      "text/plain": [
       "0"
      ]
     },
     "execution_count": 21,
     "metadata": {},
     "output_type": "execute_result"
    }
   ],
   "source": [
    "def norm(a_list) :\n",
    "    \"\"\"\n",
    "    Compute the norm of the given vector, provided as a python list\n",
    "    \n",
    "    \"\"\"\n",
    "   \n",
    "    return 0\n",
    "\n",
    "#verify that your implementation matches the NumPy implementation:\n",
    "norm([1,3,5]) == np.linalg.norm(np.array([1,3,5]))"
   ]
  },
  {
   "cell_type": "markdown",
   "metadata": {
    "id": "CyqoD7Ipys9H"
   },
   "source": [
    "### Unit vectors\n",
    "\n",
    "A vector with a norm equal to 1 is called a **unit vector**.\n",
    "\n",
    "Given a vector $\\mathbf{u}$ it is easy to make it into a unit vector by dividing by its norm:\n",
    "\n",
    "$$\n",
    "\\hat{\\mathbf{u}} = \\frac{\\mathbf{u}}{||\\mathbf{u}||}\n",
    "$$\n",
    "\n",
    "This operation is called *normalization*.  It produces a vector that points in the same direction of the original vector.\n",
    "\n",
    "From our discussion above, we now know that a unit vector captures the direction a vector points at.\n",
    "\n",
    "In fact, any vector can be represented as:\n",
    "\n",
    "$$\n",
    "\\mathbf{u} = ||\\mathbf{u}|| \\hat{\\mathbf{u}},\n",
    "$$\n",
    "\n",
    "where $\\hat{\\mathbf{u}}$ is a unit vector in the direction of $\\mathbf{u}$.  In other words, a vector is determined by its direction, and length.\n",
    "Or in other words, think of a vector as a direction, and the size of the step to take in that direction.\n",
    "\n",
    "\n",
    "### Exercise:\n",
    "\n",
    "* Write code for converting a vector to a unit vector.  Verify that the resulting vector is indeed a unit vector (how?)"
   ]
  },
  {
   "cell_type": "code",
   "execution_count": 22,
   "metadata": {
    "executionInfo": {
     "elapsed": 2714,
     "status": "ok",
     "timestamp": 1612286989198,
     "user": {
      "displayName": "Ross Beveridge",
      "photoUrl": "https://lh3.googleusercontent.com/a-/AOh14GhZ9yfcROZXIKThWciv5reom6aDm1Spt-r8JOsVNA=s64",
      "userId": "11748907218223072510"
     },
     "user_tz": 420
    },
    "id": "QEdmTmBRys9H"
   },
   "outputs": [],
   "source": [
    "def normalize(vector):\n",
    "    return vector\n",
    "\n",
    "# verify that the result of normalize is indeed a unit vector"
   ]
  },
  {
   "cell_type": "markdown",
   "metadata": {
    "id": "OMbPDcrqys9H"
   },
   "source": [
    "## The dot product\n",
    "\n",
    "The **dot product** between two vectors $\\mathbf{u}$ and $\\mathbf{v}$ is defined as:\n",
    "\n",
    "$$\\mathbf{u}^\\top\\mathbf{v} = \\sum_{i=1}^d u_i v_i.$$\n",
    "\n",
    "The dot product is often represented using the *dot* operator as $\\mathbf{u}\\cdot\\mathbf{v}$.\n",
    "\n",
    "We note that the dot product is symmetric, i.e. does not depend on the order of its operands:\n",
    "\n",
    "$$\n",
    "\\mathbf{u}^\\top\\mathbf{v} = \\mathbf{v}^\\top\\mathbf{u}.\n",
    "$$\n",
    "\n",
    "You can compute the dot product using NumPy:"
   ]
  },
  {
   "cell_type": "code",
   "execution_count": 23,
   "metadata": {
    "colab": {
     "base_uri": "https://localhost:8080/"
    },
    "executionInfo": {
     "elapsed": 2703,
     "status": "ok",
     "timestamp": 1612286989198,
     "user": {
      "displayName": "Ross Beveridge",
      "photoUrl": "https://lh3.googleusercontent.com/a-/AOh14GhZ9yfcROZXIKThWciv5reom6aDm1Spt-r8JOsVNA=s64",
      "userId": "11748907218223072510"
     },
     "user_tz": 420
    },
    "id": "OootDVQ-ys9H",
    "outputId": "690b07e6-f795-4474-c3a2-3c96488f8114"
   },
   "outputs": [
    {
     "data": {
      "text/plain": [
       "2"
      ]
     },
     "execution_count": 23,
     "metadata": {},
     "output_type": "execute_result"
    }
   ],
   "source": [
    "u = np.array([1, 0, 1])\n",
    "v = np.array([0, -1, 2])\n",
    "np.dot(u,v)"
   ]
  },
  {
   "cell_type": "markdown",
   "metadata": {
    "id": "NZPOe5akys9I"
   },
   "source": [
    "The `dot` function can be invoked as a method or using the `@` operator:"
   ]
  },
  {
   "cell_type": "code",
   "execution_count": 24,
   "metadata": {
    "colab": {
     "base_uri": "https://localhost:8080/"
    },
    "executionInfo": {
     "elapsed": 2692,
     "status": "ok",
     "timestamp": 1612286989198,
     "user": {
      "displayName": "Ross Beveridge",
      "photoUrl": "https://lh3.googleusercontent.com/a-/AOh14GhZ9yfcROZXIKThWciv5reom6aDm1Spt-r8JOsVNA=s64",
      "userId": "11748907218223072510"
     },
     "user_tz": 420
    },
    "id": "RwJGW18Yys9I",
    "outputId": "a6a2dec0-3600-4ae4-90fb-f9b416459283"
   },
   "outputs": [
    {
     "name": "stdout",
     "output_type": "stream",
     "text": [
      "2 2\n"
     ]
    }
   ],
   "source": [
    "print(u.dot(v), u @ v)"
   ]
  },
  {
   "cell_type": "markdown",
   "metadata": {
    "id": "c-8dcfbiys9J"
   },
   "source": [
    "And to round things off, here's a pure Python implementation:"
   ]
  },
  {
   "cell_type": "code",
   "execution_count": 25,
   "metadata": {
    "colab": {
     "base_uri": "https://localhost:8080/"
    },
    "executionInfo": {
     "elapsed": 2815,
     "status": "ok",
     "timestamp": 1612286989330,
     "user": {
      "displayName": "Ross Beveridge",
      "photoUrl": "https://lh3.googleusercontent.com/a-/AOh14GhZ9yfcROZXIKThWciv5reom6aDm1Spt-r8JOsVNA=s64",
      "userId": "11748907218223072510"
     },
     "user_tz": 420
    },
    "id": "CLRMLjh4ys9J",
    "outputId": "07af5afb-3e81-4fef-def5-e267d15e956a"
   },
   "outputs": [
    {
     "data": {
      "text/plain": [
       "2"
      ]
     },
     "execution_count": 25,
     "metadata": {},
     "output_type": "execute_result"
    }
   ],
   "source": [
    "u = [1, 0, 1]\n",
    "v = [0, -1, 2]\n",
    "sum(a*b for a,b in zip(u,v))"
   ]
  },
  {
   "cell_type": "markdown",
   "metadata": {
    "id": "wVfWXfMkys9J"
   },
   "source": [
    "### Exercise\n",
    "\n",
    "* We have already seen how the `*` operator functions between a scalar and a vector in NumPy.  It also works between vectors.  However, the vectors need to be of the same size."
   ]
  },
  {
   "cell_type": "code",
   "execution_count": 26,
   "metadata": {
    "executionInfo": {
     "elapsed": 2814,
     "status": "ok",
     "timestamp": 1612286989330,
     "user": {
      "displayName": "Ross Beveridge",
      "photoUrl": "https://lh3.googleusercontent.com/a-/AOh14GhZ9yfcROZXIKThWciv5reom6aDm1Spt-r8JOsVNA=s64",
      "userId": "11748907218223072510"
     },
     "user_tz": 420
    },
    "id": "d8b6XcCZys9J"
   },
   "outputs": [],
   "source": [
    "## define two one-dimensional numpy arrays of the same size and \n",
    "## check what is the result of multiplying them using the * operator"
   ]
  },
  {
   "cell_type": "markdown",
   "metadata": {
    "id": "ow0jpPw5eB-A",
    "origin_pos": 2
   },
   "source": [
    "### Geometric interpretation of the dot product\n",
    "\n",
    "The dot product also admits a geometric interpretation: it is closely related to the angle between two vectors.\n",
    "\n",
    "We'll start by considering the dot product between two unit vectors in two dimensions.\n",
    "\n",
    "We'll show that the dot product of two unit vectors is equal to the cosine of the angle between them.\n",
    "To demonstrate that, let us consider:\n",
    "\n",
    "$$\n",
    "\\hat{\\mathbf{u}} = [1,0]^\\top \\; \\text{and} \\; \\hat{\\mathbf{v}} = [\\cos(\\theta), \\sin(\\theta)]^\\top.\n",
    "$$\n",
    "\n",
    "The vector $\\hat{\\mathbf{u}}$ is parallel to the $x$-axis, \n",
    "and $\\hat{\\mathbf{v}}$ is at an angle $\\theta$ with respect to the $x$-axis.\n",
    "\n",
    "We can easily compute the dot product between these vectors:\n",
    "\n",
    "$$\n",
    "\\hat{\\mathbf{u}}^\\top \\hat{\\mathbf{v}} = \\cos(\\theta)\n",
    "$$\n",
    "\n",
    "Now, as we have seen above, every vector $\\mathbf{u}$ can be expressed as:\n",
    "\n",
    "$$\n",
    "\\mathbf{u} = ||\\mathbf{u}|| \\hat{\\mathbf{u}},\n",
    "$$\n",
    "\n",
    "where $\\hat{\\mathbf{u}}$ is a unit vector in the direction of $\\mathbf{u}$.  \n",
    "\n",
    "Using this property, we can now compute the dot product between any two vectors in two dimensions as:\n",
    "\n",
    "$$\n",
    "\\mathbf{u}^\\top \\mathbf{v} = ||\\mathbf{u}|| \\; ||\\mathbf{v}|| \\;\\hat{\\mathbf{u}}^\\top \\hat{\\mathbf{v}} = ||\\mathbf{u}|| \\; ||\\mathbf{v}|| \\cos(\\theta)\n",
    "$$\n",
    "\n",
    "This fact is true in [general](https://en.wikipedia.org/wiki/Dot_product), i.e. for vectors in any dimension and orientation."
   ]
  },
  {
   "cell_type": "code",
   "execution_count": 27,
   "metadata": {
    "colab": {
     "base_uri": "https://localhost:8080/",
     "height": 434
    },
    "executionInfo": {
     "elapsed": 2946,
     "status": "ok",
     "timestamp": 1612286989473,
     "user": {
      "displayName": "Ross Beveridge",
      "photoUrl": "https://lh3.googleusercontent.com/a-/AOh14GhZ9yfcROZXIKThWciv5reom6aDm1Spt-r8JOsVNA=s64",
      "userId": "11748907218223072510"
     },
     "user_tz": 420
    },
    "hideCode": true,
    "hidePrompt": true,
    "id": "QSS9pc6nys9J",
    "outputId": "ff10a459-fccc-42fc-86cd-575f5870e8d7"
   },
   "outputs": [
    {
     "data": {
      "image/png": "[encoded data removed]",
      "text/plain": [
       "<Figure size 375x375 with 1 Axes>"
      ]
     },
     "metadata": {},
     "output_type": "display_data"
    }
   ],
   "source": [
    "#plt.xkcd(scale=0., randomness=2)\n",
    "fig = plt.figure(figsize=(2.5,2.5))\n",
    "ax = fig.add_subplot(111)\n",
    "ax.arrow(0,0,0.5,0.866, width=0.001, head_width=0.03, length_includes_head=True, \n",
    "         alpha=1, linestyle='-',color='b');\n",
    "plt.ylim(-0.05,1);\n",
    "plt.xlim(0,1);\n",
    "ax.arrow(0,0,1,0, width=0.001, head_width=0.03, length_includes_head=True, \n",
    "         alpha=1, linestyle='-',color='b');\n",
    "ax.arrow(0.5,0,0,0.866, width=0.001,length_includes_head=True, alpha=1,\n",
    "         linestyle=':',color='b');\n",
    "ax.text(0.8, 0.05, r'$\\mathbf{u}=[1,0]$')\n",
    "ax.text(0.05, 0.9, r'$\\mathbf{v}=[\\cos(\\theta), \\sin(\\theta)]$')\n",
    "plt.text(0.1,0.08 , r'$\\theta = 60^\\circ$');\n",
    "plt.text(0.52, 0.5, r'$\\sin(\\theta)$');\n",
    "plt.text(0.2, -0.1, r'$\\cos(\\theta)$');\n",
    "\n",
    "ax.annotate(\"\", xy=(0.4, 0), xycoords='data', xytext=(0.5, 0.1), \n",
    "            textcoords='data',\n",
    "            arrowprops=dict(arrowstyle=\"-\", color=\"0.5\", shrinkA=5, shrinkB=5, \n",
    "                            patchA=None, patchB=None, \n",
    "                            connectionstyle=\"angle,angleA=0,angleB=90,rad=0\"))\n",
    "axes_at_zero(ax)"
   ]
  },
  {
   "cell_type": "markdown",
   "metadata": {
    "id": "NEPgvyHBys9J"
   },
   "source": [
    "### Orthogonality\n",
    "\n",
    "Vectors for which the dot product is equal to zero are called **orthogonal**."
   ]
  },
  {
   "cell_type": "markdown",
   "metadata": {
    "id": "zOWsLIWyys9K"
   },
   "source": [
    "### Questions\n",
    "\n",
    "* What is the angle between orthogonal vectors?\n",
    "\n",
    "* What can you say about the angle between vectors that have positive coefficients?\n",
    "\n",
    "* Express the norm of a vector as a dot product.\n",
    "\n",
    "To help you, here is an [animation of the sine and cosine functions](https://www.desmos.com/calculator/cpb0oammx7) that nicely illustrates the geometry these functions; as an alternative, here's a static instead:"
   ]
  },
  {
   "cell_type": "code",
   "execution_count": 32,
   "metadata": {
    "colab": {
     "base_uri": "https://localhost:8080/",
     "height": 582
    },
    "executionInfo": {
     "elapsed": 3302,
     "status": "ok",
     "timestamp": 1612286989841,
     "user": {
      "displayName": "Ross Beveridge",
      "photoUrl": "https://lh3.googleusercontent.com/a-/AOh14GhZ9yfcROZXIKThWciv5reom6aDm1Spt-r8JOsVNA=s64",
      "userId": "11748907218223072510"
     },
     "user_tz": 420
    },
    "hideCode": false,
    "hidePrompt": true,
    "id": "3M3eS_WPys9K",
    "outputId": "266566d4-10e4-4fd9-b7c5-d07402519f50"
   },
   "outputs": [
    {
     "data": {
      "image/png": "[encoded data removed]",
      "text/plain": [
       "<Figure size 450x450 with 1 Axes>"
      ]
     },
     "metadata": {},
     "output_type": "display_data"
    }
   ],
   "source": [
    "fig = plt.figure(figsize=(3,3))\n",
    "\n",
    "x = np.arange(0,2*np.pi,0.1)\n",
    "y = np.sin(x)\n",
    "z = np.cos(x)\n",
    "plt.plot(x,y,x,z)\n",
    "plt.xlabel('angle (radians)')\n",
    "plt.legend(['sin(x)', 'cos(x)']);"
   ]
  },
  {
   "cell_type": "markdown",
   "metadata": {
    "id": "7R9tqn3Oys9K"
   },
   "source": [
    "\n",
    "### Cosine similarity\n",
    "\n",
    "In machine learning the cosine of the angle between two vectors is a common way to express their similarity, and given what we just learned, it can be expressed as:\n",
    "\n",
    "$$\n",
    "\\cos(\\theta) = \\frac{\\mathbf{v}^\\top \\mathbf{w}}{\\|\\mathbf{v}\\|\\|\\mathbf{w}\\|}.\n",
    "$$\n",
    "\n",
    "The cosine takes a maximum value of $1$ \n",
    "when the two vectors point in the same direction, is equal to\n",
    "$-1$ when they point in opposite directions,\n",
    "and takes on the value of $0$ when the two vectors are orthogonal.\n",
    "Note that if the components of high-dimensional vectors\n",
    "are sampled randomly with mean $0$,\n",
    "their cosine will nearly always be close to $0$."
   ]
  },
  {
   "cell_type": "markdown",
   "metadata": {
    "id": "ebjsifkhys9K"
   },
   "source": [
    "### Exercise\n",
    "\n",
    "* Use NumPy to write code that computes the cosine between two vectors with an arbitrary number of dimensions.\n",
    "Use your code to compute the angle between\n",
    "\n",
    "$$\n",
    "\\mathbf{u} = \\begin{pmatrix}\n",
    "1 \\\\ 0 \\\\ -1 \\\\ 2\n",
    "\\end{pmatrix}, \\qquad  \\mathbf{v} = \\begin{pmatrix}\n",
    "3 \\\\ 1 \\\\ 0 \\\\ 1\n",
    "\\end{pmatrix}\n",
    "$$"
   ]
  },
  {
   "cell_type": "code",
   "execution_count": 29,
   "metadata": {
    "executionInfo": {
     "elapsed": 3301,
     "status": "ok",
     "timestamp": 1612286989841,
     "user": {
      "displayName": "Ross Beveridge",
      "photoUrl": "https://lh3.googleusercontent.com/a-/AOh14GhZ9yfcROZXIKThWciv5reom6aDm1Spt-r8JOsVNA=s64",
      "userId": "11748907218223072510"
     },
     "user_tz": 420
    },
    "id": "MlQ8KE8xys9K"
   },
   "outputs": [],
   "source": [
    "def cosine(u, v) :\n",
    "    return 0"
   ]
  },
  {
   "cell_type": "markdown",
   "metadata": {},
   "source": [
    "# Projections\n",
    "\n",
    "Dot products with unit vectors have a special interpretation. \n",
    "A dot product with a unit vector is called a *projection*.  Let's try to understand why.\n",
    "\n",
    "Let $\\hat{\\mathbf{u}}$ be a unit vector, and let $\\mathbf{v}$ be a vector.  The dot product $\\mathbf{v}^T \\hat{\\mathbf{u}}$ is called the project of $\\mathbf{v}$ in the direction $\\hat{\\mathbf{u}}$.\n",
    "\n",
    "Here's the justification for this definition:\n",
    "\n",
    "$$\\mathbf{v}^\\top \\hat{\\mathbf{u}} = ||\\mathbf{v}|| \\cdot || \\hat{\\mathbf{u}}|| \\cos(\\theta) = ||\\mathbf{v}|| \\cos(\\theta)$$\n",
    "\n",
    "The following figure illustrates this idea.  Here we chose $\\hat{\\mathbf{u}} = (1,0)^\\top$ to be aligned with the $x$ axis, and we see that the dot product of $\\mathbf{v} = (2,1)^\\top$ is equal to 2, namely the coordinate of $\\mathbf{v}$ in the direction $\\hat{\\mathbf{u}}$."
   ]
  },
  {
   "cell_type": "code",
   "execution_count": 36,
   "metadata": {},
   "outputs": [
    {
     "data": {
      "image/png": "[encoded data removed]",
      "text/plain": [
       "<Figure size 450x450 with 1 Axes>"
      ]
     },
     "metadata": {},
     "output_type": "display_data"
    }
   ],
   "source": [
    "fig = plt.figure(figsize=(3,3))\n",
    "ax = fig.add_subplot(111)\n",
    "\n",
    "u = (2, 1)\n",
    "v = (1, 0)\n",
    "\n",
    "plot_vector(u, color=\"b\")\n",
    "plot_vector(v, color=\"b\")\n",
    "ax.arrow(0,0,2,0, width=0.01, head_width=0, \n",
    "         length_includes_head=True, \n",
    "         alpha=1, linestyle='-',color='r');\n",
    "\n",
    "ax.arrow(2,0,0,1, width=0.001, head_width=0, \n",
    "         length_includes_head=True, \n",
    "         alpha=1, linestyle='--',color='k');\n",
    "ax.text(0.2, -0.4, r'$\\hat{\\mathbf{u}}=[1,0]$')\n",
    "ax.text(0.05, 0.6, r'$\\mathbf{v}=[2, 1]$')\n",
    "plt.text(0.35,0.07, r'$\\theta$');\n",
    "plt.text(1.3, -0.2, r'$\\mathbf{v}^T \\hat{\\mathbf{u}}$')\n",
    "\n",
    "\n",
    "ax.annotate(\"\", xy=(1.8, 0), xycoords='data', xytext=(2, 0.2), \n",
    "            textcoords='data',\n",
    "            arrowprops=dict(arrowstyle=\"-\", color=\"0.5\", shrinkA=5, shrinkB=5, \n",
    "                            patchA=None, patchB=None, \n",
    "                            connectionstyle=\"angle,angleA=0,angleB=90,rad=0\"))\n",
    "axes_at_zero(ax)\n"
   ]
  },
  {
   "cell_type": "markdown",
   "metadata": {
    "id": "FOoFuTAbeB-v",
    "origin_pos": 24
   },
   "source": [
    "## Summary\n",
    "\n",
    "* Vectors can be interpreted geometrically as either points or directions in space.\n",
    "* Dot products define the notion of angle between vectors of arbitrary dimensions.\n",
    "\n",
    "Finally, here's a good [discussion](https://graphics.cs.wisc.edu/WP/cs559-fall2014/2014/08/28/points-vectors-and-coordinate-systems-why-are-points-and-vectors-different/) of points and vectors."
   ]
  }
 ],
 "metadata": {
  "celltoolbar": "Hide code",
  "colab": {
   "name": "module01_04_vectors_dot_products.ipynb",
   "provenance": []
  },
  "kernelspec": {
   "display_name": "Python 3 (ipykernel)",
   "language": "python",
   "name": "python3"
  },
  "language_info": {
   "codemirror_mode": {
    "name": "ipython",
    "version": 3
   },
   "file_extension": ".py",
   "mimetype": "text/x-python",
   "name": "python",
   "nbconvert_exporter": "python",
   "pygments_lexer": "ipython3",
   "version": "3.10.9"
  },
  "rise": {
   "enable_chalkboard": true,
   "scroll": true
  }
 },
 "nbformat": 4,
 "nbformat_minor": 4
}
