{
  "cells": [
    {
      "cell_type": "markdown",
      "id": "c410ce3d",
      "metadata": {
        "id": "c410ce3d"
      },
      "source": [
        "*This notebook is part of  course materials for CS 345: Machine Learning Foundations and Practice at Colorado State University.\n",
        "Original versions were created by Asa Ben-Hur.\n",
        "The content is availabe [on GitHub](https://github.com/asabenhur/CS345).*\n",
        "\n",
        "*The text is released under the [CC BY-SA license](https://creativecommons.org/licenses/by-sa/4.0/), and code is released under the [MIT license](https://opensource.org/licenses/MIT).*\n"
      ]
    },
    {
      "cell_type": "markdown",
      "id": "3f114b72",
      "metadata": {
        "id": "3f114b72"
      },
      "source": [
        "<a href=\"https://colab.research.google.com/github//asabenhur/CS345/blob/master/fall24/notebooks/module00_05_colab.ipynb\">\n",
        "  <img align=\"left\" src=\"https://colab.research.google.com/assets/colab-badge.svg\" alt=\"Open In Colab\"/>\n",
        "</a>"
      ]
    },
    {
      "cell_type": "markdown",
      "id": "83fd23a4",
      "metadata": {
        "id": "83fd23a4"
      },
      "source": [
        "# Accessing data files on google colab\n",
        "\n",
        "The files on google colab do not persist across sessions.  Therefore, you will often find it useful to link colab to your google drive.  Let's explore the commands necessary for that.\n"
      ]
    },
    {
      "cell_type": "code",
      "execution_count": 1,
      "id": "4ab85167",
      "metadata": {
        "colab": {
          "base_uri": "https://localhost:8080/"
        },
        "id": "4ab85167",
        "outputId": "808a604f-57cd-491d-c545-26f054534bff"
      },
      "outputs": [
        {
          "output_type": "stream",
          "name": "stdout",
          "text": [
            "Mounted at /content/gdrive\n"
          ]
        }
      ],
      "source": [
        "from google.colab import drive\n",
        "drive.mount('/content/gdrive')"
      ]
    },
    {
      "cell_type": "markdown",
      "id": "xE1Ct0k9G1EU",
      "metadata": {
        "id": "xE1Ct0k9G1EU"
      },
      "source": [
        "The first time you do this you will be prompted to authorize colab to access your google drive.  Once this step is done, you will be able to access your files on your google drive from colab.  For example, assume I have a directory called `CS345` with the file `biodeg.csv` in it.  "
      ]
    },
    {
      "cell_type": "code",
      "execution_count": 2,
      "id": "RGlcnN664yXd",
      "metadata": {
        "colab": {
          "base_uri": "https://localhost:8080/"
        },
        "id": "RGlcnN664yXd",
        "outputId": "a8f0ceec-2152-4d47-a667-f52102f6dbe7"
      },
      "outputs": [
        {
          "output_type": "stream",
          "name": "stdout",
          "text": [
            "biodeg.csv\n"
          ]
        }
      ],
      "source": [
        "!ls gdrive/MyDrive/CS345"
      ]
    },
    {
      "cell_type": "markdown",
      "id": "f4lm_1fQIcOg",
      "metadata": {
        "id": "f4lm_1fQIcOg"
      },
      "source": [
        "With this module we can write code that accesses file on colab or on your local machine in a consistent way:"
      ]
    },
    {
      "cell_type": "code",
      "execution_count": 3,
      "id": "ULc1sxEU40ff",
      "metadata": {
        "colab": {
          "base_uri": "https://localhost:8080/",
          "height": 52
        },
        "id": "ULc1sxEU40ff",
        "outputId": "2e605922-c92f-4f01-9fbf-b5f1dcdab1c6"
      },
      "outputs": [
        {
          "output_type": "stream",
          "name": "stdout",
          "text": [
            "Drive already mounted at /content/gdrive; to attempt to forcibly remount, call drive.mount(\"/content/gdrive\", force_remount=True).\n"
          ]
        },
        {
          "output_type": "execute_result",
          "data": {
            "text/plain": [
              "'3.919;2.6909;0;0;0;0;0;31.4;2;0;0;0;3.106;2.55;9.002;0;0.96;1.142;0;0;0;1.201;0;0;0;0;1.932;0.011;0;0;4.489;0;0;0;0;2.949;1.591;0;7.253;0;0;RB\\n'"
            ],
            "application/vnd.google.colaboratory.intrinsic+json": {
              "type": "string"
            }
          },
          "metadata": {},
          "execution_count": 3
        }
      ],
      "source": [
        "use_colab = True\n",
        "google_drive_path = 'CS345'\n",
        "\n",
        "file_name = 'biodeg.csv'\n",
        "\n",
        "if use_colab :\n",
        "  from google.colab import drive\n",
        "  drive.mount('/content/gdrive')\n",
        "  import os\n",
        "  os.chdir(os.path.join('gdrive/MyDrive', google_drive_path))\n",
        "  # as an alternative to changing directory, you can copy the file from\n",
        "  # your google drive to colab\n",
        "# now we can access the file in the same way regardless of whether we are using\n",
        "# colab or Jupyter on our local machine:\n",
        "file_handle = open(file_name)\n",
        "file_handle.readline()"
      ]
    }
  ],
  "metadata": {
    "colab": {
      "provenance": []
    },
    "kernelspec": {
      "display_name": "Python 3 (ipykernel)",
      "language": "python",
      "name": "python3"
    },
    "language_info": {
      "codemirror_mode": {
        "name": "ipython",
        "version": 3
      },
      "file_extension": ".py",
      "mimetype": "text/x-python",
      "name": "python",
      "nbconvert_exporter": "python",
      "pygments_lexer": "ipython3",
      "version": "3.11.7"
    }
  },
  "nbformat": 4,
  "nbformat_minor": 5
}