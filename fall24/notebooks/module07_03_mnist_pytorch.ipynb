{
 "cells": [
  {
   "cell_type": "markdown",
   "metadata": {},
   "source": [
    "*This notebook is part of  course materials for CS 345: Machine Learning Foundations and Practice at Colorado State University.\n",
    "Original versions were created by Ben Sattelberg and Asa Ben-Hur.\n",
    "The content is availabe [on GitHub](https://github.com/asabenhur/CS345).*\n",
    "\n",
    "*The text is released under the [CC BY-SA license](https://creativecommons.org/licenses/by-sa/4.0/), and code is released under the [MIT license](https://opensource.org/licenses/MIT).*"
   ]
  },
  {
   "cell_type": "markdown",
   "metadata": {},
   "source": [
    "<a href=\"https://colab.research.google.com/github//asabenhur/CS345/blob/master/fall24/notebooks/module07_03_mnist_pytorch.ipynb\">\n",
    "  <img align=\"left\" src=\"https://colab.research.google.com/assets/colab-badge.svg\" alt=\"Open In Colab\"/>\n",
    "</a>"
   ]
  },
  {
   "cell_type": "code",
   "execution_count": 15,
   "metadata": {
    "colab": {
     "base_uri": "https://localhost:8080/"
    },
    "id": "P4Mp--qcV_xD",
    "outputId": "fb34f279-be76-4a72-a780-c6651b875e0f"
   },
   "outputs": [],
   "source": [
    "# torch imports \n",
    "import torch,torchvision\n",
    "from torch.autograd import Variable\n",
    "import torch.nn as nn\n",
    "import torch.nn.functional as F\n",
    "import torch.optim as optim\n",
    "from torchvision.transforms import ToTensor\n",
    "torch.manual_seed(42)\n",
    "\n",
    "# numpy / matplotlib\n",
    "import numpy as np\n",
    "import matplotlib.pyplot as plt\n",
    "import matplotlib"
   ]
  },
  {
   "cell_type": "code",
   "execution_count": 16,
   "metadata": {},
   "outputs": [
    {
     "name": "stdout",
     "output_type": "stream",
     "text": [
      "Using mps device\n"
     ]
    }
   ],
   "source": [
    "# if you have a GPU we should enable it\n",
    "# mps is the pytorch device that supports GPU computations on MacOS\n",
    "\n",
    "device = (\n",
    "    \"cuda\"\n",
    "    if torch.cuda.is_available()\n",
    "    else \"mps\"\n",
    "    if torch.backends.mps.is_available()\n",
    "    else \"cpu\"\n",
    ")\n",
    "# although mps is available on some macs, it's slower in practice so we will\n",
    "# just use a cpu\n",
    "#device=\"cpu\"\n",
    "print(f\"Using {device} device\")"
   ]
  },
  {
   "cell_type": "markdown",
   "metadata": {},
   "source": [
    "# Neural Networks on Image Data"
   ]
  },
  {
   "cell_type": "markdown",
   "metadata": {},
   "source": [
    "### Sidenote:  enabling GPUs on google colab\n",
    "\n",
    "Until now we ran our neural networks on a CPU.  If you are running this notebook on google colab, you are in luck - google colab will allow you to run your code on a GPU.  Enabling a GPU is very simple:  All you need to do is navigate to Edit→Notebook Settings and select GPU from the Hardware Accelerator drop-down menu (also available from the Runtime menu).\n",
    "This [colab notebook](https://colab.research.google.com/notebooks/gpu.ipynb) has instructions for verifying that you are using a GPU and see the resulting speedup.\n"
   ]
  },
  {
   "cell_type": "markdown",
   "metadata": {},
   "source": [
    "## The MNIST dataset"
   ]
  },
  {
   "cell_type": "markdown",
   "metadata": {},
   "source": [
    "In the previous notebooks we used PyTorch to solve toy problems and built some understanding of how the networks are solving those problems.  In this notebook, we'll look at the real (but still relatively easy) problem of handwritten digit recognition.  We will be using the MNIST (modified National Institute of Standards and Technology) database which has images taken from a NIST database of handwritten digits and modified by Yann Lecun, Corinna Cortes, and Christopher J.C. Burges to be more easily used in machine learning.\n",
    "\n",
    "While no longer useful for demonstrating state-of-the-art advancments in machine learning, as a dataset, it will live on for a long time as both a teaching tools (see this lecture) and also some degree as a testbed for ideas aimed at better explaining the behavior of machine learning algorithms.  There is a good [Wikipedia article](https://en.wikipedia.org/wiki/MNIST_database) describing the dataset, which has been used in thousands of machine learning publications.\n",
    "\n",
    "The first thing we need to do is to load the dataset.  Fortunately, Keras does this work for us:"
   ]
  },
  {
   "cell_type": "code",
   "execution_count": 18,
   "metadata": {},
   "outputs": [],
   "source": [
    "# load the mnist training set:\n",
    "data = torchvision.datasets.MNIST('/Users/asa/datasets',\n",
    "                                  train=True,\n",
    "                                  transform = ToTensor(),\n",
    "                                  download=True,\n",
    "                                 )\n",
    "# ToTensor transforms the data into PyTorch tensors and normalizes\n",
    "# the pixel values to be between 0 and 1."
   ]
  },
  {
   "cell_type": "markdown",
   "metadata": {},
   "source": [
    "Let's get some information about the dataset:"
   ]
  },
  {
   "cell_type": "code",
   "execution_count": 19,
   "metadata": {},
   "outputs": [
    {
     "data": {
      "text/plain": [
       "Dataset MNIST\n",
       "    Number of datapoints: 60000\n",
       "    Root location: /Users/asa/datasets\n",
       "    Split: Train\n",
       "    StandardTransform\n",
       "Transform: ToTensor()"
      ]
     },
     "execution_count": 19,
     "metadata": {},
     "output_type": "execute_result"
    }
   ],
   "source": [
    "data"
   ]
  },
  {
   "cell_type": "code",
   "execution_count": 6,
   "metadata": {},
   "outputs": [
    {
     "data": {
      "text/plain": [
       "60000"
      ]
     },
     "execution_count": 6,
     "metadata": {},
     "output_type": "execute_result"
    }
   ],
   "source": [
    "len(data)"
   ]
  },
  {
   "cell_type": "code",
   "execution_count": 20,
   "metadata": {},
   "outputs": [],
   "source": [
    "x, y = data[0]"
   ]
  },
  {
   "cell_type": "code",
   "execution_count": 21,
   "metadata": {},
   "outputs": [
    {
     "data": {
      "text/plain": [
       "(torch.Tensor, torch.Size([1, 28, 28]), int)"
      ]
     },
     "execution_count": 21,
     "metadata": {},
     "output_type": "execute_result"
    }
   ],
   "source": [
    "type(x), x.shape, type(y)"
   ]
  },
  {
   "cell_type": "markdown",
   "metadata": {},
   "source": [
    "This tells that we have 60,000 input images, each of which is 28x28 pixels.  The labels are, unsuprisingly for a database of digits, the numbers 0 through 9, corresponding to which digit the image represents."
   ]
  },
  {
   "cell_type": "markdown",
   "metadata": {},
   "source": [
    "Let's look at one of the images:"
   ]
  },
  {
   "cell_type": "code",
   "execution_count": 22,
   "metadata": {},
   "outputs": [
    {
     "data": {
      "image/png": "[encoded data removed]",
      "text/plain": [
       "<Figure size 400x400 with 2 Axes>"
      ]
     },
     "metadata": {},
     "output_type": "display_data"
    }
   ],
   "source": [
    "fig, ax = plt.subplots(1,1,figsize=(4,4))\n",
    "pick = 7\n",
    "im = ax.imshow(np.asarray(data[pick][0].squeeze()), cmap='Greys')\n",
    "ax.set_title(\"Digit Label: \" + str(data[pick][1]),fontsize=20)\n",
    "cbar = fig.colorbar(im)\n",
    "ax.set_xticks([0, 14, 27])\n",
    "ax.set_yticks([0, 14, 27]);"
   ]
  },
  {
   "cell_type": "markdown",
   "metadata": {},
   "source": [
    "Here we can see that the image is a grayscale 28x28 image with pixel values between 0 and 255.  We can also look at a few other images in the dataset:"
   ]
  },
  {
   "cell_type": "code",
   "execution_count": 23,
   "metadata": {},
   "outputs": [
    {
     "data": {
      "image/png": "[encoded data removed]",
      "text/plain": [
       "<Figure size 1000x1000 with 25 Axes>"
      ]
     },
     "metadata": {},
     "output_type": "display_data"
    }
   ],
   "source": [
    "fig, axes = plt.subplots(5, 5, figsize=(10,10))\n",
    "\n",
    "for i in range(5):\n",
    "    for j in range(5):\n",
    "        x,y = data[i*5 + j]\n",
    "        axes[i,j].imshow(np.asarray(x).squeeze(), cmap='Greys')\n",
    "        axes[i,j].set_title(y)\n",
    "        axes[i,j].axis('off')"
   ]
  },
  {
   "cell_type": "markdown",
   "metadata": {},
   "source": [
    "There are a few things we want to do to the input data before we use it.  The first is to convert it to 32 bit floats:"
   ]
  },
  {
   "cell_type": "code",
   "execution_count": 25,
   "metadata": {},
   "outputs": [],
   "source": [
    "data_loader = torch.utils.data.DataLoader(data,\n",
    "                                          batch_size=4,\n",
    "                                          shuffle=True)"
   ]
  },
  {
   "cell_type": "code",
   "execution_count": 24,
   "metadata": {},
   "outputs": [
    {
     "name": "stdout",
     "output_type": "stream",
     "text": [
      "Feature batch shape: torch.Size([4, 1, 28, 28])\n",
      "Labels batch shape: torch.Size([4])\n"
     ]
    }
   ],
   "source": [
    "train_examples, train_labels = next(iter(data_loader))\n",
    "print(f\"Feature batch shape: {train_examples.size()}\")\n",
    "print(f\"Labels batch shape: {train_labels.size()}\")"
   ]
  },
  {
   "cell_type": "markdown",
   "metadata": {},
   "source": [
    "The first dimension indexes each image, while the third and fourth correspond to the image itself.  What about the second dimension?  This dimension corresponds to the number of \"channels\" in the image.  This data is grayscale, but color images are typically stored in RGB (red, green, blue) format, where there the three channels describe the amount of red, green, and blue at each pixel.  PyTorch is designed to handle images as a native data format without needing to \"flatten\" the images into vectors as a preprocessing step."
   ]
  },
  {
   "cell_type": "markdown",
   "metadata": {
    "id": "LG5OmEUeV_xH"
   },
   "source": [
    "It's also useful to restrict the outputs of our network to look like probabilities.  One way to do this would be to normalize the outputs to be\n",
    "\\begin{align*}\n",
    "z_1' &= \\frac{z_1}{z_1 + z_2} \\\\\n",
    "z_2' &= \\frac{z_2}{z_1 + z_2}\n",
    "\\end{align*}\n",
    "which gives us $z_1'$ and $z_2'$ values each between zero and one and summing to one.  One thing to keep in mind here is that although these now form a probability distribution, it isn't necessarily accurate to view $z_1'$ as the \"probability that the input is of class one\" because the approximation given by our network may not be a perfect statstical model of that fact.\n",
    "\n",
    "Another way to do this would be to take the hard max of the outputs,\n",
    "\\begin{align*}\n",
    "z_1' &= \\begin{cases} 1 & z_1 \\geq z_2 \\\\ 0 & z_1 < z_2 \\end{cases} \\\\\n",
    "z_2' &= \\begin{cases} 0 & z_1 \\geq z_2 \\\\ 1 & z_1 < z_2 \\end{cases},\n",
    "\\end{align*}\n",
    "which has similar nice properties but is unfortunately not differentiable, so we can't actually use it for classification.\n",
    "\n",
    "A comprimise between these two is softmax.  For our two raw outputs, $z_1$ and $z_2$, the softmax activation function is calculated as\n",
    "\n",
    "$$\n",
    "\\text{softmax}(z_1, z_2) = \\left( \\frac{e^{z_1}}{e^{z_1} + e^{z_2}}, \n",
    "   \\frac{e^{z_2}}{e^{z_1} + e^{z_2}} \\right)\n",
    "$$\n",
    "\n",
    "This is very similar to normalization, but with the exponential function of the raw inputs instead.  This means that values will be driven to behave more similarly to the hardmax while still maintaining differentiability."
   ]
  },
  {
   "cell_type": "markdown",
   "metadata": {
    "id": "wSfxPkPuluFW"
   },
   "source": [
    "### Visualizing the effect of the softmax function\n",
    "\n",
    "Here is a simple bit of code to help you visualize what happens when the activations on the last layer of a classification network are run through the softmax function:"
   ]
  },
  {
   "cell_type": "code",
   "execution_count": 26,
   "metadata": {
    "id": "Pkjw789jluFW"
   },
   "outputs": [],
   "source": [
    "def apply_softmax(acts) :\n",
    "    exp_acts = np.array([np.exp(x) for x in acts])\n",
    "    exp_acts_sum = np.sum(exp_acts)\n",
    "    acts_smax = np.array([np.exp(x)/exp_acts_sum for x in acts])\n",
    "    return exp_acts, acts_smax\n",
    "\n",
    "def visualize_softmax(mean, sigma, nsamples, rseed) :\n",
    "    rng = np.random.default_rng(rseed)\n",
    "    act = rng.normal(mean, sigma, nsamples)\n",
    "    aex, asf = apply_softmax(act)\n",
    "    #plt.style.use('seaborn-deep')\n",
    "    fig, (ax1, ax2, ax3) = plt.subplots(1,3, figsize=(13,5))\n",
    "    ax1.bar(range(nsamples), act, color='darkred')\n",
    "    ax1.set_xlabel('Output Node')\n",
    "    ax1.set_ylabel('Activation')\n",
    "    ax1.set_title('Activations')   \n",
    "    ax2.bar(range(nsamples), aex, color='darkblue')\n",
    "    ax2.set_xlabel('Output Node')\n",
    "    ax2.set_ylabel('After Exponentiation')\n",
    "    ax2.set_title('Exponentiated Activation')  \n",
    "    ax3.bar(range(nsamples), asf, color='darkgreen')\n",
    "    ax3.set_xlabel('Output Node')\n",
    "    ax3.set_ylabel('Activation')\n",
    "    ax3.set_title('After Softmax')\n",
    "    "
   ]
  },
  {
   "cell_type": "code",
   "execution_count": 27,
   "metadata": {
    "colab": {
     "base_uri": "https://localhost:8080/",
     "height": 382
    },
    "id": "szkGY0MuluFW",
    "outputId": "5f959fe7-e8ea-4009-9a93-e3f14e62b16b"
   },
   "outputs": [
    {
     "data": {
      "image/png": "[encoded data removed]",
      "text/plain": [
       "<Figure size 1300x500 with 3 Axes>"
      ]
     },
     "metadata": {},
     "output_type": "display_data"
    }
   ],
   "source": [
    "visualize_softmax(5, 1.0, 8, 82)"
   ]
  },
  {
   "cell_type": "markdown",
   "metadata": {},
   "source": [
    "### A multi-layer perceptron\n"
   ]
  },
  {
   "cell_type": "markdown",
   "metadata": {},
   "source": [
    "We can now train our model.  One layer to notice is the ```Flatten()``` layer.  This layer converts the data from a 1x28x28 dimensional image to a 784=28\\*28 dimensional vector."
   ]
  },
  {
   "cell_type": "code",
   "execution_count": 28,
   "metadata": {},
   "outputs": [],
   "source": [
    "# based on the network from the PyTorch tutorial:\n",
    "# https://pytorch.org/tutorials/beginner/basics/buildmodel_tutorial.html\n",
    "\n",
    "class mnist_network(nn.Module):\n",
    "    def __init__(self):\n",
    "        super().__init__()\n",
    "        self.flatten = nn.Flatten()\n",
    "        self.linear_relu_stack = nn.Sequential(\n",
    "            nn.Linear(28*28, 512),\n",
    "            nn.ReLU(),\n",
    "            nn.Linear(512, 512),\n",
    "            nn.ReLU(),\n",
    "            nn.Linear(512, 10),\n",
    "        )\n",
    "\n",
    "    def forward(self, x):\n",
    "        x = self.flatten(x)\n",
    "        x = self.linear_relu_stack(x)\n",
    "        return x"
   ]
  },
  {
   "cell_type": "code",
   "execution_count": 29,
   "metadata": {},
   "outputs": [
    {
     "name": "stdout",
     "output_type": "stream",
     "text": [
      "mnist_network(\n",
      "  (flatten): Flatten(start_dim=1, end_dim=-1)\n",
      "  (linear_relu_stack): Sequential(\n",
      "    (0): Linear(in_features=784, out_features=512, bias=True)\n",
      "    (1): ReLU()\n",
      "    (2): Linear(in_features=512, out_features=512, bias=True)\n",
      "    (3): ReLU()\n",
      "    (4): Linear(in_features=512, out_features=10, bias=True)\n",
      "  )\n",
      ")\n"
     ]
    }
   ],
   "source": [
    "model = mnist_network().to(device)\n",
    "print(model)"
   ]
  },
  {
   "cell_type": "markdown",
   "metadata": {},
   "source": [
    "How many parameters does this model have?  First, let's think, how many parameters does a linear layer that maps $m$ features into $n$ features?"
   ]
  },
  {
   "cell_type": "code",
   "execution_count": 30,
   "metadata": {},
   "outputs": [
    {
     "name": "stdout",
     "output_type": "stream",
     "text": [
      "Predicted class: tensor([8], device='mps:0')\n"
     ]
    }
   ],
   "source": [
    "x=data[0][0].to(device)\n",
    "logits = model(x)\n",
    "pred_prob = nn.Softmax(dim=1)(logits)\n",
    "y_pred = pred_prob.argmax(1)\n",
    "print(f\"Predicted class: {y_pred}\")"
   ]
  },
  {
   "cell_type": "code",
   "execution_count": 31,
   "metadata": {},
   "outputs": [
    {
     "data": {
      "image/png": "[encoded data removed]",
      "text/plain": [
       "<Figure size 300x300 with 2 Axes>"
      ]
     },
     "metadata": {},
     "output_type": "display_data"
    }
   ],
   "source": [
    "fig, ax = plt.subplots(1,1,figsize=(3,3))\n",
    "x=data[0][0]\n",
    "im = ax.imshow(np.asarray(x.squeeze()), cmap='Greys')\n",
    "cbar = fig.colorbar(im)\n",
    "ax.set_xticks([0, 14, 27])\n",
    "ax.set_yticks([0, 14, 27]);"
   ]
  },
  {
   "cell_type": "code",
   "execution_count": 32,
   "metadata": {},
   "outputs": [],
   "source": [
    "def train_epoch(dataloader, model, loss_fn, optimizer):\n",
    "    size = len(dataloader.dataset)\n",
    "    num_batches = len(dataloader)\n",
    "    total_loss = 0\n",
    "    # set the model to training mode - important when you have \n",
    "    # batch normalization and dropout layers\n",
    "    # unnecessary here\n",
    "    model.train()\n",
    "    for batch_idx, (X, y) in enumerate(dataloader):\n",
    "        X, y = X.to(device), y.to(device)\n",
    "        optimizer.zero_grad()\n",
    "        # Compute prediction and loss\n",
    "        y_pred = model(X)\n",
    "        loss = loss_fn(y_pred, y)\n",
    "        # backpropagation\n",
    "        loss.backward()\n",
    "        optimizer.step()\n",
    "        total_loss += loss.item()\n",
    "        if batch_idx % 100 == 0:\n",
    "            current = (batch_idx + 1) * len(X)\n",
    "            print(f\"loss: {loss.item():>7f}  [{current:>5d}/{size:>5d}]\")\n",
    "    return total_loss / num_batches\n",
    "\n",
    "def validation(dataloader, model, loss_fn):\n",
    "    # set the model to evaluation mode \n",
    "    # unnecessary here\n",
    "    model.eval()\n",
    "    size = len(dataloader.dataset)\n",
    "    num_batches = len(dataloader)\n",
    "    test_loss, correct = 0, 0\n",
    "    # Evaluating the model with torch.no_grad() ensures that no gradients \n",
    "    # are computed during test mode\n",
    "    # also serves to reduce unnecessary gradient computations and memory usage \n",
    "    # for tensors with requires_grad=True\n",
    "    with torch.no_grad():\n",
    "        for X, y in dataloader:\n",
    "            X, y = X.to(device), y.to(device)\n",
    "            y_pred = model(X)\n",
    "            test_loss += loss_fn(y_pred, y).item()\n",
    "            correct += (y_pred.argmax(1) == y).type(torch.float).sum().item()\n",
    "\n",
    "    test_loss /= num_batches\n",
    "    correct /= size\n",
    "    print(f\"Test Error: \\n Accuracy: {(100*correct):>0.1f}%, Avg loss: {test_loss:>8f} \\n\")\n",
    "    return test_loss, correct\n"
   ]
  },
  {
   "cell_type": "code",
   "execution_count": 33,
   "metadata": {},
   "outputs": [],
   "source": [
    "test_data = torchvision.datasets.MNIST('/Users/asa/datasets',\n",
    "                                  train=False,\n",
    "                                  transform = ToTensor(),\n",
    "                                  download=True,\n",
    "                                 )"
   ]
  },
  {
   "cell_type": "code",
   "execution_count": 13,
   "metadata": {
    "scrolled": true
   },
   "outputs": [
    {
     "name": "stdout",
     "output_type": "stream",
     "text": [
      "Epoch 1\n",
      "-------------------------------\n",
      "loss: 2.302086  [   64/60000]\n",
      "loss: 2.297112  [ 6464/60000]\n",
      "loss: 2.296503  [12864/60000]\n",
      "loss: 2.293768  [19264/60000]\n",
      "loss: 2.289661  [25664/60000]\n",
      "loss: 2.281394  [32064/60000]\n",
      "loss: 2.276015  [38464/60000]\n",
      "loss: 2.273767  [44864/60000]\n",
      "loss: 2.278811  [51264/60000]\n",
      "loss: 2.267740  [57664/60000]\n",
      "Test Error: \n",
      " Accuracy: 44.3%, Avg loss: 2.261429 \n",
      "\n",
      "Epoch 2\n",
      "-------------------------------\n",
      "loss: 2.264051  [   64/60000]\n",
      "loss: 2.267910  [ 6464/60000]\n",
      "loss: 2.248530  [12864/60000]\n",
      "loss: 2.255048  [19264/60000]\n",
      "loss: 2.232354  [25664/60000]\n",
      "loss: 2.238160  [32064/60000]\n",
      "loss: 2.223180  [38464/60000]\n",
      "loss: 2.212997  [44864/60000]\n",
      "loss: 2.209454  [51264/60000]\n",
      "loss: 2.211365  [57664/60000]\n",
      "Test Error: \n",
      " Accuracy: 64.1%, Avg loss: 2.201889 \n",
      "\n",
      "Epoch 3\n",
      "-------------------------------\n",
      "loss: 2.217616  [   64/60000]\n",
      "loss: 2.205966  [ 6464/60000]\n",
      "loss: 2.194484  [12864/60000]\n",
      "loss: 2.190596  [19264/60000]\n",
      "loss: 2.149126  [25664/60000]\n",
      "loss: 2.166480  [32064/60000]\n",
      "loss: 2.163908  [38464/60000]\n",
      "loss: 2.142334  [44864/60000]\n",
      "loss: 2.115469  [51264/60000]\n",
      "loss: 2.128593  [57664/60000]\n",
      "Test Error: \n",
      " Accuracy: 70.4%, Avg loss: 2.099644 \n",
      "\n",
      "Epoch 4\n",
      "-------------------------------\n",
      "loss: 2.096059  [   64/60000]\n",
      "loss: 2.118167  [ 6464/60000]\n",
      "loss: 2.083256  [12864/60000]\n",
      "loss: 2.053845  [19264/60000]\n",
      "loss: 2.057131  [25664/60000]\n",
      "loss: 2.011800  [32064/60000]\n",
      "loss: 1.986646  [38464/60000]\n",
      "loss: 2.018457  [44864/60000]\n",
      "loss: 1.938696  [51264/60000]\n",
      "loss: 1.910730  [57664/60000]\n",
      "Test Error: \n",
      " Accuracy: 72.5%, Avg loss: 1.917112 \n",
      "\n",
      "Epoch 5\n",
      "-------------------------------\n",
      "loss: 1.944634  [   64/60000]\n",
      "loss: 1.949471  [ 6464/60000]\n",
      "loss: 1.857201  [12864/60000]\n",
      "loss: 1.902673  [19264/60000]\n",
      "loss: 1.745417  [25664/60000]\n",
      "loss: 1.767746  [32064/60000]\n",
      "loss: 1.742953  [38464/60000]\n",
      "loss: 1.741853  [44864/60000]\n",
      "loss: 1.750794  [51264/60000]\n",
      "loss: 1.611848  [57664/60000]\n",
      "Test Error: \n",
      " Accuracy: 73.4%, Avg loss: 1.629612 \n",
      "\n",
      "Epoch 6\n",
      "-------------------------------\n",
      "loss: 1.572173  [   64/60000]\n",
      "loss: 1.722099  [ 6464/60000]\n",
      "loss: 1.552052  [12864/60000]\n",
      "loss: 1.517742  [19264/60000]\n",
      "loss: 1.423177  [25664/60000]\n",
      "loss: 1.428326  [32064/60000]\n",
      "loss: 1.457787  [38464/60000]\n",
      "loss: 1.495048  [44864/60000]\n",
      "loss: 1.312038  [51264/60000]\n",
      "loss: 1.358579  [57664/60000]\n",
      "Test Error: \n",
      " Accuracy: 75.5%, Avg loss: 1.300520 \n",
      "\n",
      "Epoch 7\n",
      "-------------------------------\n",
      "loss: 1.383759  [   64/60000]\n",
      "loss: 1.307140  [ 6464/60000]\n",
      "loss: 1.269253  [12864/60000]\n",
      "loss: 1.194227  [19264/60000]\n",
      "loss: 1.184581  [25664/60000]\n",
      "loss: 1.168769  [32064/60000]\n",
      "loss: 1.181108  [38464/60000]\n",
      "loss: 1.181546  [44864/60000]\n",
      "loss: 1.069980  [51264/60000]\n",
      "loss: 1.004736  [57664/60000]\n",
      "Test Error: \n",
      " Accuracy: 78.3%, Avg loss: 1.039446 \n",
      "\n",
      "Epoch 8\n",
      "-------------------------------\n",
      "loss: 1.031337  [   64/60000]\n",
      "loss: 1.166671  [ 6464/60000]\n",
      "loss: 1.069341  [12864/60000]\n",
      "loss: 1.006208  [19264/60000]\n",
      "loss: 0.962032  [25664/60000]\n",
      "loss: 0.832261  [32064/60000]\n",
      "loss: 0.912676  [38464/60000]\n",
      "loss: 0.850849  [44864/60000]\n",
      "loss: 0.702744  [51264/60000]\n",
      "loss: 0.886805  [57664/60000]\n",
      "Test Error: \n",
      " Accuracy: 80.8%, Avg loss: 0.861912 \n",
      "\n",
      "Epoch 9\n",
      "-------------------------------\n",
      "loss: 0.860941  [   64/60000]\n",
      "loss: 0.907565  [ 6464/60000]\n",
      "loss: 0.994524  [12864/60000]\n",
      "loss: 0.860544  [19264/60000]\n",
      "loss: 0.862825  [25664/60000]\n",
      "loss: 0.802438  [32064/60000]\n",
      "loss: 0.807650  [38464/60000]\n",
      "loss: 0.795065  [44864/60000]\n",
      "loss: 0.824702  [51264/60000]\n",
      "loss: 0.763036  [57664/60000]\n",
      "Test Error: \n",
      " Accuracy: 82.3%, Avg loss: 0.742167 \n",
      "\n",
      "Epoch 10\n",
      "-------------------------------\n",
      "loss: 0.659713  [   64/60000]\n",
      "loss: 1.006477  [ 6464/60000]\n",
      "loss: 0.792201  [12864/60000]\n",
      "loss: 0.916639  [19264/60000]\n",
      "loss: 0.723030  [25664/60000]\n",
      "loss: 0.716252  [32064/60000]\n",
      "loss: 0.765396  [38464/60000]\n",
      "loss: 0.755272  [44864/60000]\n",
      "loss: 0.636564  [51264/60000]\n",
      "loss: 0.508645  [57664/60000]\n",
      "Test Error: \n",
      " Accuracy: 83.9%, Avg loss: 0.659604 \n",
      "\n",
      "Done!\n"
     ]
    }
   ],
   "source": [
    "#%%timeit -r1 -n1\n",
    "learning_rate = 1e-3\n",
    "batch_size = 64\n",
    "epochs = 10\n",
    "\n",
    "train_dataloader = torch.utils.data.DataLoader(data, batch_size=batch_size,\n",
    "                                               shuffle=True)\n",
    "valid_dataloader = torch.utils.data.DataLoader(test_data, batch_size=batch_size,\n",
    "                                               shuffle=True)\n",
    "\n",
    "model = mnist_network().to(device)\n",
    "loss_fn = nn.CrossEntropyLoss()\n",
    "optimizer = torch.optim.SGD(model.parameters(), lr=learning_rate)\n",
    "\n",
    "train_loss = []\n",
    "validation_loss = []\n",
    "for t in range(epochs):\n",
    "    print(f\"Epoch {t+1}\\n-------------------------------\")\n",
    "    loss = train_epoch(train_dataloader, model, loss_fn, optimizer)\n",
    "    train_loss.append(loss)\n",
    "    loss, accuracy = validation(valid_dataloader, model, loss_fn)\n",
    "    validation_loss.append(loss)\n",
    "print(\"Done!\")"
   ]
  },
  {
   "cell_type": "markdown",
   "metadata": {},
   "source": [
    "We can also look at the accuracy over the epochs of the network:"
   ]
  },
  {
   "cell_type": "code",
   "execution_count": 14,
   "metadata": {},
   "outputs": [
    {
     "data": {
      "image/png": "[encoded data removed]",
      "text/plain": [
       "<Figure size 640x480 with 1 Axes>"
      ]
     },
     "metadata": {},
     "output_type": "display_data"
    }
   ],
   "source": [
    "plt.plot(train_loss, label='Train')\n",
    "plt.plot(validation_loss, label='Validation')\n",
    "plt.xlabel('Epoch')\n",
    "plt.ylabel('Loss')\n",
    "plt.legend();\n",
    "plt.ylim([0, 2.3]);"
   ]
  },
  {
   "cell_type": "markdown",
   "metadata": {},
   "source": [
    "MNIST is commonly used as a tutorial dataset, and one of the reasons for that is that basically anything will be successful on it.  The dataset is \"solved\" - some methods do better than human accuracy and will reach around 99.9% accuracy."
   ]
  },
  {
   "cell_type": "markdown",
   "metadata": {},
   "source": [
    "For reference, and to convince ourselves that we obtained good accuracy with our neural network let's try random forests:"
   ]
  },
  {
   "cell_type": "code",
   "execution_count": 28,
   "metadata": {},
   "outputs": [
    {
     "data": {
      "text/plain": [
       "(60000, 784)"
      ]
     },
     "execution_count": 28,
     "metadata": {},
     "output_type": "execute_result"
    }
   ],
   "source": [
    "X_train_list = [data[i][0].flatten().numpy() for i in range(len(data))]\n",
    "X_train = np.row_stack(X_train_list)\n",
    "y_train = np.array([data[i][1] for i in range(len(data))])\n",
    "X_train.shape"
   ]
  },
  {
   "cell_type": "code",
   "execution_count": 29,
   "metadata": {},
   "outputs": [
    {
     "data": {
      "text/plain": [
       "(10000, 784)"
      ]
     },
     "execution_count": 29,
     "metadata": {},
     "output_type": "execute_result"
    }
   ],
   "source": [
    "X_test_list = [test_data[i][0].flatten().numpy() for i in range(len(test_data))]\n",
    "X_test = np.row_stack(X_test_list)\n",
    "y_test = np.array([test_data[i][1] for i in range(len(test_data))])\n",
    "X_test.shape"
   ]
  },
  {
   "cell_type": "code",
   "execution_count": 30,
   "metadata": {},
   "outputs": [
    {
     "name": "stdout",
     "output_type": "stream",
     "text": [
      "0.971\n"
     ]
    }
   ],
   "source": [
    "run_rf = True\n",
    "if run_rf :\n",
    "    from sklearn.ensemble import RandomForestClassifier\n",
    "    rf = RandomForestClassifier(n_estimators=500)\n",
    "    rf.fit(X_train, y_train);\n",
    "    from sklearn.metrics import accuracy_score\n",
    "    y_pred = rf.predict(X_test)\n",
    "    print(accuracy_score(y_pred, y_test))"
   ]
  },
  {
   "cell_type": "markdown",
   "metadata": {},
   "source": [
    "### Comments\n",
    "\n",
    "There are major issues in using feed-forward neural networks for image classification:\n",
    "\n",
    "* Fully connected networks can have very large numbers of parameters with increasing image sizes.  Consider for example images of size 228x228x3, which is standard in this field.  Using the network architecture we have here would result in 228\\*228\\*3\\*100 parameters from the input to the hidden layer - about 15,000,000.  This network would also not be successful - we would need to significantly increase the width and depth, compounding the issue.  It is likely that billions of parameters would be necessary to achieve good accuracy.\n",
    "* If we take an image that represents the number seven, and shift the seven over a few pixels, we would expect it to still be classified as a seven.  However, fully connected networks are not able to represent this invariance.\n",
    "\n",
    "Some of these concerns apply to other standard machine learning approaches as well.\n",
    "Convolutional networks which are introduced next, address these shortcomings, and have led to major improvements in accuracy in image classification tasks.  Their success has led to a renaissance of the field of neural networks."
   ]
  }
 ],
 "metadata": {
  "kernelspec": {
   "display_name": "Python 3 (ipykernel)",
   "language": "python",
   "name": "python3"
  },
  "language_info": {
   "codemirror_mode": {
    "name": "ipython",
    "version": 3
   },
   "file_extension": ".py",
   "mimetype": "text/x-python",
   "name": "python",
   "nbconvert_exporter": "python",
   "pygments_lexer": "ipython3",
   "version": "3.11.7"
  }
 },
 "nbformat": 4,
 "nbformat_minor": 4
}
