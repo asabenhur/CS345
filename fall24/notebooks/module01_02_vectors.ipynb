{
 "cells": [
  {
   "cell_type": "markdown",
   "metadata": {},
   "source": [
    "*This notebook is part of  course materials for CS 345: Machine Learning Foundations and Practice at Colorado State University.\n",
    "Original versions were created by Asa Ben-Hur with updates by Ross Beveridge.\n",
    "The content is availabe [on GitHub](https://github.com/asabenhur/CS345).*\n",
    "\n",
    "*The text is released under the [CC BY-SA license](https://creativecommons.org/licenses/by-sa/4.0/), and code is released under the [MIT license](https://opensource.org/licenses/MIT).*"
   ]
  },
  {
   "cell_type": "markdown",
   "metadata": {},
   "source": [
    "<a href=\"https://colab.research.google.com/github//asabenhur/CS345/blob/master/fall24/notebooks/module01_02_vectors.ipynb\">\n",
    "  <img align=\"left\" src=\"https://colab.research.google.com/assets/colab-badge.svg\" alt=\"Open In Colab\"/>\n",
    "</a>"
   ]
  },
  {
   "cell_type": "markdown",
   "metadata": {
    "id": "ojPDYkGLys8t"
   },
   "source": [
    "# Linear Algebra Meets Geometry Part 1:  Vectors\n",
    "\n",
    "This notebook is part of our discussion of linear algebra.  Vectors are the basic building blocks of machine learning, and in this notebook we aim to obtain a better understanding of vectors and vector operations.\n",
    "This will allow us to think of data and data represention in geometrical terms."
   ]
  },
  {
   "cell_type": "markdown",
   "metadata": {
    "id": "m7LjxNrGys84"
   },
   "source": [
    "### *Support code*\n",
    "\n",
    "Imports and useful functions"
   ]
  },
  {
   "cell_type": "code",
   "execution_count": 1,
   "metadata": {
    "executionInfo": {
     "elapsed": 527,
     "status": "ok",
     "timestamp": 1612286986851,
     "user": {
      "displayName": "Ross Beveridge",
      "photoUrl": "https://lh3.googleusercontent.com/a-/AOh14GhZ9yfcROZXIKThWciv5reom6aDm1Spt-r8JOsVNA=s64",
      "userId": "11748907218223072510"
     },
     "user_tz": 420
    },
    "id": "hUcEXFuEys84"
   },
   "outputs": [],
   "source": [
    "import numpy as np\n",
    "import math\n",
    "from matplotlib import pyplot as plt"
   ]
  },
  {
   "cell_type": "code",
   "execution_count": 2,
   "metadata": {
    "executionInfo": {
     "elapsed": 866,
     "status": "ok",
     "timestamp": 1612286987194,
     "user": {
      "displayName": "Ross Beveridge",
      "photoUrl": "https://lh3.googleusercontent.com/a-/AOh14GhZ9yfcROZXIKThWciv5reom6aDm1Spt-r8JOsVNA=s64",
      "userId": "11748907218223072510"
     },
     "user_tz": 420
    },
    "hideCode": true,
    "hidePrompt": true,
    "id": "DPZbkyZdys85"
   },
   "outputs": [],
   "source": [
    "from matplotlib.ticker import MaxNLocator\n",
    "def axes_at_zero(ax):\n",
    "    \"\"\"helper to make the axes go through (0,0)\"\"\"\n",
    "    ax.spines['left'].set_position(('data', 0.0))\n",
    "    ax.spines['bottom'].set_position(('data', 0.0))\n",
    "    ax.spines['right'].set_visible(False)\n",
    "    ax.spines['top'].set_visible(False)\n",
    "    ax.xaxis.set_major_locator(MaxNLocator(integer=True))\n",
    "    ax.yaxis.set_major_locator(MaxNLocator(integer=True))\n",
    "    ax.set_aspect('equal')\n",
    "    "
   ]
  },
  {
   "cell_type": "code",
   "execution_count": 3,
   "metadata": {
    "executionInfo": {
     "elapsed": 866,
     "status": "ok",
     "timestamp": 1612286987196,
     "user": {
      "displayName": "Ross Beveridge",
      "photoUrl": "https://lh3.googleusercontent.com/a-/AOh14GhZ9yfcROZXIKThWciv5reom6aDm1Spt-r8JOsVNA=s64",
      "userId": "11748907218223072510"
     },
     "user_tz": 420
    },
    "id": "nCkw_0A0ys85"
   },
   "outputs": [],
   "source": [
    "def plot_vector(vector, origin=[0, 0], **options):\n",
    "    return plt.arrow(origin[0], origin[1], vector[0], vector[1],\n",
    "              head_width=0.1, head_length=0.2, length_includes_head=True,\n",
    "              **options)"
   ]
  },
  {
   "cell_type": "markdown",
   "metadata": {
    "hideCode": false,
    "hidePrompt": false,
    "id": "q55Js2fheB93",
    "origin_pos": 0
   },
   "source": [
    "## Vectors and their Geometry\n",
    "\n",
    "Vectors are the fundamental building blocks of machine learning data, so we need to understand them well.\n",
    "\n",
    "In math, a vector is written as a *column* of values:\n",
    "$$\n",
    "\\mathbf{v} = \\begin{pmatrix}1\\\\7\\\\0\\\\1\\end{pmatrix}.\n",
    "$$\n",
    "\n",
    "It can also be expressed as the transpose of a *row* vector:\n",
    "\n",
    "$$\n",
    "\\mathbf{v} = \\begin{pmatrix}1 & 7 & 0 & 1\\end{pmatrix}^\\top.\n",
    "$$ \n",
    "\n",
    "The transpose operator exchanges rows and columns, so transforms a row vector into a column vector.\n",
    "\n",
    "In Python you can represent a vector using a Python list:"
   ]
  },
  {
   "cell_type": "code",
   "execution_count": 4,
   "metadata": {
    "colab": {
     "base_uri": "https://localhost:8080/"
    },
    "executionInfo": {
     "elapsed": 854,
     "status": "ok",
     "timestamp": 1612286987196,
     "user": {
      "displayName": "Ross Beveridge",
      "photoUrl": "https://lh3.googleusercontent.com/a-/AOh14GhZ9yfcROZXIKThWciv5reom6aDm1Spt-r8JOsVNA=s64",
      "userId": "11748907218223072510"
     },
     "user_tz": 420
    },
    "id": "p4vT8GC7eB93",
    "origin_pos": 1,
    "outputId": "e5b35742-2044-46d4-e8da-5f8a40895abb",
    "tab": "mxnet"
   },
   "outputs": [
    {
     "data": {
      "text/plain": [
       "[1, 7, 0, 1]"
      ]
     },
     "execution_count": 4,
     "metadata": {},
     "output_type": "execute_result"
    }
   ],
   "source": [
    "v = [1, 7, 0, 1]\n",
    "v"
   ]
  },
  {
   "cell_type": "markdown",
   "metadata": {
    "id": "DzUsI4K6ys87"
   },
   "source": [
    "NumPy arrays will be more useful:"
   ]
  },
  {
   "cell_type": "code",
   "execution_count": 5,
   "metadata": {
    "colab": {
     "base_uri": "https://localhost:8080/"
    },
    "executionInfo": {
     "elapsed": 845,
     "status": "ok",
     "timestamp": 1612286987197,
     "user": {
      "displayName": "Ross Beveridge",
      "photoUrl": "https://lh3.googleusercontent.com/a-/AOh14GhZ9yfcROZXIKThWciv5reom6aDm1Spt-r8JOsVNA=s64",
      "userId": "11748907218223072510"
     },
     "user_tz": 420
    },
    "id": "r9_GySZ5ys87",
    "outputId": "a3e2d084-c0c9-4d9e-a9fc-aab41f4e50ca"
   },
   "outputs": [
    {
     "data": {
      "text/plain": [
       "array([1, 7, 0, 1, 5])"
      ]
     },
     "execution_count": 5,
     "metadata": {},
     "output_type": "execute_result"
    }
   ],
   "source": [
    "v = np.array([1, 7, 0, 1, 5])\n",
    "v"
   ]
  },
  {
   "cell_type": "markdown",
   "metadata": {
    "id": "aup56a_Cys88"
   },
   "source": [
    "There is more to a vector than an array of numbers, and in what follows we discuss its geometric interpretation."
   ]
  },
  {
   "cell_type": "markdown",
   "metadata": {},
   "source": [
    "### Data points\n",
    "\n",
    "A **point** is defined as a location relative to a fixed reference called the *origin*.  Its components are the point's coordinates.\n",
    "\n",
    "In two or three dimensions, we can easily visualize this idea:"
   ]
  },
  {
   "cell_type": "code",
   "execution_count": 6,
   "metadata": {},
   "outputs": [
    {
     "data": {
      "image/png": "[encoded data removed]",
      "text/plain": [
       "<Figure size 400x400 with 1 Axes>"
      ]
     },
     "metadata": {},
     "output_type": "display_data"
    }
   ],
   "source": [
    "fig = plt.figure(figsize=(4,4))\n",
    "ax = fig.add_subplot(111)\n",
    "plt.scatter(1,2, c='k', alpha=0.5);\n",
    "plt.text(1.2,2, '(1,2)', fontsize = 12)\n",
    "plt.scatter(3,1, c='k', alpha=0.5);\n",
    "plt.text(2.7,1.2, '(3,1)', fontsize = 12)\n",
    "plt.scatter(-2,-1, c='k', alpha=0.5);\n",
    "plt.text(-2,-0.8, '(-2,-1)', fontsize = 12)\n",
    "plt.ylim(-1.5,2.5);\n",
    "plt.xlim(-3.5,3.5);\n",
    "axes_at_zero(ax)\n",
    "plt.grid()"
   ]
  },
  {
   "cell_type": "markdown",
   "metadata": {
    "id": "QqCzOMSKys89"
   },
   "source": [
    "### An application in computer vision:  Images as points"
   ]
  },
  {
   "cell_type": "markdown",
   "metadata": {
    "id": "Q0M0ZAWiys89"
   },
   "source": [
    "This geometric point of view allows us to consider the problem of data classification on a more abstract level.\n",
    "Let's consider for example the problem of classifying images, say distinguishing between cats and dogs.  However, when we interpret the images as simply points in space, \n",
    "the problem becomes no different than other classification problems (although images do benefit from classification methods that build on the characteristics of this domain).  On this more abstract level, we seek to discover how to separate two groups of points.\n",
    "\n",
    "To illustrate this point, here are two points representing the face of a dog and a cat. Notice this example motivates in practice what we are so far discussing in an abstract manner. Namely, data expressed as data points."
   ]
  },
  {
   "cell_type": "code",
   "execution_count": 7,
   "metadata": {
    "colab": {
     "base_uri": "https://localhost:8080/",
     "height": 450
    },
    "executionInfo": {
     "elapsed": 1563,
     "status": "ok",
     "timestamp": 1612286987943,
     "user": {
      "displayName": "Ross Beveridge",
      "photoUrl": "https://lh3.googleusercontent.com/a-/AOh14GhZ9yfcROZXIKThWciv5reom6aDm1Spt-r8JOsVNA=s64",
      "userId": "11748907218223072510"
     },
     "user_tz": 420
    },
    "id": "o3eM7swvys8-",
    "outputId": "ddd3ff9e-e35e-4e24-b751-489f981e9285"
   },
   "outputs": [
    {
     "name": "stdout",
     "output_type": "stream",
     "text": [
      "shape of dog vector  (1024,)\n"
     ]
    },
    {
     "data": {
      "image/png": "[encoded data removed]",
      "text/plain": [
       "<Figure size 640x480 with 2 Axes>"
      ]
     },
     "metadata": {},
     "output_type": "display_data"
    }
   ],
   "source": [
    "dog_vector = np.array([197, 199, 207, 176, 177, 211, 204, 196, 193, 194, 195, 194, 198, 197, 196, 198, 199, 199, 199, 200, 200, 200, 199, 201, 203, 206, 205, 202, 200, 197, 198, 200, 197, 215, 126, 22, 28, 111, 206, 211, 196, 192, 195, 195, 196, 195, 194, 195, 196, 196, 194, 195, 197, 198, 198, 195, 198, 198, 193, 203, 218, 216, 195, 193, 211, 168, 25, 0, 0, 0, 80, 193, 206, 186, 188, 192, 193, 191, 192, 191, 191, 191, 191, 190, 190, 193, 191, 188, 197, 195, 208, 195, 134, 138, 189, 193, 203, 98, 15, 10, 6, 0, 0, 93, 208, 197, 187, 193, 193, 192, 192, 192, 192, 192, 192, 191, 190, 193, 197, 196, 205, 222, 175, 60, 0, 21, 184, 208, 171, 68, 37, 22, 6, 7, 0, 2, 132, 215, 198, 190, 190, 191, 189, 190, 192, 192, 190, 189, 191, 189, 187, 202, 209, 126, 17, 0, 2, 14, 126, 208, 129, 39, 41, 28, 11, 9, 1, 0, 41, 179, 210, 193, 195, 194, 192, 193, 194, 194, 194, 193, 194, 200, 216, 207, 90, 0, 0, 12, 21, 3, 88, 214, 124, 45, 53, 34, 10, 14, 15, 7, 1, 78, 195, 216, 200, 200, 202, 201, 198, 197, 196, 206, 217, 203, 158, 55, 0, 0, 8, 19, 18, 0, 88, 214, 135, 58, 57, 47, 6, 5, 29, 27, 6, 4, 82, 183, 208, 199, 192, 191, 192, 194, 196, 169, 126, 69, 9, 0, 8, 34, 62, 58, 26, 27, 120, 211, 133, 33, 37, 74, 28, 0, 10, 7, 13, 44, 89, 140, 161, 155, 138, 146, 160, 171, 162, 77, 7, 0, 4, 5, 39, 91, 104, 75, 40, 98, 197, 197, 147, 101, 102, 84, 29, 0, 0, 7, 71, 118, 109, 95, 105, 99, 79, 102, 121, 114, 102, 112, 99, 21, 8, 37, 41, 53, 38, 27, 82, 186, 202, 186, 180, 124, 99, 87, 35, 22, 42, 66, 106, 116, 87, 65, 63, 39, 32, 47, 58, 58, 70, 117, 155, 95, 52, 56, 21, 27, 55, 53, 111, 201, 197, 189, 206, 162, 71, 55, 44, 43, 63, 84, 86, 109, 136, 119, 87, 49, 18, 41, 80, 99, 112, 130, 133, 138, 102, 39, 28, 42, 70, 109, 167, 193, 189, 191, 200, 214, 129, 24, 16, 23, 43, 75, 90, 123, 111, 85, 131, 111, 45, 93, 144, 103, 105, 155, 131, 91, 75, 54, 28, 29, 99, 174, 200, 189, 184, 189, 189, 201, 201, 88, 1, 3, 26, 59, 88, 96, 28, 6, 87, 107, 89, 111, 100, 15, 38, 128, 147, 90, 40, 43, 37, 73, 172, 208, 187, 186, 190, 188, 183, 199, 208, 85, 0, 4, 8, 12, 16, 20, 0, 0, 58, 114, 117, 114, 61, 10, 4, 30, 68, 64, 32, 11, 48, 153, 206, 182, 180, 187, 185, 185, 193, 199, 106, 18, 29, 37, 18, 2, 12, 36, 32, 13, 46, 104, 117, 126, 78, 30, 55, 62, 43, 61, 121, 101, 72, 133, 190, 187, 180, 183, 186, 185, 204, 166, 47, 34, 62, 52, 50, 19, 10, 35, 72, 57, 40, 64, 103, 111, 86, 84, 100, 72, 62, 121, 193, 176, 138, 120, 156, 194, 187, 184, 191, 194, 203, 134, 47, 49, 53, 50, 48, 26, 16, 42, 56, 38, 32, 25, 90, 110, 71, 85, 110, 84, 93, 153, 175, 161, 166, 140, 152, 184, 191, 185, 183, 191, 199, 125, 49, 41, 40, 41, 24, 20, 33, 39, 21, 5, 8, 30, 85, 106, 66, 32, 51, 74, 82, 106, 103, 119, 146, 151, 158, 182, 190, 190, 186, 186, 205, 162, 70, 28, 26, 25, 9, 3, 5, 0, 1, 9, 27, 56, 66, 74, 78, 51, 21, 30, 30, 18, 33, 77, 137, 159, 173, 192, 190, 189, 187, 185, 210, 142, 36, 22, 23, 15, 8, 3, 2, 1, 0, 7, 34, 48, 66, 92, 105, 82, 35, 24, 16, 15, 44, 91, 130, 139, 162, 189, 186, 185, 190, 195, 167, 56, 9, 26, 24, 21, 22, 18, 8, 2, 1, 5, 11, 10, 14, 25, 37, 44, 46, 16, 31, 92, 114, 131, 144, 134, 128, 157, 171, 173, 175, 180, 70, 0, 17, 23, 21, 25, 25, 19, 11, 4, 7, 16, 11, 1, 0, 0, 0, 38, 54, 48, 111, 142, 155, 158, 144, 127, 113, 136, 166, 159, 155, 160, 50, 0, 16, 16, 15, 17, 14, 16, 14, 6, 11, 22, 22, 11, 9, 10, 16, 36, 64, 118, 141, 138, 142, 129, 118, 123, 126, 137, 156, 157, 157, 158, 104, 19, 12, 14, 10, 10, 10, 17, 28, 25, 5, 19, 41, 28, 9, 0, 32, 80, 128, 163, 135, 111, 100, 89, 101, 131, 144, 151, 160, 160, 157, 158, 130, 30, 9, 14, 11, 9, 10, 15, 38, 51, 25, 27, 54, 38, 18, 61, 150, 175, 176, 173, 128, 76, 65, 83, 112, 140, 158, 161, 157, 159, 158, 158, 95, 9, 16, 25, 16, 9, 10, 12, 28, 42, 41, 24, 22, 70, 122, 168, 196, 174, 181, 163, 82, 60, 86, 120, 144, 157, 141, 150, 161, 154, 160, 161, 72, 0, 21, 28, 25, 17, 6, 7, 15, 19, 21, 23, 44, 130, 179, 158, 167, 178, 151, 106, 80, 76, 115, 148, 152, 145, 112, 123, 156, 149, 153, 156, 37, 0, 19, 18, 21, 23, 9, 8, 17, 18, 13, 10, 78, 147, 167, 164, 157, 175, 161, 126, 86, 97, 145, 151, 120, 110, 106, 125, 159, 160, 155, 157, 13, 5, 13, 14, 17, 25, 15, 10, 22, 17, 7, 0, 52, 161, 199, 185, 163, 180, 179, 125, 74, 128, 149, 121, 121, 114, 114, 132, 160, 182, 173, 165, 23, 12, 6, 13, 17, 16, 15, 9, 12, 20, 14, 6, 12, 74, 142, 154, 142, 155, 127, 98, 116, 124, 118, 106, 122, 139, 144, 145, 133, 144, 162, 167, 28, 24, 14, 10, 8, 8, 8, 6, 11, 21, 21, 13, 9, 6, 5, 68, 141, 129, 118, 118, 131, 89, 88, 112, 119, 153, 166, 158, 118, 64, 107, 171])\n",
    "cat_vector = np.array([65, 66, 74, 72, 69, 80, 71, 67, 64, 61, 65, 65, 68, 69, 69, 70, 67, 68, 69, 69, 67, 68, 69, 69, 72, 69, 68, 73, 65, 43, 65, 64, 63, 69, 74, 78, 72, 69, 71, 71, 69, 68, 69, 68, 68, 66, 66, 65, 71, 68, 68, 70, 65, 66, 72, 70, 66, 70, 78, 56, 23, 9, 51, 72, 77, 62, 28, 46, 73, 81, 76, 73, 70, 72, 69, 65, 63, 64, 67, 62, 68, 70, 62, 64, 66, 64, 64, 65, 66, 69, 37, 3, 0, 0, 12, 61, 81, 31, 0, 0, 15, 56, 81, 72, 64, 65, 66, 65, 63, 64, 68, 65, 62, 64, 63, 62, 64, 64, 64, 67, 71, 34, 0, 1, 6, 17, 6, 40, 80, 19, 0, 4, 0, 0, 40, 70, 67, 63, 64, 65, 63, 60, 62, 63, 60, 59, 63, 63, 61, 62, 64, 68, 40, 1, 0, 6, 13, 22, 11, 24, 78, 24, 13, 17, 3, 0, 0, 30, 77, 68, 63, 65, 63, 60, 61, 61, 61, 61, 61, 61, 61, 63, 67, 38, 0, 0, 6, 14, 33, 26, 2, 19, 70, 21, 11, 27, 16, 10, 2, 0, 33, 67, 68, 65, 62, 62, 63, 62, 62, 61, 62, 65, 67, 68, 49, 6, 0, 12, 25, 28, 34, 31, 0, 27, 63, 20, 5, 27, 39, 26, 22, 11, 0, 20, 56, 66, 65, 63, 59, 60, 66, 56, 60, 56, 52, 39, 8, 0, 12, 30, 47, 31, 25, 18, 6, 54, 68, 34, 0, 15, 38, 36, 38, 35, 15, 0, 8, 28, 32, 39, 39, 46, 49, 41, 34, 20, 6, 1, 2, 7, 12, 22, 39, 30, 23, 9, 33, 55, 71, 54, 8, 8, 19, 26, 40, 25, 6, 8, 1, 0, 3, 12, 19, 29, 25, 21, 7, 1, 0, 3, 5, 4, 6, 9, 11, 15, 18, 12, 12, 26, 64, 61, 13, 5, 14, 8, 15, 7, 0, 7, 9, 2, 3, 0, 5, 12, 9, 7, 2, 3, 3, 6, 5, 6, 12, 7, 1, 2, 9, 7, 0, 38, 66, 58, 13, 0, 7, 9, 4, 7, 8, 3, 10, 8, 3, 5, 7, 7, 3, 3, 4, 3, 6, 7, 4, 10, 9, 4, 3, 3, 7, 3, 0, 48, 64, 64, 22, 0, 3, 5, 3, 3, 7, 3, 8, 15, 2, 6, 5, 8, 12, 1, 4, 4, 9, 6, 3, 4, 4, 4, 4, 4, 4, 1, 21, 58, 61, 65, 49, 7, 0, 4, 4, 4, 3, 4, 3, 7, 6, 1, 0, 25, 76, 25, 0, 3, 6, 8, 7, 2, 4, 4, 4, 4, 1, 2, 53, 70, 64, 62, 71, 43, 0, 2, 4, 4, 4, 5, 3, 7, 9, 0, 27, 153, 196, 82, 0, 7, 4, 14, 7, 4, 5, 4, 4, 4, 2, 1, 44, 67, 64, 64, 72, 48, 1, 2, 4, 4, 6, 7, 5, 6, 1, 10, 171, 255, 255, 202, 69, 4, 3, 5, 2, 5, 5, 4, 4, 4, 4, 1, 20, 60, 64, 63, 70, 38, 0, 3, 4, 5, 5, 5, 8, 1, 0, 67, 239, 255, 254, 255, 161, 4, 0, 2, 0, 0, 4, 4, 4, 4, 4, 1, 3, 47, 64, 65, 70, 36, 0, 2, 4, 7, 3, 10, 9, 0, 0, 79, 230, 255, 253, 255, 160, 3, 0, 3, 24, 30, 3, 3, 4, 4, 4, 3, 0, 36, 63, 69, 67, 23, 0, 4, 4, 0, 13, 50, 38, 34, 1, 59, 234, 255, 251, 255, 157, 1, 14, 26, 49, 58, 1, 4, 5, 4, 4, 3, 1, 32, 69, 73, 56, 10, 3, 14, 6, 1, 9, 41, 50, 55, 4, 33, 228, 255, 247, 255, 156, 0, 12, 28, 32, 20, 2, 4, 4, 4, 4, 3, 2, 29, 71, 81, 62, 11, 2, 10, 3, 5, 0, 1, 5, 19, 0, 46, 247, 255, 248, 255, 206, 8, 0, 3, 8, 2, 3, 4, 4, 4, 4, 3, 2, 28, 68, 70, 63, 17, 0, 6, 5, 3, 5, 7, 88, 192, 160, 164, 255, 251, 248, 251, 255, 173, 107, 128, 39, 1, 1, 4, 4, 4, 4, 2, 5, 36, 63, 64, 67, 22, 0, 8, 7, 1, 10, 47, 204, 255, 255, 255, 255, 255, 255, 255, 255, 255, 255, 253, 99, 0, 1, 4, 4, 4, 4, 3, 13, 50, 63, 63, 72, 42, 7, 6, 0, 0, 3, 26, 177, 253, 255, 255, 246, 227, 215, 199, 209, 248, 255, 251, 175, 16, 0, 2, 2, 1, 0, 3, 43, 74, 63, 68, 86, 82, 13, 5, 9, 5, 32, 62, 165, 251, 234, 163, 68, 38, 26, 8, 130, 251, 255, 252, 224, 82, 1, 0, 0, 9, 8, 9, 72, 82, 80, 70, 74, 108, 59, 49, 102, 77, 98, 119, 179, 255, 168, 0, 0, 0, 0, 41, 196, 232, 238, 243, 236, 148, 57, 40, 40, 40, 8, 49, 101, 70, 72, 62, 60, 86, 160, 158, 167, 159, 138, 126, 163, 229, 186, 62, 14, 34, 13, 74, 160, 169, 178, 179, 181, 133, 110, 126, 125, 96, 81, 128, 84, 58, 67, 69, 55, 67, 161, 222, 200, 171, 146, 134, 129, 159, 155, 125, 66, 31, 11, 14, 37, 69, 102, 139, 146, 122, 112, 127, 126, 141, 191, 135, 71, 64, 64, 71, 76, 101, 116, 157, 183, 158, 149, 141, 148, 154, 125, 65, 12, 0, 4, 1, 0, 0, 49, 127, 124, 115, 126, 126, 132, 163, 155, 100, 76, 74, 81, 90, 93, 86, 64, 102, 182, 177, 152, 141, 140, 128, 105, 65, 16, 1, 0, 0, 0, 20, 56, 89, 109, 110, 123, 139, 148, 118, 72, 66, 85, 83, 87, 80, 61, 56, 59, 80, 81, 96, 139, 158, 145, 132, 113, 101, 84, 58, 32, 29, 43, 74, 80, 75, 104, 126, 121, 83, 53, 29, 58, 60, 63, 74, 64, 64, 59, 68, 80, 46, 25, 65, 120, 153, 131, 133, 130, 126, 125, 110, 100, 96, 94, 96, 88, 94, 106, 93, 55, 34, 10, 12, 33, 62, 64, 59])\n",
    "dog_vector = dog_vector / 255.0\n",
    "cat_vector = cat_vector / 255.0\n",
    "print(\"shape of dog vector \", dog_vector.shape)\n",
    "# convert the vectors into 32 x 32 images:\n",
    "dog_32x32 = dog_vector.reshape((32,32))\n",
    "cat_32x32 = cat_vector.reshape((32,32))\n",
    "# Now build the plot figure with the dog and cat image\n",
    "fig     = plt.figure()\n",
    "ax1     = fig.add_subplot(1, 2, 1)\n",
    "dogplot = plt.imshow(dog_32x32, cmap=\"gray\")\n",
    "ax2     = fig.add_subplot(1, 2, 2)\n",
    "catplot = plt.imshow(cat_32x32, cmap=\"gray\")\n",
    "ax1.set_title('Dog')\n",
    "ax2.set_title('Cat');"
   ]
  },
  {
   "cell_type": "markdown",
   "metadata": {
    "id": "2wbU5V0rys9A"
   },
   "source": [
    "### Vectors\n",
    "\n",
    "A **vector** points from one point to another point. It tells you how to get from one point to another.\n",
    "It is characterized by its length and direction, and not by where it is located in the plane.\n",
    "\n",
    "All the vectors in the figure below are considered as being the same, as they point in the same direction."
   ]
  },
  {
   "cell_type": "code",
   "execution_count": 8,
   "metadata": {
    "colab": {
     "base_uri": "https://localhost:8080/",
     "height": 436
    },
    "executionInfo": {
     "elapsed": 1811,
     "status": "ok",
     "timestamp": 1612286988201,
     "user": {
      "displayName": "Ross Beveridge",
      "photoUrl": "https://lh3.googleusercontent.com/a-/AOh14GhZ9yfcROZXIKThWciv5reom6aDm1Spt-r8JOsVNA=s64",
      "userId": "11748907218223072510"
     },
     "user_tz": 420
    },
    "hideCode": true,
    "hidePrompt": true,
    "id": "Mf7LoSX3ys9A",
    "outputId": "456a05ec-afd5-4f87-8c70-0f7ac065d003"
   },
   "outputs": [
    {
     "data": {
      "image/png": "[encoded data removed]",
      "text/plain": [
       "<Figure size 500x500 with 1 Axes>"
      ]
     },
     "metadata": {},
     "output_type": "display_data"
    }
   ],
   "source": [
    "fig = plt.figure(figsize=(5,5))\n",
    "ax = fig.add_subplot(111)\n",
    "plt.annotate(\"(3,2)\", xy =(0,0), xytext=(3.03,2.15), arrowprops=dict(facecolor='black', arrowstyle='<|-'));\n",
    "plt.annotate(\"\", xy =(1.5,-0.5), xytext=(4.53,1.65), arrowprops=dict(facecolor='black', arrowstyle='<|-'));\n",
    "plt.annotate(\"\", xy =(-2,-0.5), xytext=(1.03,1.65), arrowprops=dict(facecolor='black', arrowstyle='<|-'));\n",
    "plt.annotate(\"\", xy =(-1.5,1), xytext=(1.53,3.15), arrowprops=dict(facecolor='black', arrowstyle='<|-'));\n",
    "plt.annotate(\"\", xy =(-3,1.5), xytext=(0.03,3.65), arrowprops=dict(facecolor='black', arrowstyle='<|-'));\n",
    "\n",
    "plt.ylim(-2,4);\n",
    "plt.xlim(-5,5);\n",
    "axes_at_zero(ax)\n",
    "plt.grid()"
   ]
  },
  {
   "cell_type": "markdown",
   "metadata": {
    "id": "YtIGD5aTys88"
   },
   "source": [
    "### Vectors: points or directions?\n",
    "\n",
    "To reconcile the concepts of point and vector, we note that for any point in space there is a corresponding vector starting at the origin and ending at that point. \n",
    "\n",
    "Visually:"
   ]
  },
  {
   "cell_type": "code",
   "execution_count": 9,
   "metadata": {
    "colab": {
     "base_uri": "https://localhost:8080/",
     "height": 332
    },
    "executionInfo": {
     "elapsed": 961,
     "status": "ok",
     "timestamp": 1612286987327,
     "user": {
      "displayName": "Ross Beveridge",
      "photoUrl": "https://lh3.googleusercontent.com/a-/AOh14GhZ9yfcROZXIKThWciv5reom6aDm1Spt-r8JOsVNA=s64",
      "userId": "11748907218223072510"
     },
     "user_tz": 420
    },
    "hideCode": true,
    "hidePrompt": true,
    "id": "HoUX-myBys88",
    "outputId": "6263f002-77ff-452e-c932-4c633a045eb6"
   },
   "outputs": [
    {
     "data": {
      "image/png": "[encoded data removed]",
      "text/plain": [
       "<Figure size 400x400 with 1 Axes>"
      ]
     },
     "metadata": {},
     "output_type": "display_data"
    }
   ],
   "source": [
    "fig = plt.figure(figsize=(4,4))\n",
    "ax = fig.add_subplot(111)\n",
    "plt.scatter(1,2, c='r', alpha=0.5)\n",
    "plt.arrow(0,0, 1,2, head_width=0.1, ec='r', length_includes_head=True)\n",
    "plt.text(1.2,2, '(1,2)', fontsize = 12)\n",
    "plt.scatter(3,1, c='g', alpha=0.5)\n",
    "plt.arrow(0,0, 3,1, head_width=0.1, ec='g', length_includes_head=True)\n",
    "plt.text(2.7,1.2, '(3,1)', fontsize = 12)\n",
    "plt.scatter(-2,-1, c='b', alpha=0.5)\n",
    "plt.arrow(0,0, -2,-1, head_width=0.1, ec='b', length_includes_head=True)\n",
    "plt.text(-3,-0.8, '(-2,-1)', fontsize = 12)\n",
    "plt.ylim(-1.5,2.5);\n",
    "plt.xlim(-3.5,3.5);\n",
    "axes_at_zero(ax)\n",
    "plt.grid()"
   ]
  },
  {
   "cell_type": "markdown",
   "metadata": {
    "id": "mw5HjruEys9A"
   },
   "source": [
    "## Operations on vectors\n",
    "\n",
    "### Vector addition\n",
    "\n",
    "Vectors of same size can be added together. Addition is performed *elementwise*:\n"
   ]
  },
  {
   "cell_type": "code",
   "execution_count": 10,
   "metadata": {
    "colab": {
     "base_uri": "https://localhost:8080/"
    },
    "executionInfo": {
     "elapsed": 1800,
     "status": "ok",
     "timestamp": 1612286988202,
     "user": {
      "displayName": "Ross Beveridge",
      "photoUrl": "https://lh3.googleusercontent.com/a-/AOh14GhZ9yfcROZXIKThWciv5reom6aDm1Spt-r8JOsVNA=s64",
      "userId": "11748907218223072510"
     },
     "user_tz": 420
    },
    "id": "60d2-15yys9A",
    "outputId": "532c1ff3-6735-4b29-d2c8-7f18327c4eb1"
   },
   "outputs": [
    {
     "name": "stdout",
     "output_type": "stream",
     "text": [
      "  [2 5]\n",
      "+ [3 1]\n",
      "----------\n"
     ]
    },
    {
     "data": {
      "text/plain": [
       "array([5, 6])"
      ]
     },
     "execution_count": 10,
     "metadata": {},
     "output_type": "execute_result"
    }
   ],
   "source": [
    "u = np.array([2, 5])\n",
    "v = np.array([3, 1])\n",
    "\n",
    "print(\" \", u)\n",
    "print(\"+\", v)\n",
    "print(\"-\"*10)\n",
    "u + v"
   ]
  },
  {
   "cell_type": "markdown",
   "metadata": {
    "id": "sf7P5u7eys9B"
   },
   "source": [
    "Keep in mind that the `+` operator for Python lists does something else altogether!\n",
    "\n",
    "The geometric view of vectors helps us make visual sense of vector addition: we follow the direction given by one vector, and then follow the direction given by the other:"
   ]
  },
  {
   "cell_type": "code",
   "execution_count": 11,
   "metadata": {
    "colab": {
     "base_uri": "https://localhost:8080/",
     "height": 450
    },
    "executionInfo": {
     "elapsed": 1958,
     "status": "ok",
     "timestamp": 1612286988371,
     "user": {
      "displayName": "Ross Beveridge",
      "photoUrl": "https://lh3.googleusercontent.com/a-/AOh14GhZ9yfcROZXIKThWciv5reom6aDm1Spt-r8JOsVNA=s64",
      "userId": "11748907218223072510"
     },
     "user_tz": 420
    },
    "hideCode": true,
    "hidePrompt": true,
    "id": "XX7KAU-gys9B",
    "outputId": "0a66efc7-facf-4cb8-be43-8e76df909080"
   },
   "outputs": [
    {
     "data": {
      "image/png": "[encoded data removed]",
      "text/plain": [
       "<Figure size 300x300 with 1 Axes>"
      ]
     },
     "metadata": {},
     "output_type": "display_data"
    }
   ],
   "source": [
    "fig = plt.figure(figsize=(3,3))\n",
    "ax = fig.add_subplot(111)\n",
    "\n",
    "u = np.array([1, 2])\n",
    "v = np.array([1, -1])\n",
    "\n",
    "plot_vector(u)\n",
    "plot_vector(v, origin=u)\n",
    "plot_vector(u+v)\n",
    "\n",
    "plt.text(1,2, \"(1,2)\");\n",
    "plt.text(2.1,1, \"(1,2) + (1,-1)\")\n",
    "\n",
    "plt.ylim(-1.05,3);\n",
    "plt.xlim(-1,4.01);\n",
    "plt.grid()\n",
    "axes_at_zero(ax)\n"
   ]
  },
  {
   "cell_type": "markdown",
   "metadata": {
    "id": "1eKK44hJys9B"
   },
   "source": [
    "This geometric perspective also demonstrates that *vector addition is commutative*, i.e. the order in which you add vectors does not matter:"
   ]
  },
  {
   "cell_type": "code",
   "execution_count": 12,
   "metadata": {
    "colab": {
     "base_uri": "https://localhost:8080/",
     "height": 384
    },
    "executionInfo": {
     "elapsed": 2572,
     "status": "ok",
     "timestamp": 1612286988997,
     "user": {
      "displayName": "Ross Beveridge",
      "photoUrl": "https://lh3.googleusercontent.com/a-/AOh14GhZ9yfcROZXIKThWciv5reom6aDm1Spt-r8JOsVNA=s64",
      "userId": "11748907218223072510"
     },
     "user_tz": 420
    },
    "hideCode": true,
    "hidePrompt": true,
    "id": "xpmIyaclys9C",
    "outputId": "b6905a8f-ef06-4cc1-98dc-69484b535d2a"
   },
   "outputs": [
    {
     "data": {
      "image/png": "[encoded data removed]",
      "text/plain": [
       "<Figure size 250x250 with 1 Axes>"
      ]
     },
     "metadata": {},
     "output_type": "display_data"
    }
   ],
   "source": [
    "u = np.array([2, 5])\n",
    "v = np.array([3, 1])\n",
    "\n",
    "plt.figure(figsize=(2.5,2.5))\n",
    "\n",
    "plot_vector(u, color=\"r\")\n",
    "plot_vector(v, color=\"b\")\n",
    "plot_vector(v, origin=u, color=\"b\", linestyle=\"dotted\")\n",
    "plot_vector(u, origin=v, color=\"r\", linestyle=\"dotted\")\n",
    "plot_vector(u+v, color=\"g\")\n",
    "\n",
    "plt.axis([0, 7, 0, 7])\n",
    "plt.text(0.7, 3, \"u\", color=\"r\", fontsize=12)\n",
    "plt.text(4, 3, \"u\", color=\"r\", fontsize=12)\n",
    "plt.text(1.8, 0.2, \"v\", color=\"b\", fontsize=12)\n",
    "plt.text(3.1, 5.6, \"v\", color=\"b\", fontsize=12)\n",
    "plt.text(2.4, 2.5, \"u+v\", color=\"g\", fontsize=12)\n",
    "plt.grid()"
   ]
  },
  {
   "cell_type": "markdown",
   "metadata": {
    "id": "PLUt9nJuys9C"
   },
   "source": [
    "### Question\n",
    "\n",
    "* Given a vector $\\mathbf{v}$, what is the direction of $-\\mathbf{v}$?"
   ]
  },
  {
   "cell_type": "markdown",
   "metadata": {
    "id": "3CpzsaBcys9C"
   },
   "source": [
    "### Vector Subtraction\n",
    "\n",
    "Vector subtraction also has geometrical interpretation.\n",
    "By considering the identity that \n",
    "\n",
    "$$\\mathbf{u} = \\mathbf{v} + (\\mathbf{u}-\\mathbf{v}),$$\n",
    "\n",
    "we see that the vector $\\mathbf{u}-\\mathbf{v}$ is the direction \n",
    "that takes us from the point $\\mathbf{v}$ to the point $\\mathbf{u}$."
   ]
  },
  {
   "cell_type": "code",
   "execution_count": 13,
   "metadata": {},
   "outputs": [
    {
     "data": {
      "image/png": "[encoded data removed]",
      "text/plain": [
       "<Figure size 250x250 with 1 Axes>"
      ]
     },
     "metadata": {},
     "output_type": "display_data"
    }
   ],
   "source": [
    "u = np.array([2, 5])\n",
    "v = np.array([3, 1])\n",
    "\n",
    "plt.figure(figsize=(2.5,2.5))\n",
    "\n",
    "plot_vector(u, color=\"r\")\n",
    "plot_vector(v, color=\"b\")\n",
    "plot_vector(u-v, origin=v, color=\"g\")\n",
    "\n",
    "plt.axis([0, 4, 0, 6])\n",
    "plt.text(0.7, 3, \"u\", color=\"r\", fontsize=12)\n",
    "#plt.text(4, 3, \"u\", color=\"r\", fontsize=12)\n",
    "plt.text(1.8, 0.2, \"v\", color=\"b\", fontsize=12)\n",
    "#plt.text(3.1, 5.6, \"v\", color=\"b\", fontsize=12)\n",
    "plt.text(2.7, 3, \"u-v\", color=\"g\", fontsize=12)\n",
    "plt.grid()"
   ]
  },
  {
   "cell_type": "markdown",
   "metadata": {
    "id": "QktzKu-eys9C"
   },
   "source": [
    "### Multiplication by a scalar\n",
    "\n",
    "A vector can be multiplied by a scalar (i.e. number).  The result is a vector where all elements of the vector are multiplied by that number.\n",
    "Here's an example of that in NumPy:"
   ]
  },
  {
   "cell_type": "code",
   "execution_count": 14,
   "metadata": {
    "colab": {
     "base_uri": "https://localhost:8080/"
    },
    "executionInfo": {
     "elapsed": 2562,
     "status": "ok",
     "timestamp": 1612286988998,
     "user": {
      "displayName": "Ross Beveridge",
      "photoUrl": "https://lh3.googleusercontent.com/a-/AOh14GhZ9yfcROZXIKThWciv5reom6aDm1Spt-r8JOsVNA=s64",
      "userId": "11748907218223072510"
     },
     "user_tz": 420
    },
    "id": "jcap04_Jys9C",
    "outputId": "114f2c96-c70b-4f07-f0d5-bcb8aca0e896"
   },
   "outputs": [
    {
     "name": "stdout",
     "output_type": "stream",
     "text": [
      "1.5  *  [2 5] =\n",
      "[3.  7.5]\n"
     ]
    }
   ],
   "source": [
    "u = np.array([2, 5])\n",
    "\n",
    "number = 1.5\n",
    "print(number, \" * \", u, \"=\")\n",
    "\n",
    "print(number * u)"
   ]
  },
  {
   "cell_type": "markdown",
   "metadata": {
    "id": "4nyMsfqtys9D"
   },
   "source": [
    "The following figure will provide us  with intuition of what multiplication by a scalar does to a vector:"
   ]
  },
  {
   "cell_type": "code",
   "execution_count": 15,
   "metadata": {
    "colab": {
     "base_uri": "https://localhost:8080/",
     "height": 384
    },
    "executionInfo": {
     "elapsed": 2550,
     "status": "ok",
     "timestamp": 1612286988998,
     "user": {
      "displayName": "Ross Beveridge",
      "photoUrl": "https://lh3.googleusercontent.com/a-/AOh14GhZ9yfcROZXIKThWciv5reom6aDm1Spt-r8JOsVNA=s64",
      "userId": "11748907218223072510"
     },
     "user_tz": 420
    },
    "hideCode": true,
    "hidePrompt": true,
    "id": "y-3J-5S7ys9D",
    "outputId": "a0fe3dcb-18f0-4be8-8aa9-472852ca5047"
   },
   "outputs": [
    {
     "data": {
      "image/png": "[encoded data removed]",
      "text/plain": [
       "<Figure size 250x250 with 1 Axes>"
      ]
     },
     "metadata": {},
     "output_type": "display_data"
    }
   ],
   "source": [
    "u = np.array([3, 2])\n",
    "a = 2\n",
    "\n",
    "plt.figure(figsize=(2.5,2.5))\n",
    "\n",
    "plot_vector(u)\n",
    "plot_vector(a * u, color=\"b\", linestyle=\"dotted\")\n",
    "plt.text(2, 2, \"u\", color=\"k\", fontsize=12)\n",
    "plt.text(4, 3.5, str(a)+ \" * u\", color=\"k\", fontsize=12)\n",
    "plt.axis([0, 7, 0, 7])\n",
    "plt.grid()"
   ]
  },
  {
   "cell_type": "markdown",
   "metadata": {
    "id": "VQSADleqys9D"
   },
   "source": [
    "* Looking at this figure, what can you say about the relationship between the direction defined by the vector $\\mathbf{u}$ compared $a \\cdot \\mathbf{u}$, where $a$ is a real number?"
   ]
  }
 ],
 "metadata": {
  "celltoolbar": "Hide code",
  "colab": {
   "name": "module01_04_vectors_dot_products.ipynb",
   "provenance": []
  },
  "kernelspec": {
   "display_name": "Python 3 (ipykernel)",
   "language": "python",
   "name": "python3"
  },
  "language_info": {
   "codemirror_mode": {
    "name": "ipython",
    "version": 3
   },
   "file_extension": ".py",
   "mimetype": "text/x-python",
   "name": "python",
   "nbconvert_exporter": "python",
   "pygments_lexer": "ipython3",
   "version": "3.11.7"
  },
  "rise": {
   "enable_chalkboard": true,
   "scroll": true
  }
 },
 "nbformat": 4,
 "nbformat_minor": 4
}
