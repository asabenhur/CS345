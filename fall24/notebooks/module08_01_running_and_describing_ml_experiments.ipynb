{
 "cells": [
  {
   "cell_type": "markdown",
   "id": "bfa4fb04-b68f-4ff9-a60f-10b01f6d32d7",
   "metadata": {},
   "source": [
    "*This notebook is part of  course materials for CS 345: Machine Learning Foundations and Practice at Colorado State University.\n",
    "Original versions were created by Asa Ben-Hur.\n",
    "The content is availabe [on GitHub](https://github.com/asabenhur/CS345).*\n",
    "\n",
    "*The text is released under the [CC BY-SA license](https://creativecommons.org/licenses/by-sa/4.0/), and code is released under the [MIT license](https://opensource.org/licenses/MIT).*"
   ]
  },
  {
   "cell_type": "markdown",
   "id": "de5356f4-3380-40f4-a8f5-7ff0ac4464b6",
   "metadata": {},
   "source": [
    "<a href=\"https://colab.research.google.com/github//asabenhur/CS345/blob/master/fall24/notebooks/module08_01_running_and_describing_ml_experiments.ipynb\">\n",
    "  <img align=\"left\" src=\"https://colab.research.google.com/assets/colab-badge.svg\" alt=\"Open In Colab\"/>\n",
    "</a>"
   ]
  },
  {
   "cell_type": "markdown",
   "id": "3dec770e-26a9-4c58-b92c-0853236a99c6",
   "metadata": {},
   "source": [
    "# Guidelines for running and describing machine learning experiments\n"
   ]
  },
  {
   "cell_type": "markdown",
   "id": "f805cd15-3ac2-40ff-b632-421a9123ece4",
   "metadata": {},
   "source": [
    "### Describe your data\n",
    "\n",
    "Your customer needs to understand the data:  where is the data coming from, what features are being used, and how many examples there are, including a breakdown by class (for classification problems). "
   ]
  },
  {
   "cell_type": "markdown",
   "id": "5dc79b94-4ffb-4006-bfbb-3ca2a39482be",
   "metadata": {},
   "source": [
    "### Good experimental protocols\n",
    "\n",
    "You need an appropriate evaluation protocol that ensures no leakage of information from the training set to the test set (here's a [good discussion](https://scikit-learn.org/stable/common_pitfalls.html#data-leakage) on the scikit-learn website), and is appropriate for the way in which the classifier will be used.  You need to report measures of accuracy or error that are appropriate for the problem and data.  For example, if you are dealing with imbalanced data, the standard measure of accuracy is not a good option."
   ]
  },
  {
   "cell_type": "markdown",
   "id": "cdff0a2c-bd4a-4d84-a3ce-03205267ceba",
   "metadata": {},
   "source": [
    "### Use appropriate baselines\n",
    "\n",
    "In machine learning we always need to compare our fancy approach with baselines of increasing levels of complexity.  For example, for classification problems a good approach is to compare to:\n",
    "\n",
    "* The majority classifier.\n",
    "* A linear classifier, e.g. a linear SVM\n",
    "* A robust nonlinear classifier such as Random Forests\n",
    "\n",
    "For regression problems, ridge regression is a good option."
   ]
  },
  {
   "cell_type": "markdown",
   "id": "c7fca9ff-1e6c-48f8-9ddc-6f7bf609299c",
   "metadata": {},
   "source": [
    "### What did the classifier learn?\n",
    "\n",
    "Can you say something about what the classifier has learned?  For examples, what are the most relevant features, or what types of examples is it still having difficulty with.  "
   ]
  }
 ],
 "metadata": {
  "kernelspec": {
   "display_name": "Python 3 (ipykernel)",
   "language": "python",
   "name": "python3"
  },
  "language_info": {
   "codemirror_mode": {
    "name": "ipython",
    "version": 3
   },
   "file_extension": ".py",
   "mimetype": "text/x-python",
   "name": "python",
   "nbconvert_exporter": "python",
   "pygments_lexer": "ipython3",
   "version": "3.11.7"
  }
 },
 "nbformat": 4,
 "nbformat_minor": 5
}
