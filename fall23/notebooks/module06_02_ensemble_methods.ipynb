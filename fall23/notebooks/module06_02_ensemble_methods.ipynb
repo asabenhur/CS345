{
 "cells": [
  {
   "cell_type": "markdown",
   "metadata": {},
   "source": [
    "*This notebook is part of  course materials for CS 345: Machine Learning Foundations and Practice at Colorado State University.\n",
    "Original versions were created by Asa Ben-Hur.\n",
    "The content is availabe [on GitHub](https://github.com/asabenhur/CS345).*\n",
    "\n",
    "*The text is released under the [CC BY-SA license](https://creativecommons.org/licenses/by-sa/4.0/), and code is released under the [MIT license](https://opensource.org/licenses/MIT).*"
   ]
  },
  {
   "cell_type": "markdown",
   "metadata": {},
   "source": [
    "<a href=\"https://colab.research.google.com/github//asabenhur/CS345/blob/master/fall23/notebooks/module06_02_ensemble_methods.ipynb\">\n",
    "  <img align=\"left\" src=\"https://colab.research.google.com/assets/colab-badge.svg\" alt=\"Open In Colab\"/>\n",
    "</a>"
   ]
  },
  {
   "cell_type": "code",
   "execution_count": 1,
   "metadata": {},
   "outputs": [],
   "source": [
    "import numpy as np\n",
    "import matplotlib.pyplot as plt"
   ]
  },
  {
   "cell_type": "markdown",
   "metadata": {},
   "source": [
    "# Ensemble methods\n",
    "\n",
    "\n",
    "Ensemble methods are machine learning methods that base their predictions on a collection of classifiers.  Each individual classifier might not have high accuracy, but by taking a \"vote\" among a diverse set, it is possible to obtain much higher accuracy than that of any member of the ensemble.\n",
    "This idea can be traced all the way back to the work of British scientist Sir Francis Galton.\n",
    "He discovered in the early 1900s that a collection of educated guesses can add up to very accurate predictions.\n",
    "This has been termed as **the wisdom of crowds**, and was described in the following publication:\n",
    "\n",
    "> Francis Galton. [Vox Populi](http://galton.org/essays/1900-1911/galton-1907-vox-populi.pdf).  Nature 75, pages 450-451, 1907.\n",
    "\n",
    "Our intuition of why this works is that averaging of many independent and diverse measurements can lead to more reliable estimates.\n",
    "\n",
    "Let us illustrate the potential benefit of this idea by a simulation study.  Let's consider a set of five classifiers, each of which is right 70% of the time and see how voting increases accuracy.\n"
   ]
  },
  {
   "cell_type": "code",
   "execution_count": 2,
   "metadata": {},
   "outputs": [],
   "source": [
    "# the following example inspired by code from\n",
    "# http://ethen8181.github.io/machine-learning/trees/random_forest.html\n",
    "\n",
    "from numpy.random import default_rng\n",
    "rng = default_rng()\n",
    "\n",
    "# generate random labels\n",
    "y = rng.choice([0,1], size=(1000,))\n",
    "\n",
    "accuracy = 0.7\n",
    "num_classifiers = 5\n",
    "\n",
    "# each classifier mutates a fraction of the labels \n",
    "# according to the accuracy\n",
    "predictions = []\n",
    "for i in range(num_classifiers):\n",
    "    predictions.append([y[i] if rng.random() < accuracy else 1-y[i] for i in range(len(y))])\n",
    "predictions = np.array(predictions)  "
   ]
  },
  {
   "cell_type": "code",
   "execution_count": 3,
   "metadata": {},
   "outputs": [
    {
     "name": "stdout",
     "output_type": "stream",
     "text": [
      "accuracy:  0.695\n",
      "accuracy:  0.718\n",
      "accuracy:  0.693\n",
      "accuracy:  0.687\n",
      "accuracy:  0.707\n"
     ]
    }
   ],
   "source": [
    "# accuracy of individual classifiers:\n",
    "for i in range(num_classifiers):\n",
    "    print('classifier ', str(i), ' accuracy: ', np.mean(predictions[i] == y))"
   ]
  },
  {
   "cell_type": "code",
   "execution_count": 4,
   "metadata": {},
   "outputs": [
    {
     "data": {
      "text/plain": [
       "0.828"
      ]
     },
     "execution_count": 4,
     "metadata": {},
     "output_type": "execute_result"
    }
   ],
   "source": [
    "# generate the predictions of the ensemble:\n",
    "ensemble_predictions = np.round(np.sum(predictions, axis=0) / num_classifiers)\n",
    "# accuracy of the voted classifier:\n",
    "np.mean(ensemble_predictions == y)"
   ]
  },
  {
   "cell_type": "markdown",
   "metadata": {},
   "source": [
    "As you can see, the accuracy increases as the number of models increases.\n",
    "This result is an example of the [Condorcet's Jury Theorem](http://en.wikipedia.org/wiki/Condorcet%27s_jury_theorem).\n",
    "This idea can be applied for real machine learning problems.  All we need is an **ensemble of diverse models from the same training data**.  We will discuss several ways of achieving this goal.  The general strategy for constructing ensemble classifiers is as follows:\n",
    "\n",
    "* Construct a collection diverse predictive models by tweaking the training data\n",
    "* Combine the predictions of the models, e.g. by voting\n",
    "\n",
    "The simplest implementation of this idea is through the strategy known as \"bagging\", which is described next."
   ]
  },
  {
   "cell_type": "markdown",
   "metadata": {},
   "source": [
    "### Bagging\n",
    "\n",
    "Bagging (**b**ootstrap **agg**regat**ing**) is a simple ensemble method based on the concept of a **bootstrap sample**.\n",
    "\n",
    "**Bootstrap sample:**  a sample with replacement from a dataset.\n",
    "\n",
    "For example:"
   ]
  },
  {
   "cell_type": "code",
   "execution_count": 5,
   "metadata": {},
   "outputs": [
    {
     "data": {
      "text/plain": [
       "array([7, 7, 2, 5, 5, 0, 0, 3, 8, 3])"
      ]
     },
     "execution_count": 5,
     "metadata": {},
     "output_type": "execute_result"
    }
   ],
   "source": [
    "sample = rng.choice(range(10), size=(10), replace=True)\n",
    "sample"
   ]
  },
  {
   "cell_type": "markdown",
   "metadata": {},
   "source": [
    "In a bootstrap sample, the probability that a given example is not selected when taking a bootstrap sample of size $N$ is $(1 - \\frac{1}{N})^N$.  This has a limit as $N$ goes to infinity which is equal to \n",
    "$1/e = 0.368$.  From this observation we can conclude that each bootstrap sample is likely to leave out about a third of the examples.\n",
    "\n",
    "\n",
    "**Bagging** ($\\mathcal{D}$, $\\mathcal{A}$, $T$)\n",
    "\n",
    "Input:  labeled dataset $\\mathcal{D}$, learning algorithm $\\mathcal{A}$, ensemble size $T$.\n",
    "\n",
    "Output:  ensemble of models whose predictions are combined by voting/averaging\n",
    "\n",
    "* for $t = 1,...,T$\n",
    "\n",
    "* build bootstrap sample $\\mathcal{D}_t$ by sampling $N$ data points with replacement from $\\mathcal{D}$\n",
    "* train $\\mathcal{A}$ on $\\mathcal{D}_t$ to produce a model $\\mathcal{M}_t$.\n",
    "\n",
    "return $\\mathcal{M}_1,\\ldots,\\mathcal{M}_T$.\n",
    "\n",
    "A prediction is made by voting.\n",
    "\n",
    "The algorithm was described in the following publication:\n",
    "\n",
    "> Breiman, Leo (1996). \"Bagging predictors”. Machine Learning 24 (2): 123–140.\n",
    "\n",
    "### Random forests\n",
    "\n",
    "Random forests is a special case of bagging with the following additional features:\n",
    "* Use decision trees as the base classifier\n",
    "* At each split in the decision tree, choose a subset of features from which to choose the split on.\n",
    "\n",
    "As we discussed, decision trees can be unstable with respect to perturbations of the training data.  This is not a desirable property from a learning algorithm, but is actually useful as a component in an ensemble classifier.\n",
    "Sampling the features serves to further increase the diversity of the resulting classifiers.  \n",
    "\n",
    "<img style=\"padding: 10px; float:center;\" alt=\"CC BY-SA 4.0\n",
    " by Harry585\" src=\"https://upload.wikimedia.org/wikipedia/commons/e/e3/Random_Forest_Bagging_Illustration.png\" width=\"500\">\n",
    "\n",
    "\n",
    "\n",
    "**Random Forests** ($\\mathcal{D}$, $T$, num_features)\n",
    "\n",
    "Input:  labeled dataset $\\mathcal{D}$, ensemble size $T$, and num_features, the number of features to sample for each tree.\n",
    "\n",
    "Output:  ensemble of models whose predictions are combined by voting/averaging\n",
    "\n",
    "* for $t = 1,...,T$\n",
    "\n",
    "* build bootstrap sample $\\mathcal{D}_t$ by sampling $N$ data points with replacement from $\\mathcal{D}$\n",
    "* train a decision tree on $\\mathcal{D}_t$ where each split is chosen on the basis of `num_features` random features; produce a model $\\mathcal{M}_t$.\n",
    "\n",
    "return $\\mathcal{M}_1,\\ldots,\\mathcal{M}_T$.\n",
    "\n",
    "A prediction is made by voting among the decision trees.\n",
    "\n",
    "Random forests is one of the most important methods in machine learning.  The method was described in the following publication:\n",
    "\n",
    "\n",
    "> Random forests.  L Breiman.  Machine Learning, 2001.\n",
    "\n",
    "As a first step, we will explore the shape of the decision boundary of random forests and compare it to that of decision trees."
   ]
  },
  {
   "cell_type": "code",
   "execution_count": 6,
   "metadata": {},
   "outputs": [],
   "source": [
    "from sklearn.model_selection import cross_val_score\n",
    "from sklearn.model_selection import StratifiedKFold\n",
    "\n",
    "from sklearn.tree import DecisionTreeClassifier\n",
    "from sklearn.ensemble import RandomForestClassifier"
   ]
  },
  {
   "cell_type": "code",
   "execution_count": 7,
   "metadata": {},
   "outputs": [],
   "source": [
    "def visualize_classifier(model, X, y, ax=None, cmap='viridis'):\n",
    "    ax = ax or plt.gca()\n",
    "    \n",
    "    # Plot the training points\n",
    "    ax.scatter(X[:, 0], X[:, 1], c=y, s=30, cmap=cmap, alpha=0.6, zorder=3)\n",
    "    ax.axis('tight')\n",
    "    ax.axis('off')\n",
    "    xlim = ax.get_xlim()\n",
    "    ylim = ax.get_ylim()\n",
    "    \n",
    "    # fit the estimator\n",
    "    model.fit(X, y)\n",
    "    xx, yy = np.meshgrid(np.linspace(*xlim, num=200),\n",
    "                         np.linspace(*ylim, num=200))\n",
    "    Z = model.predict(np.c_[xx.ravel(), yy.ravel()]).reshape(xx.shape)\n",
    "\n",
    "    # Create a color plot with the results\n",
    "    n_classes = len(np.unique(y))\n",
    "    contours = ax.contourf(xx, yy, Z, alpha=0.3,\n",
    "                           levels=np.arange(n_classes + 1) - 0.5,\n",
    "                           cmap=cmap,\n",
    "                           zorder=1)\n"
   ]
  },
  {
   "cell_type": "code",
   "execution_count": 8,
   "metadata": {},
   "outputs": [],
   "source": [
    "from sklearn.datasets import load_iris\n",
    "iris = load_iris()\n",
    "features = [0,1]\n",
    "X = iris.data[:, features]\n",
    "y = iris.target"
   ]
  },
  {
   "cell_type": "code",
   "execution_count": 9,
   "metadata": {},
   "outputs": [
    {
     "data": {
      "image/png": "[encoded data removed]",
      "text/plain": [
       "<Figure size 640x480 with 1 Axes>"
      ]
     },
     "metadata": {},
     "output_type": "display_data"
    }
   ],
   "source": [
    "tree = DecisionTreeClassifier()\n",
    "visualize_classifier(tree, X, y)"
   ]
  },
  {
   "cell_type": "code",
   "execution_count": 10,
   "metadata": {},
   "outputs": [
    {
     "data": {
      "image/png": "[encoded data removed]",
      "text/plain": [
       "<Figure size 640x480 with 1 Axes>"
      ]
     },
     "metadata": {},
     "output_type": "display_data"
    }
   ],
   "source": [
    "rf = RandomForestClassifier()\n",
    "visualize_classifier(rf, X, y)"
   ]
  },
  {
   "cell_type": "markdown",
   "metadata": {},
   "source": [
    "### Question\n",
    "\n",
    "What do you observe is different about the random forests decision boundary?  Can you explain why that is?"
   ]
  },
  {
   "cell_type": "markdown",
   "metadata": {},
   "source": [
    "### Accuracy comparison of random forests and decision trees\n",
    "\n",
    "We will demonstrate the accuracy advantage of random forests using a dataset whose number of features is larger than the number of training examples.  This is very common in biological datasets. this using a dataset describing the activity of a large number of genes, from which disease state can be inferred.  The particular dataset we will analyze looks at biological samples taken from leukemia patients with two types of leukemia: acute myeloid leukemia (AML) and acute lymphoblastic leukemia (ALL).  The data was taken from the following publication:\n",
    "\n",
    "> Golub, Todd R., et al. \"Molecular classification of cancer: class discovery and class prediction by gene expression monitoring.\" Science  (1999): 531-537."
   ]
  },
  {
   "cell_type": "code",
   "execution_count": 11,
   "metadata": {},
   "outputs": [],
   "source": [
    "import requests\n",
    "# if you don't have requests installed you can use urlopen which is part\n",
    "# of the python standard library\n",
    "# from urllib.request import urlopen\n",
    "\n",
    "link = \"https://web.stanford.edu/~hastie/CASI_files/DATA/leukemia_big.csv\"\n",
    "# retrieve the contents of the file\n",
    "contents = requests.get(link)"
   ]
  },
  {
   "cell_type": "code",
   "execution_count": 12,
   "metadata": {},
   "outputs": [
    {
     "name": "stdout",
     "output_type": "stream",
     "text": [
      "ALL,ALL,ALL,ALL,ALL,ALL,ALL,ALL,ALL,ALL,ALL,ALL,ALL,ALL,ALL,ALL,ALL,ALL,ALL,ALL,AML,AML,AML,AML,AML,AML,AML,AML,AML,AML,AML,AML,AML,AML,ALL,ALL,ALL,ALL,ALL,ALL,ALL,ALL,ALL,ALL,ALL,ALL,ALL,ALL,ALL,ALL,ALL,ALL,ALL,ALL,ALL,ALL,ALL,ALL,ALL,ALL,ALL,AML,AML,AML,AML,AML,AML,AML,AML,AML,AML,AML\n"
     ]
    },
    {
     "data": {
      "text/plain": [
       "((72, 7128), (72,))"
      ]
     },
     "execution_count": 12,
     "metadata": {},
     "output_type": "execute_result"
    }
   ],
   "source": [
    "lines = contents.text.split()\n",
    "# the data is in csv format and the labels appear in the first \n",
    "# row of the dataset:\n",
    "print (lines[0])\n",
    "class_convert = {'ALL':1, 'AML':0}\n",
    "y = np.array([class_convert[token] for token in lines[0].split(',')])\n",
    "X = np.array([ [float(token) for token in line.split(',')] \n",
    "              for line in lines[1:] ])\n",
    "X = X.transpose()\n",
    "X.shape,y.shape"
   ]
  },
  {
   "cell_type": "code",
   "execution_count": 13,
   "metadata": {},
   "outputs": [
    {
     "data": {
      "text/plain": [
       "0.817"
      ]
     },
     "execution_count": 13,
     "metadata": {},
     "output_type": "execute_result"
    }
   ],
   "source": [
    "classifier = DecisionTreeClassifier()\n",
    "\n",
    "cv = StratifiedKFold(n_splits=5, random_state=42, shuffle=True)\n",
    "accuracy = cross_val_score(classifier, X, y, cv=cv, scoring='accuracy')\n",
    "round(np.mean(accuracy), 3)"
   ]
  },
  {
   "cell_type": "markdown",
   "metadata": {},
   "source": [
    "Next, let us apply random forests and observe the improvment in accuracy:"
   ]
  },
  {
   "cell_type": "code",
   "execution_count": 14,
   "metadata": {},
   "outputs": [
    {
     "data": {
      "text/plain": [
       "0.986"
      ]
     },
     "execution_count": 14,
     "metadata": {},
     "output_type": "execute_result"
    }
   ],
   "source": [
    "classifier = RandomForestClassifier(n_estimators=100)\n",
    "\n",
    "accuracy = cross_val_score(classifier, X, y, cv=cv, scoring='accuracy')\n",
    "round(np.mean(accuracy), 3)"
   ]
  },
  {
   "cell_type": "markdown",
   "metadata": {},
   "source": [
    "As you can see from our next experiment, bagging doesn't seem to work as well:"
   ]
  },
  {
   "cell_type": "code",
   "execution_count": null,
   "metadata": {},
   "outputs": [],
   "source": [
    "from sklearn.ensemble import BaggingClassifier\n",
    "\n",
    "bag = BaggingClassifier(DecisionTreeClassifier(), \n",
    "                        n_estimators=100)\n",
    "accuracy = cross_val_score(bag, X, y, cv=cv, scoring='accuracy')\n",
    "round(np.mean(accuracy), 3)                          "
   ]
  },
  {
   "cell_type": "markdown",
   "metadata": {},
   "source": [
    "### Additional features of random forests\n",
    "\n",
    "Random forests have additional features that are worth noting: \n",
    "\n",
    "* Error estimation during training using out-of-bag data.  Out of bag data are examples that were not selected in a given bootstrap sample.\n",
    "* Variable importance; random forests also generates a score for each feature according to its contribution to accuracy on out-of-bag examples.\n"
   ]
  },
  {
   "cell_type": "markdown",
   "metadata": {},
   "source": [
    "### Exercise\n",
    "\n",
    "* Using the heart disease dataset, compute the accuracy of random forests as a function of the number of trees (start with number of trees equal to 1).  Does accuracy improve if you standardize the data?"
   ]
  },
  {
   "cell_type": "code",
   "execution_count": null,
   "metadata": {},
   "outputs": [],
   "source": [
    "import pandas as pd\n",
    "from sklearn.preprocessing import StandardScaler\n",
    "\n",
    "heart_url = \"https://archive.ics.uci.edu/ml/machine-learning-databases/heart-disease/processed.cleveland.data\"\n",
    "heart_data = pd.read_csv(heart_url, header=None, \n",
    "                         na_values='?', dtype=np.float64).values\n",
    "nan_examples = np.any(np.isnan(heart_data), axis=1)\n",
    "heart_data = heart_data[~nan_examples]\n",
    "X = heart_data[:,:-1]\n",
    "y = np.array((heart_data[:,-1] > 0), dtype=np.int32)"
   ]
  },
  {
   "cell_type": "markdown",
   "metadata": {},
   "source": [
    "\n",
    "\n",
    "### Related methods:  boosting\n",
    "\n",
    "Boosting is similar to bagging, but uses a more sophisticated method for constructing its diverse training sets.\n",
    "Boosting classifiers are constructed iteratively and the main idea is to focus training of the next classifier on examples that previous classifiers made errors on.\n",
    "Furthermore, each classifier is assigned a confidence value that depends on its accuracy.\n",
    "The gradient boosting flavor of this method, along with random forests, were shown to achieve state-of-the accuracy on many problems.\n",
    "\n",
    "### Summary\n",
    "\n",
    "* Bagging and random forests provide a big improvement in accuracy over decision trees.\n",
    "* Training and prediction are fast.  The method is highly parallelizable.\n",
    "* Very flexible model, and yet not very susceptible to overfitting.\n",
    "* Able to handle missing data.\n",
    "* Useful variable importance measure obtained as part of the training procedure.\n",
    "* Works well out of the box, and is a good baseline classifier.\n",
    "\n",
    "Research has shown that random forests is one of the best classifiers available.  In a 2014 comparison of a large selection of methods, random forests and SVMs have demonstrated themselves as the two best options.  See:\n",
    "\n",
    "> Fernández-Delgado, Manuel, et al. \"[Do we need hundreds of classifiers to solve real world classification problems?](https://jmlr.csail.mit.edu/papers/volume15/delgado14a/delgado14a.pdf).\" The journal of machine learning research 15.1 (2014): 3133-3181.\n",
    "\n",
    "However, note that this was before the era of deep learning, and for rather standard prediction problems."
   ]
  }
 ],
 "metadata": {
  "kernelspec": {
   "display_name": "Python 3 (ipykernel)",
   "language": "python",
   "name": "python3"
  },
  "language_info": {
   "codemirror_mode": {
    "name": "ipython",
    "version": 3
   },
   "file_extension": ".py",
   "mimetype": "text/x-python",
   "name": "python",
   "nbconvert_exporter": "python",
   "pygments_lexer": "ipython3",
   "version": "3.10.9"
  }
 },
 "nbformat": 4,
 "nbformat_minor": 4
}
