{
 "cells": [
  {
   "cell_type": "markdown",
   "metadata": {},
   "source": [
    "*This notebook is part of  course materials for CS 345: Machine Learning Foundations and Practice at Colorado State University.\n",
    "Original versions were created by Asa Ben-Hur.\n",
    "The content is availabe [on GitHub](https://github.com/asabenhur/CS345).*\n",
    "\n",
    "*The text is released under the [CC BY-SA license](https://creativecommons.org/licenses/by-sa/4.0/), and code is released under the [MIT license](https://opensource.org/licenses/MIT).*"
   ]
  },
  {
   "cell_type": "markdown",
   "metadata": {},
   "source": [
    "<a href=\"https://colab.research.google.com/github//asabenhur/CS345/blob/master/fall23/notebooks/module03_02_linear_regression.ipynb\">\n",
    "  <img align=\"left\" src=\"https://colab.research.google.com/assets/colab-badge.svg\" alt=\"Open In Colab\"/>\n",
    "</a>"
   ]
  },
  {
   "cell_type": "code",
   "execution_count": 1,
   "metadata": {},
   "outputs": [],
   "source": [
    "import numpy as np\n",
    "import matplotlib.pyplot as plt\n",
    "np.set_printoptions(precision=4)"
   ]
  },
  {
   "cell_type": "markdown",
   "metadata": {},
   "source": [
    "# Linear Regression\n",
    "\n",
    "*Adapted from Chapter 3 of [An Introduction to Statistical Learning](https://www.statlearning.com/)*"
   ]
  },
  {
   "cell_type": "markdown",
   "metadata": {},
   "source": [
    "### Regression problems"
   ]
  },
  {
   "cell_type": "markdown",
   "metadata": {},
   "source": [
    "The two primary types of machine learning problems we will focus on in this course are:\n",
    "\n",
    "* **Classification problems:** supervised learning problems with a categorical label\n",
    "* **Regression problems**: supervised learning problems with a continuous label\n",
    "\n",
    "In this notebook we will learn one of the simplest methods for regression, namely **linear regression**.\n",
    "\n",
    "Why learn linear regression?\n",
    "\n",
    "- Fast\n",
    "- Easy to use\n",
    "- Interpretable\n",
    "- Basis for many other methods\n"
   ]
  },
  {
   "cell_type": "markdown",
   "metadata": {},
   "source": [
    "### The advertising data"
   ]
  },
  {
   "cell_type": "markdown",
   "metadata": {},
   "source": [
    "To illustrate the concept of linear regression we will use a dataset that describes product sales as a function of advertising.\n",
    "\n",
    "What are the examples?\n",
    "\n",
    "- Each example represents a product in a given market (total number of examples:  200).\n",
    "\n",
    "What are the features?\n",
    "\n",
    "- **TV:** advertising dollars spent on TV ads \n",
    "- **radio:** advertising dollars spent on radio ads\n",
    "- **newspaper:** advertising dollars spent on newspaper ads\n",
    "\n",
    "All expenditures are in thousands of dollars.\n",
    "\n",
    "What are the labels?\n",
    "\n",
    "- **sales:** sales of a product in a given market (in thousands of widgets)\n"
   ]
  },
  {
   "cell_type": "code",
   "execution_count": 4,
   "metadata": {},
   "outputs": [
    {
     "data": {
      "text/html": [
       "<div>\n",
       "<style scoped>\n",
       "    .dataframe tbody tr th:only-of-type {\n",
       "        vertical-align: middle;\n",
       "    }\n",
       "\n",
       "    .dataframe tbody tr th {\n",
       "        vertical-align: top;\n",
       "    }\n",
       "\n",
       "    .dataframe thead th {\n",
       "        text-align: right;\n",
       "    }\n",
       "</style>\n",
       "<table border=\"1\" class=\"dataframe\">\n",
       "  <thead>\n",
       "    <tr style=\"text-align: right;\">\n",
       "      <th></th>\n",
       "      <th>TV</th>\n",
       "      <th>radio</th>\n",
       "      <th>newspaper</th>\n",
       "      <th>sales</th>\n",
       "    </tr>\n",
       "  </thead>\n",
       "  <tbody>\n",
       "    <tr>\n",
       "      <th>1</th>\n",
       "      <td>230.1</td>\n",
       "      <td>37.8</td>\n",
       "      <td>69.2</td>\n",
       "      <td>22.1</td>\n",
       "    </tr>\n",
       "    <tr>\n",
       "      <th>2</th>\n",
       "      <td>44.5</td>\n",
       "      <td>39.3</td>\n",
       "      <td>45.1</td>\n",
       "      <td>10.4</td>\n",
       "    </tr>\n",
       "    <tr>\n",
       "      <th>3</th>\n",
       "      <td>17.2</td>\n",
       "      <td>45.9</td>\n",
       "      <td>69.3</td>\n",
       "      <td>9.3</td>\n",
       "    </tr>\n",
       "    <tr>\n",
       "      <th>4</th>\n",
       "      <td>151.5</td>\n",
       "      <td>41.3</td>\n",
       "      <td>58.5</td>\n",
       "      <td>18.5</td>\n",
       "    </tr>\n",
       "    <tr>\n",
       "      <th>5</th>\n",
       "      <td>180.8</td>\n",
       "      <td>10.8</td>\n",
       "      <td>58.4</td>\n",
       "      <td>12.9</td>\n",
       "    </tr>\n",
       "  </tbody>\n",
       "</table>\n",
       "</div>"
      ],
      "text/plain": [
       "      TV  radio  newspaper  sales\n",
       "1  230.1   37.8       69.2   22.1\n",
       "2   44.5   39.3       45.1   10.4\n",
       "3   17.2   45.9       69.3    9.3\n",
       "4  151.5   41.3       58.5   18.5\n",
       "5  180.8   10.8       58.4   12.9"
      ]
     },
     "execution_count": 4,
     "metadata": {},
     "output_type": "execute_result"
    }
   ],
   "source": [
    "# read data into a pandas DataFrame\n",
    "import pandas as pd\n",
    "data = pd.read_csv('https://www.statlearning.com/s/Advertising.csv',index_col=0)\n",
    "data.head()"
   ]
  },
  {
   "cell_type": "code",
   "execution_count": 3,
   "metadata": {},
   "outputs": [
    {
     "data": {
      "text/plain": [
       "200"
      ]
     },
     "execution_count": 3,
     "metadata": {},
     "output_type": "execute_result"
    }
   ],
   "source": [
    "len(data)"
   ]
  },
  {
   "cell_type": "markdown",
   "metadata": {},
   "source": [
    "### How can you help?\n",
    "\n",
    "You are asked by the company: On the basis of this data, how should we spend our advertising money?\n",
    "\n",
    "As their machine learning / data scientist, you offer more specific help:\n",
    "\n",
    "* Is there a relationship between ads and sales?\n",
    "* How strong is that relationship?\n",
    "* Which ad types contribute to sales?\n",
    "* What is the effect of each ad type on sales?\n",
    "* Given ad spending in a particular market, can sales be predicted?\n"
   ]
  },
  {
   "cell_type": "markdown",
   "metadata": {},
   "source": [
    "### Visualizing the data\n",
    "\n",
    "We'll use a **scatter plot** to visualize the relationship between the features and the labels."
   ]
  },
  {
   "cell_type": "code",
   "execution_count": 4,
   "metadata": {},
   "outputs": [
    {
     "data": {
      "image/png": "[encoded data removed]",
      "text/plain": [
       "<Figure size 864x288 with 3 Axes>"
      ]
     },
     "metadata": {
      "needs_background": "light"
     },
     "output_type": "display_data"
    }
   ],
   "source": [
    "fig, (ax1,ax2,ax3) = plt.subplots(1,3, figsize=(12, 4))\n",
    "ax1.scatter(data['TV'], data['sales'], alpha=0.5)\n",
    "ax1.set_xlabel('TV')\n",
    "ax1.set_ylabel('sales')\n",
    "ax2.scatter(data['radio'], data['sales'], alpha=0.5)\n",
    "ax2.set_xlabel('radio')\n",
    "ax3.scatter(data['newspaper'], data['sales'], alpha=0.5)\n",
    "ax3.set_xlabel('newspaper');"
   ]
  },
  {
   "cell_type": "markdown",
   "metadata": {},
   "source": [
    "These figures show that there is a relationship between these features and the labels, and some features appear to be more predictive of the response (the label, $y$). We can quantify the strength of the relationships between variables by computing the correlation matrix:"
   ]
  },
  {
   "cell_type": "code",
   "execution_count": 5,
   "metadata": {},
   "outputs": [
    {
     "data": {
      "text/html": [
       "<div>\n",
       "<style scoped>\n",
       "    .dataframe tbody tr th:only-of-type {\n",
       "        vertical-align: middle;\n",
       "    }\n",
       "\n",
       "    .dataframe tbody tr th {\n",
       "        vertical-align: top;\n",
       "    }\n",
       "\n",
       "    .dataframe thead th {\n",
       "        text-align: right;\n",
       "    }\n",
       "</style>\n",
       "<table border=\"1\" class=\"dataframe\">\n",
       "  <thead>\n",
       "    <tr style=\"text-align: right;\">\n",
       "      <th></th>\n",
       "      <th>TV</th>\n",
       "      <th>radio</th>\n",
       "      <th>newspaper</th>\n",
       "      <th>sales</th>\n",
       "    </tr>\n",
       "  </thead>\n",
       "  <tbody>\n",
       "    <tr>\n",
       "      <th>TV</th>\n",
       "      <td>1.000000</td>\n",
       "      <td>0.054809</td>\n",
       "      <td>0.056648</td>\n",
       "      <td>0.782224</td>\n",
       "    </tr>\n",
       "    <tr>\n",
       "      <th>radio</th>\n",
       "      <td>0.054809</td>\n",
       "      <td>1.000000</td>\n",
       "      <td>0.354104</td>\n",
       "      <td>0.576223</td>\n",
       "    </tr>\n",
       "    <tr>\n",
       "      <th>newspaper</th>\n",
       "      <td>0.056648</td>\n",
       "      <td>0.354104</td>\n",
       "      <td>1.000000</td>\n",
       "      <td>0.228299</td>\n",
       "    </tr>\n",
       "    <tr>\n",
       "      <th>sales</th>\n",
       "      <td>0.782224</td>\n",
       "      <td>0.576223</td>\n",
       "      <td>0.228299</td>\n",
       "      <td>1.000000</td>\n",
       "    </tr>\n",
       "  </tbody>\n",
       "</table>\n",
       "</div>"
      ],
      "text/plain": [
       "                 TV     radio  newspaper     sales\n",
       "TV         1.000000  0.054809   0.056648  0.782224\n",
       "radio      0.054809  1.000000   0.354104  0.576223\n",
       "newspaper  0.056648  0.354104   1.000000  0.228299\n",
       "sales      0.782224  0.576223   0.228299  1.000000"
      ]
     },
     "execution_count": 5,
     "metadata": {},
     "output_type": "execute_result"
    }
   ],
   "source": [
    "# compute the correlation matrix\n",
    "data.corr()"
   ]
  },
  {
   "cell_type": "markdown",
   "metadata": {},
   "source": [
    "### A Deeper Dive into Correlation\n",
    "\n",
    "If you are looking for a rough English phrase to loosely describe correlation try this: correlation measures how much one variable's movements track the movements of another.  \n",
    "\n",
    "Moving toward a more formal definition, correlation quantifies the strength of the **linear** relationship between two variables.  \n",
    "\n",
    "\n",
    "Here's a figure that illustrates the concept:\n",
    "![correlation figure from wikipedia](https://upload.wikimedia.org/wikipedia/commons/d/d4/Correlation_examples2.svg)\n"
   ]
  },
  {
   "cell_type": "markdown",
   "metadata": {},
   "source": [
    "\n",
    "Informed applied data analysts use the concept of correlation constantly and develop an intuition for the measure. Our goal here is to give you some additional geometric intuition for correlation that may or may not be part of most people's tool box. \n",
    "\n",
    "To start, here is the equation that defines the [Pearson correlation coefficient](https://en.wikipedia.org/wiki/Pearson_correlation_coefficient) between two random variables $X$ and $Y$ with observed samples $(x_1,\\ldots,x_n)$ and $(y_1,\\ldots,y_n)$:\n",
    "\n",
    "$$\n",
    "r_{xy} = \\frac{\\sum_{i=1}^{n}{(x_i} - \\bar{x})(y_i - \\bar{y})}\n",
    "            {\\sqrt{\\sum_{i=1}^{n}{(x_i - \\bar{x})^2}\\sum_{i=1}^{n}{(y_i - \\bar{y})^2}}}.\n",
    "$$\n",
    "\n",
    "Here $\\bar{x}$ and $\\bar{y}$ are the means of $X$ and $Y$, respectively.  Although we typically use the letter $y$ to denote labels, the $Y$ here can be any variable of interest.\n",
    "We can take this definition and relate it to something we already understand - dot products!\n",
    "\n",
    "First, let's look closely at the numerator in the equation above.  What you see is the average of each vector $\\bar{x}$ is being subtracted from each sample.  What would happen if $\\bar{x}$ and $\\bar{y}$ were both zero?  The numerator would reduce to:\n",
    "\n",
    "$$\n",
    "\\sum_{i=1}^{n}{x^{\\prime}_i y^{\\prime}_i}, ~~\\mathrm{where}~~\n",
    "       \\;\\;\\; x_i^{\\prime} = x_i - \\bar{x}, \\;y_i^{\\prime} = y_i - \\bar{y}\n",
    "$$\n",
    "\n",
    "In words, the numerator is just the dot product between the mean subtracted vectors.\n",
    "\n",
    "Now look at the denominator:\n",
    "\n",
    "$$\n",
    "\\sqrt{\\sum_{i=1}^{n}{(x_i - \\bar{x})^2}\\sum_{i=1}^{n}{(y_i - \\bar{y})^2}}\n",
    "$$\n",
    "\n",
    "Let's express it using our mean-subtracted vectors:\n",
    "\n",
    "$$\n",
    "\\sqrt{\\sum_{i=1}^{n}{(x_i^\\prime)^2}\\sum_{i=1}^{n}{(y_i^\\prime)^2}}\n",
    "$$\n",
    "\n",
    "\n",
    "Finally, let's express the correlation in terms of the mean-subtracted vectors:\n",
    "\n",
    "$$\n",
    "r_{xy} = \\sum_{i=1}^n \\frac{x_i^\\prime}{\\sqrt{\\sum_{j=1}^{n}{(x^{\\prime}_j)^2}}} \\frac{y_i^\\prime}{\\sqrt{\\sum_{j=1}^{n}{(y^{\\prime}_j)^2}}}\n",
    "$$\n",
    "\n",
    "In the denominators we have the magnitude of the mean-subtracted vectors, i.e. what we have here is the dot product between two unit vectors, i.e. the cosine of the angle between the mean subtracted vectors!  This both gives us a geometric intuition about correlation, and also tells us that its magnitude is between -1 and 1.\n",
    "\n",
    "Let's demonstrate that on the sales data"
   ]
  },
  {
   "cell_type": "code",
   "execution_count": 6,
   "metadata": {},
   "outputs": [
    {
     "data": {
      "text/plain": [
       "((200, 1), (200,))"
      ]
     },
     "execution_count": 6,
     "metadata": {},
     "output_type": "execute_result"
    }
   ],
   "source": [
    "# create feature matrix and vector of labels\n",
    "X = data[['TV']].values\n",
    "y = data['sales'].values\n",
    "X.shape, y.shape"
   ]
  },
  {
   "cell_type": "code",
   "execution_count": 7,
   "metadata": {},
   "outputs": [
    {
     "data": {
      "text/plain": [
       "0.7822244248616064"
      ]
     },
     "execution_count": 7,
     "metadata": {},
     "output_type": "execute_result"
    }
   ],
   "source": [
    "# create feature matrix and vector of labels\n",
    "X = data[['TV']].values\n",
    "y = data['sales'].values\n",
    "\n",
    "x = X[:,0]\n",
    "x_centered = x - np.mean(x)\n",
    "y_centered = y - np.mean(y)\n",
    "(x_centered / np.linalg.norm(x_centered)) @ \\\n",
    "    (y_centered / np.linalg.norm(y_centered))"
   ]
  },
  {
   "cell_type": "markdown",
   "metadata": {},
   "source": [
    "Let's verify the result with the NumPy implementation:"
   ]
  },
  {
   "cell_type": "code",
   "execution_count": 8,
   "metadata": {},
   "outputs": [
    {
     "data": {
      "text/plain": [
       "array([[1.    , 0.7822],\n",
       "       [0.7822, 1.    ]])"
      ]
     },
     "execution_count": 8,
     "metadata": {},
     "output_type": "execute_result"
    }
   ],
   "source": [
    "np.corrcoef(x, y)"
   ]
  },
  {
   "cell_type": "markdown",
   "metadata": {},
   "source": [
    "\n",
    "### Linear regression on the advertising data\n",
    "\n",
    "Next, we will use scikit-learn to perform linear regression to predict sales:"
   ]
  },
  {
   "cell_type": "code",
   "execution_count": 9,
   "metadata": {},
   "outputs": [
    {
     "data": {
      "image/png": "[encoded data removed]",
      "text/plain": [
       "<Figure size 504x504 with 1 Axes>"
      ]
     },
     "metadata": {
      "needs_background": "light"
     },
     "output_type": "display_data"
    }
   ],
   "source": [
    "from sklearn.linear_model import LinearRegression\n",
    "\n",
    "# instantiate, fit, and predict:\n",
    "linreg = LinearRegression()\n",
    "linreg.fit(X, y)\n",
    "y_pred = linreg.predict(X)\n",
    "\n",
    "# plot the reslts\n",
    "fig = plt.figure(figsize=(7,7))\n",
    "ax  = fig.add_subplot(111)\n",
    "\n",
    "ax.scatter(X, y,  color='blue', alpha=0.5, label = 'data')\n",
    "ax.plot(X, y_pred, color='black', alpha=0.8,linewidth=2, label = 'model')\n",
    "ax.set_xlabel('TV advertising (thousands of dollars)')\n",
    "ax.set_ylabel('Widget sales (in thousands)')\n",
    "ax.legend(loc=\"best\");"
   ]
  },
  {
   "cell_type": "markdown",
   "metadata": {},
   "source": [
    "### Linear regression in one dimension"
   ]
  },
  {
   "cell_type": "markdown",
   "metadata": {},
   "source": [
    "In one dimension, linear regression takes the following form:\n",
    "\n",
    "$$y =  wx + b$$\n",
    "\n",
    "where:\n",
    "\n",
    "- $y$ is the label\n",
    "- $x$ is the feature\n",
    "- $b$ is the bias, or intercept in this case\n",
    "- $w$ is the parameter corresponding to x\n",
    "\n",
    "The variables $w$ and $b$ are the **model parameters**, which are learned during the training process.  The resulting model can then be used to predict the label, which in the context of regression, is also called the *response*.\n"
   ]
  },
  {
   "cell_type": "code",
   "execution_count": 10,
   "metadata": {
    "hideCode": false,
    "hidePrompt": false
   },
   "outputs": [
    {
     "data": {
      "image/png": "[encoded data removed]",
      "text/plain": [
       "<Figure size 432x288 with 1 Axes>"
      ]
     },
     "metadata": {
      "needs_background": "light"
     },
     "output_type": "display_data"
    }
   ],
   "source": [
    "# create some random data\n",
    "from numpy.random import default_rng\n",
    "num_examples = 15\n",
    "rng = default_rng(5)\n",
    "x = 10 * rng.random(num_examples)\n",
    "y = 2 * x - 5 + rng.standard_normal(num_examples)* 5\n",
    "\n",
    "# instantiate and fit\n",
    "model = LinearRegression()\n",
    "model.fit(x[:, np.newaxis], y)\n",
    "\n",
    "# data for plotting the regression line\n",
    "xs = np.linspace(0, 10, 1000)\n",
    "ys = model.predict(xs[:, np.newaxis])\n",
    "\n",
    "# plot the regression line\n",
    "plt.scatter(x, y, alpha=0.5)\n",
    "plt.plot(xs, ys)\n",
    "\n",
    "# the predictions over the training data\n",
    "y_hat = model.predict(x[:, np.newaxis])\n",
    "\n",
    "for i in range(len(x)):\n",
    "    plt.arrow(x[i],y_hat[i], 0, y[i]-y_hat[i])\n",
    "plt.text(x[0]+0.1, y[0]+2, r'$y_i-\\hat{y}_i$', fontsize = 14);\n",
    "plt.annotate(r'$\\hat{y} = wx + b$', fontsize=14, xy=(xs[200], ys[200]), \n",
    "             xytext=(xs[400]-3, ys[400]+7),\n",
    "             arrowprops=dict(facecolor='black',width=1,headwidth=6));"
   ]
  },
  {
   "cell_type": "markdown",
   "metadata": {},
   "source": [
    "### Learning the model \n",
    "\n",
    "In the figure above:\n",
    "\n",
    "- The dots are the **observed values** of x and y.\n",
    "- The blue line is the **least squares line**.\n",
    "- The black lines are the **residuals**, which are the distances between the observed values and the least squares line.  These are used to compute the **sum of squared error**.\n",
    "\n",
    "Coefficients are estimated during the model fitting process using the **least squares criterion**.\n",
    "\n",
    "How do the model parameters relate to the least squares line?\n",
    "\n",
    "- $w$ is the **slope**\n",
    "- $b$ is the **intercept** (the value of $y$ when $x$=0)\n",
    "\n",
    "The parameters $(w,b)$ are chosen as to minimize the sum-squared error:\n",
    "$$\n",
    "J( w,b ) = \\sum_{i=1}^N (y_i - \\hat{y}_i)^2,\n",
    "$$\n",
    "\n",
    "where $y_i$ are the known labels and $\\hat{y}_i = w x_i + b$ are the predicted labels."
   ]
  },
  {
   "cell_type": "markdown",
   "metadata": {},
   "source": [
    "### Interpreting model parameters\n",
    "\n",
    "The regression coefficient $w$ which corresponds to the TV feature has the following interpretation:\n",
    "\n",
    "- A unit increase in TV ad spending is associated with an increase of $w$ units in sales.\n",
    "- This is not a statement of **causation**.\n",
    "\n",
    "If an increase in TV ad spending was associated with a **decrease** in sales, $w$ would be **negative**.\n",
    "\n",
    "Let's test this out on the advertising data:"
   ]
  },
  {
   "cell_type": "code",
   "execution_count": 11,
   "metadata": {},
   "outputs": [
    {
     "name": "stdout",
     "output_type": "stream",
     "text": [
      "The w model parameter is 0.048\n",
      "The b model parameter is 7.033\n",
      "Increasing TV advertising from 100 to 200 increases predicted sales from 11.8 to 16.5 thousand widgets\n"
     ]
    },
    {
     "data": {
      "image/png": "[encoded data removed]",
      "text/plain": [
       "<Figure size 504x504 with 1 Axes>"
      ]
     },
     "metadata": {
      "needs_background": "light"
     },
     "output_type": "display_data"
    }
   ],
   "source": [
    "# create X and y\n",
    "X = data[['TV']].values\n",
    "y = data['sales'].values\n",
    "\n",
    "# instantiate and fit\n",
    "linreg = LinearRegression()\n",
    "linreg.fit(X, y)\n",
    "\n",
    "w = linreg.coef_[0]\n",
    "b = linreg.intercept_\n",
    "\n",
    "# print the coefficients\n",
    "print(f'The w model parameter is {w:.3f}')\n",
    "print(f'The b model parameter is {b:.3f}')\n",
    "\n",
    "sales_100 = w * 100 + b\n",
    "sales_200 = w * 200 + b\n",
    "print('Increasing TV advertising from 100 to 200 increases predicted sales'+\n",
    "      f' from {sales_100:.1f} to {sales_200:.1f} thousand widgets')\n",
    "\n",
    "# plot the reslts\n",
    "fig = plt.figure(figsize=(7,7))\n",
    "ax  = fig.add_subplot(111)\n",
    "\n",
    "ax.scatter(X, y,  color='blue', alpha=0.5, label = 'data')\n",
    "ax.plot(X, y_pred, color='black', alpha=0.8,linewidth=2, label = 'model')\n",
    "ax.set_xlabel('TV advertising (thousands of dollars)')\n",
    "ax.set_ylabel('Widget sales (in thousands)')\n",
    "ax.legend(loc=\"best\");"
   ]
  },
  {
   "cell_type": "markdown",
   "metadata": {},
   "source": [
    "### Using the model for prediction\n",
    "\n",
    "Let's say that there was a new market where the TV advertising budget was **$50,000**. What would be the predicted sales in that market?\n"
   ]
  },
  {
   "cell_type": "code",
   "execution_count": 12,
   "metadata": {},
   "outputs": [
    {
     "data": {
      "text/plain": [
       "9.409425570778682"
      ]
     },
     "execution_count": 12,
     "metadata": {},
     "output_type": "execute_result"
    }
   ],
   "source": [
    "# compute using the formula w * x + b:\n",
    "linreg.coef_[0] * 50 + linreg.intercept_"
   ]
  },
  {
   "cell_type": "code",
   "execution_count": 13,
   "metadata": {},
   "outputs": [
    {
     "data": {
      "text/plain": [
       "array([9.4094])"
      ]
     },
     "execution_count": 13,
     "metadata": {},
     "output_type": "execute_result"
    }
   ],
   "source": [
    "# or using the predict method:\n",
    "linreg.predict(np.array([[50]]))"
   ]
  }
 ],
 "metadata": {
  "anaconda-cloud": {},
  "kernelspec": {
   "display_name": "Python 3 (ipykernel)",
   "language": "python",
   "name": "python3"
  },
  "language_info": {
   "codemirror_mode": {
    "name": "ipython",
    "version": 3
   },
   "file_extension": ".py",
   "mimetype": "text/x-python",
   "name": "python",
   "nbconvert_exporter": "python",
   "pygments_lexer": "ipython3",
   "version": "3.10.9"
  }
 },
 "nbformat": 4,
 "nbformat_minor": 1
}
